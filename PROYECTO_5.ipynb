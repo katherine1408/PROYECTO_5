{
 "cells": [
  {
   "cell_type": "markdown",
   "metadata": {
    "id": "3rYiDeEH0q0f"
   },
   "source": [
    "# ¿Cuál es la mejor tarifa?\n",
    "\n",
    "Trabajas como analista para el operador de telecomunicaciones Megaline. La empresa ofrece a sus clientes dos tarifas de prepago, Surf y Ultimate. El departamento comercial quiere saber cuál de las tarifas genera más ingresos para poder ajustar el presupuesto de publicidad.\n",
    "\n",
    "Vas a realizar un análisis preliminar de las tarifas basado en una selección de clientes relativamente pequeña. Tendrás los datos de 500 clientes de Megaline: quiénes son los clientes, de dónde son, qué tarifa usan, así como la cantidad de llamadas que hicieron y los mensajes de texto que enviaron en 2018. Tu trabajo es analizar el comportamiento de los clientes y determinar qué tarifa de prepago genera más ingresos."
   ]
  },
  {
   "cell_type": "markdown",
   "metadata": {
    "id": "MQi4IPy70q0y"
   },
   "source": [
    "## Inicialización"
   ]
  },
  {
   "cell_type": "code",
   "execution_count": 1,
   "metadata": {
    "id": "MtYIuBxu0q0z"
   },
   "outputs": [],
   "source": [
    "# Cargar todas las librerías\n",
    "import pandas as pd\n",
    "import numpy as np\n",
    "import matplotlib.pyplot as plt\n",
    "import math\n",
    "from scipy import stats\n",
    "from scipy.stats import ttest_ind, levene"
   ]
  },
  {
   "cell_type": "markdown",
   "metadata": {
    "id": "4ysWWC5i0q00"
   },
   "source": [
    "## Cargar datos"
   ]
  },
  {
   "cell_type": "code",
   "execution_count": 2,
   "metadata": {
    "id": "CCqPW7rS0q01"
   },
   "outputs": [],
   "source": [
    "### Carga los archivos de datos en diferentes DataFrames\n",
    "\n",
    "llamadas_df= pd.read_csv('/datasets/megaline_calls.csv')\n",
    "internet_df= pd.read_csv('/datasets/megaline_internet.csv')\n",
    "mensajes_df= pd.read_csv('/datasets/megaline_messages.csv')\n",
    "planes_df  = pd.read_csv('/datasets/megaline_plans.csv')\n",
    "user_df    = pd.read_csv('/datasets/megaline_users.csv')\n"
   ]
  },
  {
   "cell_type": "markdown",
   "metadata": {
    "id": "69qqoJ3r0q01"
   },
   "source": [
    "## Preparar los datos"
   ]
  },
  {
   "cell_type": "markdown",
   "metadata": {
    "id": "ohBhimvH0q01"
   },
   "source": [
    "## Tarifas"
   ]
  },
  {
   "cell_type": "code",
   "execution_count": 3,
   "metadata": {
    "id": "GptqP3Q40q02"
   },
   "outputs": [
    {
     "name": "stdout",
     "output_type": "stream",
     "text": [
      "<class 'pandas.core.frame.DataFrame'>\n",
      "RangeIndex: 2 entries, 0 to 1\n",
      "Data columns (total 8 columns):\n",
      " #   Column                 Non-Null Count  Dtype  \n",
      "---  ------                 --------------  -----  \n",
      " 0   messages_included      2 non-null      int64  \n",
      " 1   mb_per_month_included  2 non-null      int64  \n",
      " 2   minutes_included       2 non-null      int64  \n",
      " 3   usd_monthly_pay        2 non-null      int64  \n",
      " 4   usd_per_gb             2 non-null      int64  \n",
      " 5   usd_per_message        2 non-null      float64\n",
      " 6   usd_per_minute         2 non-null      float64\n",
      " 7   plan_name              2 non-null      object \n",
      "dtypes: float64(2), int64(5), object(1)\n",
      "memory usage: 256.0+ bytes\n"
     ]
    }
   ],
   "source": [
    "# Imprime la información general/resumida sobre el DataFrame de las tarifas\n",
    "planes_df.info()\n"
   ]
  },
  {
   "cell_type": "code",
   "execution_count": 4,
   "metadata": {
    "id": "64xzjwL70q02"
   },
   "outputs": [
    {
     "data": {
      "text/html": [
       "<div>\n",
       "<style scoped>\n",
       "    .dataframe tbody tr th:only-of-type {\n",
       "        vertical-align: middle;\n",
       "    }\n",
       "\n",
       "    .dataframe tbody tr th {\n",
       "        vertical-align: top;\n",
       "    }\n",
       "\n",
       "    .dataframe thead th {\n",
       "        text-align: right;\n",
       "    }\n",
       "</style>\n",
       "<table border=\"1\" class=\"dataframe\">\n",
       "  <thead>\n",
       "    <tr style=\"text-align: right;\">\n",
       "      <th></th>\n",
       "      <th>messages_included</th>\n",
       "      <th>mb_per_month_included</th>\n",
       "      <th>minutes_included</th>\n",
       "      <th>usd_monthly_pay</th>\n",
       "      <th>usd_per_gb</th>\n",
       "      <th>usd_per_message</th>\n",
       "      <th>usd_per_minute</th>\n",
       "      <th>plan_name</th>\n",
       "    </tr>\n",
       "  </thead>\n",
       "  <tbody>\n",
       "    <tr>\n",
       "      <th>0</th>\n",
       "      <td>50</td>\n",
       "      <td>15360</td>\n",
       "      <td>500</td>\n",
       "      <td>20</td>\n",
       "      <td>10</td>\n",
       "      <td>0.03</td>\n",
       "      <td>0.03</td>\n",
       "      <td>surf</td>\n",
       "    </tr>\n",
       "    <tr>\n",
       "      <th>1</th>\n",
       "      <td>1000</td>\n",
       "      <td>30720</td>\n",
       "      <td>3000</td>\n",
       "      <td>70</td>\n",
       "      <td>7</td>\n",
       "      <td>0.01</td>\n",
       "      <td>0.01</td>\n",
       "      <td>ultimate</td>\n",
       "    </tr>\n",
       "  </tbody>\n",
       "</table>\n",
       "</div>"
      ],
      "text/plain": [
       "   messages_included  mb_per_month_included  minutes_included  \\\n",
       "0                 50                  15360               500   \n",
       "1               1000                  30720              3000   \n",
       "\n",
       "   usd_monthly_pay  usd_per_gb  usd_per_message  usd_per_minute plan_name  \n",
       "0               20          10             0.03            0.03      surf  \n",
       "1               70           7             0.01            0.01  ultimate  "
      ]
     },
     "execution_count": 4,
     "metadata": {},
     "output_type": "execute_result"
    }
   ],
   "source": [
    "# Imprime una muestra de los datos para las tarifas\n",
    "planes_df.head()\n"
   ]
  },
  {
   "cell_type": "markdown",
   "metadata": {
    "id": "R3C05i1l0q03"
   },
   "source": [
    "## Corregir datos"
   ]
  },
  {
   "cell_type": "code",
   "execution_count": 5,
   "metadata": {
    "id": "Y7SVmjGn0q03"
   },
   "outputs": [
    {
     "name": "stdout",
     "output_type": "stream",
     "text": [
      "messages_included        0\n",
      "mb_per_month_included    0\n",
      "minutes_included         0\n",
      "usd_monthly_pay          0\n",
      "usd_per_gb               0\n",
      "usd_per_message          0\n",
      "usd_per_minute           0\n",
      "plan_name                0\n",
      "dtype: int64\n"
     ]
    }
   ],
   "source": [
    "print(planes_df.isna().sum())"
   ]
  },
  {
   "cell_type": "code",
   "execution_count": 6,
   "metadata": {},
   "outputs": [
    {
     "name": "stdout",
     "output_type": "stream",
     "text": [
      "0\n"
     ]
    }
   ],
   "source": [
    "print(planes_df.duplicated().sum())"
   ]
  },
  {
   "cell_type": "markdown",
   "metadata": {
    "id": "LJir7bml0q03"
   },
   "source": [
    "## Enriquecer los datos"
   ]
  },
  {
   "cell_type": "code",
   "execution_count": 7,
   "metadata": {
    "id": "gfcIEuXV0q04",
    "scrolled": true
   },
   "outputs": [
    {
     "data": {
      "text/html": [
       "<div>\n",
       "<style scoped>\n",
       "    .dataframe tbody tr th:only-of-type {\n",
       "        vertical-align: middle;\n",
       "    }\n",
       "\n",
       "    .dataframe tbody tr th {\n",
       "        vertical-align: top;\n",
       "    }\n",
       "\n",
       "    .dataframe thead th {\n",
       "        text-align: right;\n",
       "    }\n",
       "</style>\n",
       "<table border=\"1\" class=\"dataframe\">\n",
       "  <thead>\n",
       "    <tr style=\"text-align: right;\">\n",
       "      <th></th>\n",
       "      <th>messages_included</th>\n",
       "      <th>mb_per_month_included</th>\n",
       "      <th>minutes_included</th>\n",
       "      <th>usd_monthly_pay</th>\n",
       "      <th>usd_per_gb</th>\n",
       "      <th>usd_per_message</th>\n",
       "      <th>usd_per_minute</th>\n",
       "      <th>plan_id</th>\n",
       "    </tr>\n",
       "  </thead>\n",
       "  <tbody>\n",
       "    <tr>\n",
       "      <th>0</th>\n",
       "      <td>50</td>\n",
       "      <td>15360</td>\n",
       "      <td>500</td>\n",
       "      <td>20</td>\n",
       "      <td>10</td>\n",
       "      <td>0.03</td>\n",
       "      <td>0.03</td>\n",
       "      <td>surf</td>\n",
       "    </tr>\n",
       "    <tr>\n",
       "      <th>1</th>\n",
       "      <td>1000</td>\n",
       "      <td>30720</td>\n",
       "      <td>3000</td>\n",
       "      <td>70</td>\n",
       "      <td>7</td>\n",
       "      <td>0.01</td>\n",
       "      <td>0.01</td>\n",
       "      <td>ultimate</td>\n",
       "    </tr>\n",
       "  </tbody>\n",
       "</table>\n",
       "</div>"
      ],
      "text/plain": [
       "   messages_included  mb_per_month_included  minutes_included  \\\n",
       "0                 50                  15360               500   \n",
       "1               1000                  30720              3000   \n",
       "\n",
       "   usd_monthly_pay  usd_per_gb  usd_per_message  usd_per_minute   plan_id  \n",
       "0               20          10             0.03            0.03      surf  \n",
       "1               70           7             0.01            0.01  ultimate  "
      ]
     },
     "execution_count": 7,
     "metadata": {},
     "output_type": "execute_result"
    }
   ],
   "source": [
    "planes_df.rename(columns={'plan_name':'plan_id'},inplace=True)\n",
    "planes_df.head()"
   ]
  },
  {
   "cell_type": "code",
   "execution_count": 8,
   "metadata": {},
   "outputs": [
    {
     "data": {
      "text/html": [
       "<div>\n",
       "<style scoped>\n",
       "    .dataframe tbody tr th:only-of-type {\n",
       "        vertical-align: middle;\n",
       "    }\n",
       "\n",
       "    .dataframe tbody tr th {\n",
       "        vertical-align: top;\n",
       "    }\n",
       "\n",
       "    .dataframe thead th {\n",
       "        text-align: right;\n",
       "    }\n",
       "</style>\n",
       "<table border=\"1\" class=\"dataframe\">\n",
       "  <thead>\n",
       "    <tr style=\"text-align: right;\">\n",
       "      <th></th>\n",
       "      <th>messages_included</th>\n",
       "      <th>mb_per_month_included</th>\n",
       "      <th>minutes_included</th>\n",
       "      <th>usd_monthly_pay</th>\n",
       "      <th>usd_per_gb</th>\n",
       "      <th>usd_per_message</th>\n",
       "      <th>usd_per_minute</th>\n",
       "      <th>plan_id</th>\n",
       "    </tr>\n",
       "  </thead>\n",
       "  <tbody>\n",
       "    <tr>\n",
       "      <th>0</th>\n",
       "      <td>50</td>\n",
       "      <td>15.0</td>\n",
       "      <td>500</td>\n",
       "      <td>20</td>\n",
       "      <td>10</td>\n",
       "      <td>0.03</td>\n",
       "      <td>0.03</td>\n",
       "      <td>surf</td>\n",
       "    </tr>\n",
       "    <tr>\n",
       "      <th>1</th>\n",
       "      <td>1000</td>\n",
       "      <td>30.0</td>\n",
       "      <td>3000</td>\n",
       "      <td>70</td>\n",
       "      <td>7</td>\n",
       "      <td>0.01</td>\n",
       "      <td>0.01</td>\n",
       "      <td>ultimate</td>\n",
       "    </tr>\n",
       "  </tbody>\n",
       "</table>\n",
       "</div>"
      ],
      "text/plain": [
       "   messages_included  mb_per_month_included  minutes_included  \\\n",
       "0                 50                   15.0               500   \n",
       "1               1000                   30.0              3000   \n",
       "\n",
       "   usd_monthly_pay  usd_per_gb  usd_per_message  usd_per_minute   plan_id  \n",
       "0               20          10             0.03            0.03      surf  \n",
       "1               70           7             0.01            0.01  ultimate  "
      ]
     },
     "execution_count": 8,
     "metadata": {},
     "output_type": "execute_result"
    }
   ],
   "source": [
    "planes_df['mb_per_month_included'] = np.ceil(planes_df['mb_per_month_included'] / 1024)\n",
    "planes_df.head()"
   ]
  },
  {
   "cell_type": "markdown",
   "metadata": {
    "id": "1n2X6WXf0q04"
   },
   "source": [
    "## Usuarios/as"
   ]
  },
  {
   "cell_type": "code",
   "execution_count": 9,
   "metadata": {
    "id": "2NgjWFqx0q05"
   },
   "outputs": [
    {
     "name": "stdout",
     "output_type": "stream",
     "text": [
      "<class 'pandas.core.frame.DataFrame'>\n",
      "RangeIndex: 500 entries, 0 to 499\n",
      "Data columns (total 8 columns):\n",
      " #   Column      Non-Null Count  Dtype \n",
      "---  ------      --------------  ----- \n",
      " 0   user_id     500 non-null    int64 \n",
      " 1   first_name  500 non-null    object\n",
      " 2   last_name   500 non-null    object\n",
      " 3   age         500 non-null    int64 \n",
      " 4   city        500 non-null    object\n",
      " 5   reg_date    500 non-null    object\n",
      " 6   plan        500 non-null    object\n",
      " 7   churn_date  34 non-null     object\n",
      "dtypes: int64(2), object(6)\n",
      "memory usage: 31.4+ KB\n"
     ]
    }
   ],
   "source": [
    "# Imprime la información general/resumida sobre el DataFrame de usuarios\n",
    "user_df.info()"
   ]
  },
  {
   "cell_type": "code",
   "execution_count": 10,
   "metadata": {
    "id": "1IN1L9uh0q05"
   },
   "outputs": [
    {
     "data": {
      "text/html": [
       "<div>\n",
       "<style scoped>\n",
       "    .dataframe tbody tr th:only-of-type {\n",
       "        vertical-align: middle;\n",
       "    }\n",
       "\n",
       "    .dataframe tbody tr th {\n",
       "        vertical-align: top;\n",
       "    }\n",
       "\n",
       "    .dataframe thead th {\n",
       "        text-align: right;\n",
       "    }\n",
       "</style>\n",
       "<table border=\"1\" class=\"dataframe\">\n",
       "  <thead>\n",
       "    <tr style=\"text-align: right;\">\n",
       "      <th></th>\n",
       "      <th>user_id</th>\n",
       "      <th>first_name</th>\n",
       "      <th>last_name</th>\n",
       "      <th>age</th>\n",
       "      <th>city</th>\n",
       "      <th>reg_date</th>\n",
       "      <th>plan</th>\n",
       "      <th>churn_date</th>\n",
       "    </tr>\n",
       "  </thead>\n",
       "  <tbody>\n",
       "    <tr>\n",
       "      <th>0</th>\n",
       "      <td>1000</td>\n",
       "      <td>Anamaria</td>\n",
       "      <td>Bauer</td>\n",
       "      <td>45</td>\n",
       "      <td>Atlanta-Sandy Springs-Roswell, GA MSA</td>\n",
       "      <td>2018-12-24</td>\n",
       "      <td>ultimate</td>\n",
       "      <td>NaN</td>\n",
       "    </tr>\n",
       "    <tr>\n",
       "      <th>1</th>\n",
       "      <td>1001</td>\n",
       "      <td>Mickey</td>\n",
       "      <td>Wilkerson</td>\n",
       "      <td>28</td>\n",
       "      <td>Seattle-Tacoma-Bellevue, WA MSA</td>\n",
       "      <td>2018-08-13</td>\n",
       "      <td>surf</td>\n",
       "      <td>NaN</td>\n",
       "    </tr>\n",
       "    <tr>\n",
       "      <th>2</th>\n",
       "      <td>1002</td>\n",
       "      <td>Carlee</td>\n",
       "      <td>Hoffman</td>\n",
       "      <td>36</td>\n",
       "      <td>Las Vegas-Henderson-Paradise, NV MSA</td>\n",
       "      <td>2018-10-21</td>\n",
       "      <td>surf</td>\n",
       "      <td>NaN</td>\n",
       "    </tr>\n",
       "    <tr>\n",
       "      <th>3</th>\n",
       "      <td>1003</td>\n",
       "      <td>Reynaldo</td>\n",
       "      <td>Jenkins</td>\n",
       "      <td>52</td>\n",
       "      <td>Tulsa, OK MSA</td>\n",
       "      <td>2018-01-28</td>\n",
       "      <td>surf</td>\n",
       "      <td>NaN</td>\n",
       "    </tr>\n",
       "    <tr>\n",
       "      <th>4</th>\n",
       "      <td>1004</td>\n",
       "      <td>Leonila</td>\n",
       "      <td>Thompson</td>\n",
       "      <td>40</td>\n",
       "      <td>Seattle-Tacoma-Bellevue, WA MSA</td>\n",
       "      <td>2018-05-23</td>\n",
       "      <td>surf</td>\n",
       "      <td>NaN</td>\n",
       "    </tr>\n",
       "  </tbody>\n",
       "</table>\n",
       "</div>"
      ],
      "text/plain": [
       "   user_id first_name  last_name  age                                   city  \\\n",
       "0     1000   Anamaria      Bauer   45  Atlanta-Sandy Springs-Roswell, GA MSA   \n",
       "1     1001     Mickey  Wilkerson   28        Seattle-Tacoma-Bellevue, WA MSA   \n",
       "2     1002     Carlee    Hoffman   36   Las Vegas-Henderson-Paradise, NV MSA   \n",
       "3     1003   Reynaldo    Jenkins   52                          Tulsa, OK MSA   \n",
       "4     1004    Leonila   Thompson   40        Seattle-Tacoma-Bellevue, WA MSA   \n",
       "\n",
       "     reg_date      plan churn_date  \n",
       "0  2018-12-24  ultimate        NaN  \n",
       "1  2018-08-13      surf        NaN  \n",
       "2  2018-10-21      surf        NaN  \n",
       "3  2018-01-28      surf        NaN  \n",
       "4  2018-05-23      surf        NaN  "
      ]
     },
     "execution_count": 10,
     "metadata": {},
     "output_type": "execute_result"
    }
   ],
   "source": [
    "# Imprime una muestra de datos para usuarios\n",
    "user_df.head()\n"
   ]
  },
  {
   "cell_type": "code",
   "execution_count": 11,
   "metadata": {},
   "outputs": [
    {
     "data": {
      "text/html": [
       "<div>\n",
       "<style scoped>\n",
       "    .dataframe tbody tr th:only-of-type {\n",
       "        vertical-align: middle;\n",
       "    }\n",
       "\n",
       "    .dataframe tbody tr th {\n",
       "        vertical-align: top;\n",
       "    }\n",
       "\n",
       "    .dataframe thead th {\n",
       "        text-align: right;\n",
       "    }\n",
       "</style>\n",
       "<table border=\"1\" class=\"dataframe\">\n",
       "  <thead>\n",
       "    <tr style=\"text-align: right;\">\n",
       "      <th></th>\n",
       "      <th>user_id</th>\n",
       "      <th>age</th>\n",
       "    </tr>\n",
       "  </thead>\n",
       "  <tbody>\n",
       "    <tr>\n",
       "      <th>count</th>\n",
       "      <td>500.000000</td>\n",
       "      <td>500.000000</td>\n",
       "    </tr>\n",
       "    <tr>\n",
       "      <th>mean</th>\n",
       "      <td>1249.500000</td>\n",
       "      <td>45.486000</td>\n",
       "    </tr>\n",
       "    <tr>\n",
       "      <th>std</th>\n",
       "      <td>144.481833</td>\n",
       "      <td>16.972269</td>\n",
       "    </tr>\n",
       "    <tr>\n",
       "      <th>min</th>\n",
       "      <td>1000.000000</td>\n",
       "      <td>18.000000</td>\n",
       "    </tr>\n",
       "    <tr>\n",
       "      <th>25%</th>\n",
       "      <td>1124.750000</td>\n",
       "      <td>30.000000</td>\n",
       "    </tr>\n",
       "    <tr>\n",
       "      <th>50%</th>\n",
       "      <td>1249.500000</td>\n",
       "      <td>46.000000</td>\n",
       "    </tr>\n",
       "    <tr>\n",
       "      <th>75%</th>\n",
       "      <td>1374.250000</td>\n",
       "      <td>61.000000</td>\n",
       "    </tr>\n",
       "    <tr>\n",
       "      <th>max</th>\n",
       "      <td>1499.000000</td>\n",
       "      <td>75.000000</td>\n",
       "    </tr>\n",
       "  </tbody>\n",
       "</table>\n",
       "</div>"
      ],
      "text/plain": [
       "           user_id         age\n",
       "count   500.000000  500.000000\n",
       "mean   1249.500000   45.486000\n",
       "std     144.481833   16.972269\n",
       "min    1000.000000   18.000000\n",
       "25%    1124.750000   30.000000\n",
       "50%    1249.500000   46.000000\n",
       "75%    1374.250000   61.000000\n",
       "max    1499.000000   75.000000"
      ]
     },
     "execution_count": 11,
     "metadata": {},
     "output_type": "execute_result"
    }
   ],
   "source": [
    "user_df.describe()"
   ]
  },
  {
   "cell_type": "code",
   "execution_count": 12,
   "metadata": {},
   "outputs": [
    {
     "name": "stdout",
     "output_type": "stream",
     "text": [
      "0\n"
     ]
    }
   ],
   "source": [
    "print(planes_df.duplicated().sum())"
   ]
  },
  {
   "cell_type": "markdown",
   "metadata": {},
   "source": [
    "<div class=\"alert alert-block alert-info\">\n",
    "<b>Respuesta del estudiante</b> <a class=\"tocSkip\"></a>\n",
    "\n",
    "Se aplico las correccion correspondiente de acuerdo a lo sugerido:\n",
    "Se verificó que no exitieran duplicados\n",
    "Se utilizó el metodo describe()\n",
    "\n",
    "Este metodo nos da la informacion general del Dataframe User, se tiene la información de 500 ususarios el promedio de edad de los usuarios es de 46 años, con una dispersión de 17, adicionalmente se tiene la información de la edad mínima de los usuarios es de 18 años y la edad máxima es de 75 años y el 25% del total e usuarios tienen una edad menos de 30 años, el 50% meno 46 años y el 75% los usuarios tienen una edad menos de 61 años,que nos ayuda a entender mejor la dispersión de los datos y obtener información sobre tendencias centrales.\n",
    "\n",
    "</div>"
   ]
  },
  {
   "cell_type": "markdown",
   "metadata": {},
   "source": [
    "<div class=\"alert alert-block alert-info\">\n",
    "<b>Respuesta del estudiante</b> <a class=\"tocSkip\"></a>\n",
    "\n",
    "Observamos que existen valores nulos en la columna churn_date (fecha en la que el usuario dejo de usar el usuario), está información es razonable debido a que contiene la información de usuarios aún activos , por lo que conservaremos los valores nulos, adicionalmente las columnas'reg_date'y 'churn_date' se encuentran en tipo objeto por lo que es necesario modificar sus valores a el formato Datatime.\n",
    "\n",
    "     \n",
    "</div>\n",
    "\n"
   ]
  },
  {
   "cell_type": "markdown",
   "metadata": {
    "id": "BX5FQh_I0q06"
   },
   "source": [
    "### Corregir los datos"
   ]
  },
  {
   "cell_type": "code",
   "execution_count": 13,
   "metadata": {
    "id": "yUqX-K0C0q07"
   },
   "outputs": [],
   "source": [
    "\n",
    "user_df.rename(columns={'plan':'plan_id'},inplace=True)\n"
   ]
  },
  {
   "cell_type": "markdown",
   "metadata": {
    "id": "ycwuARJp0q07"
   },
   "source": [
    "### Enriquecer los datos"
   ]
  },
  {
   "cell_type": "code",
   "execution_count": 14,
   "metadata": {
    "id": "iq0AaBS90q08"
   },
   "outputs": [
    {
     "name": "stdout",
     "output_type": "stream",
     "text": [
      "<class 'pandas.core.frame.DataFrame'>\n",
      "RangeIndex: 500 entries, 0 to 499\n",
      "Data columns (total 10 columns):\n",
      " #   Column      Non-Null Count  Dtype         \n",
      "---  ------      --------------  -----         \n",
      " 0   user_id     500 non-null    int64         \n",
      " 1   first_name  500 non-null    object        \n",
      " 2   last_name   500 non-null    object        \n",
      " 3   age         500 non-null    int64         \n",
      " 4   city        500 non-null    object        \n",
      " 5   reg_date    500 non-null    datetime64[ns]\n",
      " 6   plan_id     500 non-null    object        \n",
      " 7   churn_date  34 non-null     datetime64[ns]\n",
      " 8   reg_mes     500 non-null    int64         \n",
      " 9   churn_mes   34 non-null     float64       \n",
      "dtypes: datetime64[ns](2), float64(1), int64(3), object(4)\n",
      "memory usage: 39.2+ KB\n"
     ]
    }
   ],
   "source": [
    "user_df['reg_date']=pd.to_datetime(user_df['reg_date'],format='%Y-%m-%d')\n",
    "user_df['reg_mes']=pd.DatetimeIndex(user_df['reg_date']).month\n",
    "user_df['churn_date']=pd.to_datetime(user_df['churn_date'],format='%Y-%m-%d')\n",
    "user_df['churn_mes']=pd.DatetimeIndex(user_df['churn_date']).month\n",
    "\n",
    "user_df.info()"
   ]
  },
  {
   "cell_type": "markdown",
   "metadata": {
    "id": "o7MeKCid0q08"
   },
   "source": [
    "## Llamadas"
   ]
  },
  {
   "cell_type": "code",
   "execution_count": 15,
   "metadata": {
    "id": "6dDlnoDm0q08"
   },
   "outputs": [
    {
     "name": "stdout",
     "output_type": "stream",
     "text": [
      "<class 'pandas.core.frame.DataFrame'>\n",
      "RangeIndex: 137735 entries, 0 to 137734\n",
      "Data columns (total 4 columns):\n",
      " #   Column     Non-Null Count   Dtype  \n",
      "---  ------     --------------   -----  \n",
      " 0   id         137735 non-null  object \n",
      " 1   user_id    137735 non-null  int64  \n",
      " 2   call_date  137735 non-null  object \n",
      " 3   duration   137735 non-null  float64\n",
      "dtypes: float64(1), int64(1), object(2)\n",
      "memory usage: 4.2+ MB\n"
     ]
    }
   ],
   "source": [
    "# Imprime la información general/resumida sobre el DataFrame de las llamadas\n",
    "llamadas_df.info()\n"
   ]
  },
  {
   "cell_type": "code",
   "execution_count": 16,
   "metadata": {
    "id": "kuh1vlNB0q09"
   },
   "outputs": [
    {
     "data": {
      "text/html": [
       "<div>\n",
       "<style scoped>\n",
       "    .dataframe tbody tr th:only-of-type {\n",
       "        vertical-align: middle;\n",
       "    }\n",
       "\n",
       "    .dataframe tbody tr th {\n",
       "        vertical-align: top;\n",
       "    }\n",
       "\n",
       "    .dataframe thead th {\n",
       "        text-align: right;\n",
       "    }\n",
       "</style>\n",
       "<table border=\"1\" class=\"dataframe\">\n",
       "  <thead>\n",
       "    <tr style=\"text-align: right;\">\n",
       "      <th></th>\n",
       "      <th>id</th>\n",
       "      <th>user_id</th>\n",
       "      <th>call_date</th>\n",
       "      <th>duration</th>\n",
       "    </tr>\n",
       "  </thead>\n",
       "  <tbody>\n",
       "    <tr>\n",
       "      <th>0</th>\n",
       "      <td>1000_93</td>\n",
       "      <td>1000</td>\n",
       "      <td>2018-12-27</td>\n",
       "      <td>8.52</td>\n",
       "    </tr>\n",
       "    <tr>\n",
       "      <th>1</th>\n",
       "      <td>1000_145</td>\n",
       "      <td>1000</td>\n",
       "      <td>2018-12-27</td>\n",
       "      <td>13.66</td>\n",
       "    </tr>\n",
       "    <tr>\n",
       "      <th>2</th>\n",
       "      <td>1000_247</td>\n",
       "      <td>1000</td>\n",
       "      <td>2018-12-27</td>\n",
       "      <td>14.48</td>\n",
       "    </tr>\n",
       "    <tr>\n",
       "      <th>3</th>\n",
       "      <td>1000_309</td>\n",
       "      <td>1000</td>\n",
       "      <td>2018-12-28</td>\n",
       "      <td>5.76</td>\n",
       "    </tr>\n",
       "    <tr>\n",
       "      <th>4</th>\n",
       "      <td>1000_380</td>\n",
       "      <td>1000</td>\n",
       "      <td>2018-12-30</td>\n",
       "      <td>4.22</td>\n",
       "    </tr>\n",
       "  </tbody>\n",
       "</table>\n",
       "</div>"
      ],
      "text/plain": [
       "         id  user_id   call_date  duration\n",
       "0   1000_93     1000  2018-12-27      8.52\n",
       "1  1000_145     1000  2018-12-27     13.66\n",
       "2  1000_247     1000  2018-12-27     14.48\n",
       "3  1000_309     1000  2018-12-28      5.76\n",
       "4  1000_380     1000  2018-12-30      4.22"
      ]
     },
     "execution_count": 16,
     "metadata": {},
     "output_type": "execute_result"
    }
   ],
   "source": [
    "# Imprime una muestra de datos para las llamadas\n",
    "llamadas_df.head()\n"
   ]
  },
  {
   "cell_type": "code",
   "execution_count": 17,
   "metadata": {},
   "outputs": [
    {
     "data": {
      "text/html": [
       "<div>\n",
       "<style scoped>\n",
       "    .dataframe tbody tr th:only-of-type {\n",
       "        vertical-align: middle;\n",
       "    }\n",
       "\n",
       "    .dataframe tbody tr th {\n",
       "        vertical-align: top;\n",
       "    }\n",
       "\n",
       "    .dataframe thead th {\n",
       "        text-align: right;\n",
       "    }\n",
       "</style>\n",
       "<table border=\"1\" class=\"dataframe\">\n",
       "  <thead>\n",
       "    <tr style=\"text-align: right;\">\n",
       "      <th></th>\n",
       "      <th>user_id</th>\n",
       "      <th>duration</th>\n",
       "    </tr>\n",
       "  </thead>\n",
       "  <tbody>\n",
       "    <tr>\n",
       "      <th>count</th>\n",
       "      <td>137735.000000</td>\n",
       "      <td>137735.000000</td>\n",
       "    </tr>\n",
       "    <tr>\n",
       "      <th>mean</th>\n",
       "      <td>1247.658046</td>\n",
       "      <td>6.745927</td>\n",
       "    </tr>\n",
       "    <tr>\n",
       "      <th>std</th>\n",
       "      <td>139.416268</td>\n",
       "      <td>5.839241</td>\n",
       "    </tr>\n",
       "    <tr>\n",
       "      <th>min</th>\n",
       "      <td>1000.000000</td>\n",
       "      <td>0.000000</td>\n",
       "    </tr>\n",
       "    <tr>\n",
       "      <th>25%</th>\n",
       "      <td>1128.000000</td>\n",
       "      <td>1.290000</td>\n",
       "    </tr>\n",
       "    <tr>\n",
       "      <th>50%</th>\n",
       "      <td>1247.000000</td>\n",
       "      <td>5.980000</td>\n",
       "    </tr>\n",
       "    <tr>\n",
       "      <th>75%</th>\n",
       "      <td>1365.000000</td>\n",
       "      <td>10.690000</td>\n",
       "    </tr>\n",
       "    <tr>\n",
       "      <th>max</th>\n",
       "      <td>1499.000000</td>\n",
       "      <td>37.600000</td>\n",
       "    </tr>\n",
       "  </tbody>\n",
       "</table>\n",
       "</div>"
      ],
      "text/plain": [
       "             user_id       duration\n",
       "count  137735.000000  137735.000000\n",
       "mean     1247.658046       6.745927\n",
       "std       139.416268       5.839241\n",
       "min      1000.000000       0.000000\n",
       "25%      1128.000000       1.290000\n",
       "50%      1247.000000       5.980000\n",
       "75%      1365.000000      10.690000\n",
       "max      1499.000000      37.600000"
      ]
     },
     "execution_count": 17,
     "metadata": {},
     "output_type": "execute_result"
    }
   ],
   "source": [
    "llamadas_df.describe()"
   ]
  },
  {
   "cell_type": "markdown",
   "metadata": {},
   "source": [
    "<div class=\"alert alert-block alert-info\">\n",
    "<b>Respuesta del estudiante</b> <a class=\"tocSkip\"></a>\n",
    "\n",
    "Se aplicó metodo describe()\n",
    "\n",
    "Este metodo nos permite visualizar que en promedio las llamadas tienen una duración de 7 minutos , el valor mínimo de las llamadas es de 0 minutos y el valor maximo de la duración de las llamadas son de 38 minutos, el 25% tiene una duración de llamada de menos 1 minutos y medio , el 50% la duración de la llamada es de menos de 6 minutos y el 75% duración de llamada de menos de 11 minutos\n",
    "</div>"
   ]
  },
  {
   "cell_type": "markdown",
   "metadata": {},
   "source": [
    "<div class=\"alert alert-block alert-info\">\n",
    "<b>Respuesta del estudiante</b> <a class=\"tocSkip\"></a>\n",
    "\n",
    "\n",
    "Podemos observar en el DataFrame tiene 4 columnas; correspondientes identificador de llamada,fecha de llamada,\n",
    "duración de llamada e identificador de usuario que realiza la llamada,no se tiene valores nulos en las columnas.\n",
    "Los datos de la columna \"call_date\" se encuentra en un formato diferente, por lo que se debería corregir en formato a Datatime.\n",
    "  \n",
    "</div>"
   ]
  },
  {
   "cell_type": "markdown",
   "metadata": {
    "id": "S7hzxmbX0q0-"
   },
   "source": [
    "### Corregir los datos"
   ]
  },
  {
   "cell_type": "markdown",
   "metadata": {
    "id": "YxWyAjD20q0-"
   },
   "source": [
    "[Corrige los problemas obvios con los datos basándote en las observaciones iniciales.]"
   ]
  },
  {
   "cell_type": "code",
   "execution_count": 18,
   "metadata": {
    "id": "S2r8xA4f0q0-"
   },
   "outputs": [
    {
     "name": "stdout",
     "output_type": "stream",
     "text": [
      "id           0\n",
      "user_id      0\n",
      "call_date    0\n",
      "duration     0\n",
      "dtype: int64\n",
      "0\n"
     ]
    }
   ],
   "source": [
    "print(llamadas_df.isna().sum())\n",
    "print(llamadas_df.duplicated(subset=['id','user_id']).sum())\n"
   ]
  },
  {
   "cell_type": "markdown",
   "metadata": {},
   "source": [
    "<div class=\"alert alert-block alert-info\">\n",
    "<b>Respuesta del estudiante</b> <a class=\"tocSkip\"></a>\n",
    "\n",
    "Se aplico las correccion correspondientes de acuerdo a lo sugerido.\n",
    "      \n",
    "</div>"
   ]
  },
  {
   "cell_type": "markdown",
   "metadata": {
    "id": "KrMgTrlG0q0_"
   },
   "source": [
    "### Enriquecer los datos"
   ]
  },
  {
   "cell_type": "code",
   "execution_count": 19,
   "metadata": {
    "id": "iZ1avpA_0q0_"
   },
   "outputs": [
    {
     "data": {
      "text/html": [
       "<div>\n",
       "<style scoped>\n",
       "    .dataframe tbody tr th:only-of-type {\n",
       "        vertical-align: middle;\n",
       "    }\n",
       "\n",
       "    .dataframe tbody tr th {\n",
       "        vertical-align: top;\n",
       "    }\n",
       "\n",
       "    .dataframe thead th {\n",
       "        text-align: right;\n",
       "    }\n",
       "</style>\n",
       "<table border=\"1\" class=\"dataframe\">\n",
       "  <thead>\n",
       "    <tr style=\"text-align: right;\">\n",
       "      <th></th>\n",
       "      <th>call_id</th>\n",
       "      <th>user_id</th>\n",
       "      <th>call_date</th>\n",
       "      <th>duration</th>\n",
       "      <th>mes</th>\n",
       "      <th>duracion_redondeada</th>\n",
       "    </tr>\n",
       "  </thead>\n",
       "  <tbody>\n",
       "    <tr>\n",
       "      <th>0</th>\n",
       "      <td>1000_93</td>\n",
       "      <td>1000</td>\n",
       "      <td>2018-12-27</td>\n",
       "      <td>8.52</td>\n",
       "      <td>12</td>\n",
       "      <td>9.0</td>\n",
       "    </tr>\n",
       "    <tr>\n",
       "      <th>1</th>\n",
       "      <td>1000_145</td>\n",
       "      <td>1000</td>\n",
       "      <td>2018-12-27</td>\n",
       "      <td>13.66</td>\n",
       "      <td>12</td>\n",
       "      <td>14.0</td>\n",
       "    </tr>\n",
       "    <tr>\n",
       "      <th>2</th>\n",
       "      <td>1000_247</td>\n",
       "      <td>1000</td>\n",
       "      <td>2018-12-27</td>\n",
       "      <td>14.48</td>\n",
       "      <td>12</td>\n",
       "      <td>15.0</td>\n",
       "    </tr>\n",
       "    <tr>\n",
       "      <th>3</th>\n",
       "      <td>1000_309</td>\n",
       "      <td>1000</td>\n",
       "      <td>2018-12-28</td>\n",
       "      <td>5.76</td>\n",
       "      <td>12</td>\n",
       "      <td>6.0</td>\n",
       "    </tr>\n",
       "    <tr>\n",
       "      <th>4</th>\n",
       "      <td>1000_380</td>\n",
       "      <td>1000</td>\n",
       "      <td>2018-12-30</td>\n",
       "      <td>4.22</td>\n",
       "      <td>12</td>\n",
       "      <td>5.0</td>\n",
       "    </tr>\n",
       "  </tbody>\n",
       "</table>\n",
       "</div>"
      ],
      "text/plain": [
       "    call_id  user_id  call_date  duration  mes  duracion_redondeada\n",
       "0   1000_93     1000 2018-12-27      8.52   12                  9.0\n",
       "1  1000_145     1000 2018-12-27     13.66   12                 14.0\n",
       "2  1000_247     1000 2018-12-27     14.48   12                 15.0\n",
       "3  1000_309     1000 2018-12-28      5.76   12                  6.0\n",
       "4  1000_380     1000 2018-12-30      4.22   12                  5.0"
      ]
     },
     "execution_count": 19,
     "metadata": {},
     "output_type": "execute_result"
    }
   ],
   "source": [
    "llamadas_df.rename(columns={'id':'call_id'},inplace=True)\n",
    "llamadas_df['call_date']=pd.to_datetime(llamadas_df['call_date'],format='%Y-%m-%d')\n",
    "llamadas_df['mes']=pd.DatetimeIndex(llamadas_df['call_date']).month\n",
    "llamadas_df['duracion_redondeada']=np.ceil(llamadas_df['duration'])\n",
    "llamadas_df.head()"
   ]
  },
  {
   "cell_type": "code",
   "execution_count": 20,
   "metadata": {},
   "outputs": [
    {
     "data": {
      "text/plain": [
       "19.482339274694162"
      ]
     },
     "execution_count": 20,
     "metadata": {},
     "output_type": "execute_result"
    }
   ],
   "source": [
    "(len(llamadas_df.query('duration == 0'))/len(llamadas_df))*100"
   ]
  },
  {
   "cell_type": "code",
   "execution_count": 21,
   "metadata": {},
   "outputs": [],
   "source": [
    "llamadas_df=llamadas_df[llamadas_df['duration']>0]\n"
   ]
  },
  {
   "cell_type": "code",
   "execution_count": 22,
   "metadata": {},
   "outputs": [
    {
     "data": {
      "text/plain": [
       "0"
      ]
     },
     "execution_count": 22,
     "metadata": {},
     "output_type": "execute_result"
    }
   ],
   "source": [
    "len(llamadas_df.query('duration == 0'))"
   ]
  },
  {
   "cell_type": "markdown",
   "metadata": {},
   "source": [
    "<div class=\"alert alert-block alert-info\">\n",
    "<b>Respuesta del estudiante</b> <a class=\"tocSkip\"></a>\n",
    "\n",
    " Se filtro dataframe por las llamadas que duran mas que 0 minutos   \n",
    "\n",
    "      \n",
    "</div>"
   ]
  },
  {
   "cell_type": "markdown",
   "metadata": {
    "id": "mOUZSi180q0_"
   },
   "source": [
    "## Mensajes"
   ]
  },
  {
   "cell_type": "code",
   "execution_count": 23,
   "metadata": {
    "id": "R-bYJpdV0q1A"
   },
   "outputs": [
    {
     "name": "stdout",
     "output_type": "stream",
     "text": [
      "<class 'pandas.core.frame.DataFrame'>\n",
      "RangeIndex: 76051 entries, 0 to 76050\n",
      "Data columns (total 3 columns):\n",
      " #   Column        Non-Null Count  Dtype \n",
      "---  ------        --------------  ----- \n",
      " 0   id            76051 non-null  object\n",
      " 1   user_id       76051 non-null  int64 \n",
      " 2   message_date  76051 non-null  object\n",
      "dtypes: int64(1), object(2)\n",
      "memory usage: 1.7+ MB\n"
     ]
    }
   ],
   "source": [
    "# Imprime la información general/resumida sobre el DataFrame de los mensajes\n",
    "mensajes_df.info()"
   ]
  },
  {
   "cell_type": "code",
   "execution_count": 24,
   "metadata": {
    "id": "mCEl2iGE0q1A"
   },
   "outputs": [
    {
     "data": {
      "text/html": [
       "<div>\n",
       "<style scoped>\n",
       "    .dataframe tbody tr th:only-of-type {\n",
       "        vertical-align: middle;\n",
       "    }\n",
       "\n",
       "    .dataframe tbody tr th {\n",
       "        vertical-align: top;\n",
       "    }\n",
       "\n",
       "    .dataframe thead th {\n",
       "        text-align: right;\n",
       "    }\n",
       "</style>\n",
       "<table border=\"1\" class=\"dataframe\">\n",
       "  <thead>\n",
       "    <tr style=\"text-align: right;\">\n",
       "      <th></th>\n",
       "      <th>id</th>\n",
       "      <th>user_id</th>\n",
       "      <th>message_date</th>\n",
       "    </tr>\n",
       "  </thead>\n",
       "  <tbody>\n",
       "    <tr>\n",
       "      <th>0</th>\n",
       "      <td>1000_125</td>\n",
       "      <td>1000</td>\n",
       "      <td>2018-12-27</td>\n",
       "    </tr>\n",
       "    <tr>\n",
       "      <th>1</th>\n",
       "      <td>1000_160</td>\n",
       "      <td>1000</td>\n",
       "      <td>2018-12-31</td>\n",
       "    </tr>\n",
       "    <tr>\n",
       "      <th>2</th>\n",
       "      <td>1000_223</td>\n",
       "      <td>1000</td>\n",
       "      <td>2018-12-31</td>\n",
       "    </tr>\n",
       "    <tr>\n",
       "      <th>3</th>\n",
       "      <td>1000_251</td>\n",
       "      <td>1000</td>\n",
       "      <td>2018-12-27</td>\n",
       "    </tr>\n",
       "    <tr>\n",
       "      <th>4</th>\n",
       "      <td>1000_255</td>\n",
       "      <td>1000</td>\n",
       "      <td>2018-12-26</td>\n",
       "    </tr>\n",
       "  </tbody>\n",
       "</table>\n",
       "</div>"
      ],
      "text/plain": [
       "         id  user_id message_date\n",
       "0  1000_125     1000   2018-12-27\n",
       "1  1000_160     1000   2018-12-31\n",
       "2  1000_223     1000   2018-12-31\n",
       "3  1000_251     1000   2018-12-27\n",
       "4  1000_255     1000   2018-12-26"
      ]
     },
     "execution_count": 24,
     "metadata": {},
     "output_type": "execute_result"
    }
   ],
   "source": [
    "# Imprime una muestra de datos para los mensajes\n",
    "mensajes_df.head()"
   ]
  },
  {
   "cell_type": "markdown",
   "metadata": {},
   "source": [
    "<div class=\"alert alert-block alert-info\">\n",
    "    \n",
    "    \n",
    "Según la información mostrada no se encuntran valores nulos en el DataFrame (mensajes_df), la columna message_data contiene valores object al ser una columna con información de fechas se debe de cambair el formato\n",
    "a Datatime.\n",
    "       \n",
    "</div>"
   ]
  },
  {
   "cell_type": "markdown",
   "metadata": {
    "id": "Sprfak900q1B"
   },
   "source": [
    "### Corregir los datos"
   ]
  },
  {
   "cell_type": "code",
   "execution_count": 25,
   "metadata": {
    "id": "vsllvkoa0q1B"
   },
   "outputs": [
    {
     "name": "stdout",
     "output_type": "stream",
     "text": [
      "id              0\n",
      "user_id         0\n",
      "message_date    0\n",
      "dtype: int64\n",
      "0\n"
     ]
    }
   ],
   "source": [
    "print(mensajes_df.isna().sum())\n",
    "print(mensajes_df.duplicated().sum())"
   ]
  },
  {
   "cell_type": "markdown",
   "metadata": {},
   "source": [
    "<div class=\"alert alert-block alert-info\">\n",
    "<b>Respuesta del estudiante</b> <a class=\"tocSkip\"></a>\n",
    "\n",
    "Se aplico las correccion correspondientes de acuerdo a lo sugerido.\n",
    "      \n",
    "</div>"
   ]
  },
  {
   "cell_type": "markdown",
   "metadata": {
    "id": "HvLid7iD0q1B"
   },
   "source": [
    "### Enriquecer los datos"
   ]
  },
  {
   "cell_type": "code",
   "execution_count": 26,
   "metadata": {
    "id": "zYEXZac10q1C"
   },
   "outputs": [
    {
     "data": {
      "text/html": [
       "<div>\n",
       "<style scoped>\n",
       "    .dataframe tbody tr th:only-of-type {\n",
       "        vertical-align: middle;\n",
       "    }\n",
       "\n",
       "    .dataframe tbody tr th {\n",
       "        vertical-align: top;\n",
       "    }\n",
       "\n",
       "    .dataframe thead th {\n",
       "        text-align: right;\n",
       "    }\n",
       "</style>\n",
       "<table border=\"1\" class=\"dataframe\">\n",
       "  <thead>\n",
       "    <tr style=\"text-align: right;\">\n",
       "      <th></th>\n",
       "      <th>message_id</th>\n",
       "      <th>user_id</th>\n",
       "      <th>message_date</th>\n",
       "      <th>mes</th>\n",
       "    </tr>\n",
       "  </thead>\n",
       "  <tbody>\n",
       "    <tr>\n",
       "      <th>0</th>\n",
       "      <td>1000_125</td>\n",
       "      <td>1000</td>\n",
       "      <td>2018-12-27</td>\n",
       "      <td>12</td>\n",
       "    </tr>\n",
       "    <tr>\n",
       "      <th>1</th>\n",
       "      <td>1000_160</td>\n",
       "      <td>1000</td>\n",
       "      <td>2018-12-31</td>\n",
       "      <td>12</td>\n",
       "    </tr>\n",
       "    <tr>\n",
       "      <th>2</th>\n",
       "      <td>1000_223</td>\n",
       "      <td>1000</td>\n",
       "      <td>2018-12-31</td>\n",
       "      <td>12</td>\n",
       "    </tr>\n",
       "    <tr>\n",
       "      <th>3</th>\n",
       "      <td>1000_251</td>\n",
       "      <td>1000</td>\n",
       "      <td>2018-12-27</td>\n",
       "      <td>12</td>\n",
       "    </tr>\n",
       "    <tr>\n",
       "      <th>4</th>\n",
       "      <td>1000_255</td>\n",
       "      <td>1000</td>\n",
       "      <td>2018-12-26</td>\n",
       "      <td>12</td>\n",
       "    </tr>\n",
       "  </tbody>\n",
       "</table>\n",
       "</div>"
      ],
      "text/plain": [
       "  message_id  user_id message_date  mes\n",
       "0   1000_125     1000   2018-12-27   12\n",
       "1   1000_160     1000   2018-12-31   12\n",
       "2   1000_223     1000   2018-12-31   12\n",
       "3   1000_251     1000   2018-12-27   12\n",
       "4   1000_255     1000   2018-12-26   12"
      ]
     },
     "execution_count": 26,
     "metadata": {},
     "output_type": "execute_result"
    }
   ],
   "source": [
    "mensajes_df.rename(columns={'id':'message_id'},inplace=True)\n",
    "mensajes_df['message_date']=pd.to_datetime(mensajes_df['message_date'],format='%Y-%m-%d')\n",
    "mensajes_df['mes']=pd.DatetimeIndex(mensajes_df['message_date']).month\n",
    "mensajes_df.head()"
   ]
  },
  {
   "cell_type": "markdown",
   "metadata": {
    "id": "bStkaxn40q1C"
   },
   "source": [
    "## Internet"
   ]
  },
  {
   "cell_type": "code",
   "execution_count": 27,
   "metadata": {
    "id": "e-Uz5qyn0q1C"
   },
   "outputs": [
    {
     "name": "stdout",
     "output_type": "stream",
     "text": [
      "<class 'pandas.core.frame.DataFrame'>\n",
      "RangeIndex: 104825 entries, 0 to 104824\n",
      "Data columns (total 4 columns):\n",
      " #   Column        Non-Null Count   Dtype  \n",
      "---  ------        --------------   -----  \n",
      " 0   id            104825 non-null  object \n",
      " 1   user_id       104825 non-null  int64  \n",
      " 2   session_date  104825 non-null  object \n",
      " 3   mb_used       104825 non-null  float64\n",
      "dtypes: float64(1), int64(1), object(2)\n",
      "memory usage: 3.2+ MB\n"
     ]
    }
   ],
   "source": [
    "# Imprime la información general/resumida sobre el DataFrame de internet\n",
    "internet_df.info()"
   ]
  },
  {
   "cell_type": "code",
   "execution_count": 28,
   "metadata": {
    "id": "9r3x_XLw0q1C"
   },
   "outputs": [
    {
     "data": {
      "text/html": [
       "<div>\n",
       "<style scoped>\n",
       "    .dataframe tbody tr th:only-of-type {\n",
       "        vertical-align: middle;\n",
       "    }\n",
       "\n",
       "    .dataframe tbody tr th {\n",
       "        vertical-align: top;\n",
       "    }\n",
       "\n",
       "    .dataframe thead th {\n",
       "        text-align: right;\n",
       "    }\n",
       "</style>\n",
       "<table border=\"1\" class=\"dataframe\">\n",
       "  <thead>\n",
       "    <tr style=\"text-align: right;\">\n",
       "      <th></th>\n",
       "      <th>id</th>\n",
       "      <th>user_id</th>\n",
       "      <th>session_date</th>\n",
       "      <th>mb_used</th>\n",
       "    </tr>\n",
       "  </thead>\n",
       "  <tbody>\n",
       "    <tr>\n",
       "      <th>0</th>\n",
       "      <td>1000_13</td>\n",
       "      <td>1000</td>\n",
       "      <td>2018-12-29</td>\n",
       "      <td>89.86</td>\n",
       "    </tr>\n",
       "    <tr>\n",
       "      <th>1</th>\n",
       "      <td>1000_204</td>\n",
       "      <td>1000</td>\n",
       "      <td>2018-12-31</td>\n",
       "      <td>0.00</td>\n",
       "    </tr>\n",
       "    <tr>\n",
       "      <th>2</th>\n",
       "      <td>1000_379</td>\n",
       "      <td>1000</td>\n",
       "      <td>2018-12-28</td>\n",
       "      <td>660.40</td>\n",
       "    </tr>\n",
       "    <tr>\n",
       "      <th>3</th>\n",
       "      <td>1000_413</td>\n",
       "      <td>1000</td>\n",
       "      <td>2018-12-26</td>\n",
       "      <td>270.99</td>\n",
       "    </tr>\n",
       "    <tr>\n",
       "      <th>4</th>\n",
       "      <td>1000_442</td>\n",
       "      <td>1000</td>\n",
       "      <td>2018-12-27</td>\n",
       "      <td>880.22</td>\n",
       "    </tr>\n",
       "  </tbody>\n",
       "</table>\n",
       "</div>"
      ],
      "text/plain": [
       "         id  user_id session_date  mb_used\n",
       "0   1000_13     1000   2018-12-29    89.86\n",
       "1  1000_204     1000   2018-12-31     0.00\n",
       "2  1000_379     1000   2018-12-28   660.40\n",
       "3  1000_413     1000   2018-12-26   270.99\n",
       "4  1000_442     1000   2018-12-27   880.22"
      ]
     },
     "execution_count": 28,
     "metadata": {},
     "output_type": "execute_result"
    }
   ],
   "source": [
    "# Imprime una muestra de datos para el tráfico de internet\n",
    "internet_df.head()"
   ]
  },
  {
   "cell_type": "code",
   "execution_count": 29,
   "metadata": {},
   "outputs": [
    {
     "data": {
      "text/html": [
       "<div>\n",
       "<style scoped>\n",
       "    .dataframe tbody tr th:only-of-type {\n",
       "        vertical-align: middle;\n",
       "    }\n",
       "\n",
       "    .dataframe tbody tr th {\n",
       "        vertical-align: top;\n",
       "    }\n",
       "\n",
       "    .dataframe thead th {\n",
       "        text-align: right;\n",
       "    }\n",
       "</style>\n",
       "<table border=\"1\" class=\"dataframe\">\n",
       "  <thead>\n",
       "    <tr style=\"text-align: right;\">\n",
       "      <th></th>\n",
       "      <th>user_id</th>\n",
       "      <th>mb_used</th>\n",
       "    </tr>\n",
       "  </thead>\n",
       "  <tbody>\n",
       "    <tr>\n",
       "      <th>count</th>\n",
       "      <td>104825.000000</td>\n",
       "      <td>104825.000000</td>\n",
       "    </tr>\n",
       "    <tr>\n",
       "      <th>mean</th>\n",
       "      <td>1242.496361</td>\n",
       "      <td>366.713701</td>\n",
       "    </tr>\n",
       "    <tr>\n",
       "      <th>std</th>\n",
       "      <td>142.053913</td>\n",
       "      <td>277.170542</td>\n",
       "    </tr>\n",
       "    <tr>\n",
       "      <th>min</th>\n",
       "      <td>1000.000000</td>\n",
       "      <td>0.000000</td>\n",
       "    </tr>\n",
       "    <tr>\n",
       "      <th>25%</th>\n",
       "      <td>1122.000000</td>\n",
       "      <td>136.080000</td>\n",
       "    </tr>\n",
       "    <tr>\n",
       "      <th>50%</th>\n",
       "      <td>1236.000000</td>\n",
       "      <td>343.980000</td>\n",
       "    </tr>\n",
       "    <tr>\n",
       "      <th>75%</th>\n",
       "      <td>1367.000000</td>\n",
       "      <td>554.610000</td>\n",
       "    </tr>\n",
       "    <tr>\n",
       "      <th>max</th>\n",
       "      <td>1499.000000</td>\n",
       "      <td>1693.470000</td>\n",
       "    </tr>\n",
       "  </tbody>\n",
       "</table>\n",
       "</div>"
      ],
      "text/plain": [
       "             user_id        mb_used\n",
       "count  104825.000000  104825.000000\n",
       "mean     1242.496361     366.713701\n",
       "std       142.053913     277.170542\n",
       "min      1000.000000       0.000000\n",
       "25%      1122.000000     136.080000\n",
       "50%      1236.000000     343.980000\n",
       "75%      1367.000000     554.610000\n",
       "max      1499.000000    1693.470000"
      ]
     },
     "execution_count": 29,
     "metadata": {},
     "output_type": "execute_result"
    }
   ],
   "source": [
    "internet_df.describe()"
   ]
  },
  {
   "cell_type": "markdown",
   "metadata": {},
   "source": [
    "<div class=\"alert alert-block alert-info\">\n",
    "<b>Respuesta del estudiante</b> <a class=\"tocSkip\"></a>\n",
    "Se aplico las correccion correspondientes de acuerdo a lo sugerido.\n",
    "Se utilizo metodo describe():\n",
    "Este metodo nos permite visualizar el promedio de uso de internet es 367 MB , el valor mínimo de uso de internet es de 0 MB y el valor maximo es de 1694 MB, el 25% uso de internet es menos de 136 MB , el 50% usa menos 344 MB y el 75% menos de 555 MB.\n",
    "       \n",
    "</div>"
   ]
  },
  {
   "cell_type": "markdown",
   "metadata": {},
   "source": [
    "<div class=\"alert alert-block alert-info\">\n",
    "<b>Respuesta del estudiante</b> <a class=\"tocSkip\"></a>\n",
    "\n",
    "No hay datos ausentes en este DataFrame según la información proporcionada por info(), La columna session_date\n",
    "se encuentra en formato object , por lo que hay que cambiarlo a formato Datatime.\n",
    "\n",
    "</div>"
   ]
  },
  {
   "cell_type": "markdown",
   "metadata": {
    "id": "yA0tkPFg0q1D"
   },
   "source": [
    "### Corregir los datos"
   ]
  },
  {
   "cell_type": "code",
   "execution_count": 30,
   "metadata": {
    "id": "zVeanzdd0q1E"
   },
   "outputs": [
    {
     "name": "stdout",
     "output_type": "stream",
     "text": [
      "id              0\n",
      "user_id         0\n",
      "session_date    0\n",
      "mb_used         0\n",
      "dtype: int64\n",
      "0\n"
     ]
    }
   ],
   "source": [
    "print(internet_df.isna().sum())\n",
    "print(internet_df.duplicated(subset=['id','user_id']).sum())"
   ]
  },
  {
   "cell_type": "markdown",
   "metadata": {},
   "source": [
    "<div class=\"alert alert-block alert-info\">\n",
    "<b>Respuesta del estudiante</b> <a class=\"tocSkip\"></a>\n",
    "\n",
    "Se aplico las correccion correspondientes de acuerdo a lo sugerido.\n",
    "      \n",
    "</div>"
   ]
  },
  {
   "cell_type": "markdown",
   "metadata": {
    "id": "e8_mLF4a0q1E"
   },
   "source": [
    "### Enriquecer los datos"
   ]
  },
  {
   "cell_type": "code",
   "execution_count": 31,
   "metadata": {
    "id": "ESiYPIEK0q1E"
   },
   "outputs": [
    {
     "data": {
      "text/html": [
       "<div>\n",
       "<style scoped>\n",
       "    .dataframe tbody tr th:only-of-type {\n",
       "        vertical-align: middle;\n",
       "    }\n",
       "\n",
       "    .dataframe tbody tr th {\n",
       "        vertical-align: top;\n",
       "    }\n",
       "\n",
       "    .dataframe thead th {\n",
       "        text-align: right;\n",
       "    }\n",
       "</style>\n",
       "<table border=\"1\" class=\"dataframe\">\n",
       "  <thead>\n",
       "    <tr style=\"text-align: right;\">\n",
       "      <th></th>\n",
       "      <th>session_id</th>\n",
       "      <th>user_id</th>\n",
       "      <th>session_date</th>\n",
       "      <th>mb_used</th>\n",
       "      <th>mes</th>\n",
       "    </tr>\n",
       "  </thead>\n",
       "  <tbody>\n",
       "    <tr>\n",
       "      <th>0</th>\n",
       "      <td>1000_13</td>\n",
       "      <td>1000</td>\n",
       "      <td>2018-12-29</td>\n",
       "      <td>89.86</td>\n",
       "      <td>12</td>\n",
       "    </tr>\n",
       "    <tr>\n",
       "      <th>1</th>\n",
       "      <td>1000_204</td>\n",
       "      <td>1000</td>\n",
       "      <td>2018-12-31</td>\n",
       "      <td>0.00</td>\n",
       "      <td>12</td>\n",
       "    </tr>\n",
       "    <tr>\n",
       "      <th>2</th>\n",
       "      <td>1000_379</td>\n",
       "      <td>1000</td>\n",
       "      <td>2018-12-28</td>\n",
       "      <td>660.40</td>\n",
       "      <td>12</td>\n",
       "    </tr>\n",
       "    <tr>\n",
       "      <th>3</th>\n",
       "      <td>1000_413</td>\n",
       "      <td>1000</td>\n",
       "      <td>2018-12-26</td>\n",
       "      <td>270.99</td>\n",
       "      <td>12</td>\n",
       "    </tr>\n",
       "    <tr>\n",
       "      <th>4</th>\n",
       "      <td>1000_442</td>\n",
       "      <td>1000</td>\n",
       "      <td>2018-12-27</td>\n",
       "      <td>880.22</td>\n",
       "      <td>12</td>\n",
       "    </tr>\n",
       "  </tbody>\n",
       "</table>\n",
       "</div>"
      ],
      "text/plain": [
       "  session_id  user_id session_date  mb_used  mes\n",
       "0    1000_13     1000   2018-12-29    89.86   12\n",
       "1   1000_204     1000   2018-12-31     0.00   12\n",
       "2   1000_379     1000   2018-12-28   660.40   12\n",
       "3   1000_413     1000   2018-12-26   270.99   12\n",
       "4   1000_442     1000   2018-12-27   880.22   12"
      ]
     },
     "execution_count": 31,
     "metadata": {},
     "output_type": "execute_result"
    }
   ],
   "source": [
    "internet_df.rename(columns={'id':'session_id'},inplace=True)\n",
    "internet_df['session_date']=pd.to_datetime(internet_df['session_date'],format='%Y-%m-%d')\n",
    "internet_df['mes']=pd.DatetimeIndex(internet_df['session_date']).month\n",
    "internet_df.head()"
   ]
  },
  {
   "cell_type": "code",
   "execution_count": 32,
   "metadata": {},
   "outputs": [
    {
     "data": {
      "text/plain": [
       "13.11423801574052"
      ]
     },
     "execution_count": 32,
     "metadata": {},
     "output_type": "execute_result"
    }
   ],
   "source": [
    "(len(internet_df.query('mb_used == 0'))/len(internet_df))*100"
   ]
  },
  {
   "cell_type": "markdown",
   "metadata": {
    "id": "3UA2cqIW0q1E"
   },
   "source": [
    "## Estudiar las condiciones de las tarifas"
   ]
  },
  {
   "cell_type": "code",
   "execution_count": 33,
   "metadata": {
    "id": "i409op8p0q1F"
   },
   "outputs": [],
   "source": [
    "# Imprime las condiciones de la tarifa y asegúrate de que te quedan claras\n",
    "\n",
    "surf_pago_mensual=20\n",
    "surf_minutos_mensual=500\n",
    "surf_mensajes_mensual=50\n",
    "surf_datos_mensual=15\n",
    "surf_minutos_extra=0.03\n",
    "surf_mensajes_extra=0.03\n",
    "surf_datos_extra=10\n",
    "\n",
    "ultimate_pago_mensual=70\n",
    "ultimate_minutos_mensual=3000\n",
    "ultimate_mensajes_mensual=1000\n",
    "ultimate_datos_mensual=30\n",
    "ultimate_minutos_extra=0.01\n",
    "ultimate_mensajes_extra=0.01\n",
    "ultimate_datos_extra=7"
   ]
  },
  {
   "cell_type": "markdown",
   "metadata": {
    "id": "hMR1tP5d0q1F"
   },
   "source": [
    "## Agregar datos por usuario\n",
    "\n"
   ]
  },
  {
   "cell_type": "markdown",
   "metadata": {},
   "source": [
    "<div class=\"alert alert-block alert-info\">\n",
    "<b>Respuesta del estudiante</b> <a class=\"tocSkip\"></a>\n",
    "\n",
    "Se aplico las correccion correspondientes de acuerdo a lo sugerido   \n",
    "</div>"
   ]
  },
  {
   "cell_type": "code",
   "execution_count": 34,
   "metadata": {
    "id": "aw2cmuql0q1G"
   },
   "outputs": [
    {
     "data": {
      "text/html": [
       "<div>\n",
       "<style scoped>\n",
       "    .dataframe tbody tr th:only-of-type {\n",
       "        vertical-align: middle;\n",
       "    }\n",
       "\n",
       "    .dataframe tbody tr th {\n",
       "        vertical-align: top;\n",
       "    }\n",
       "\n",
       "    .dataframe thead th {\n",
       "        text-align: right;\n",
       "    }\n",
       "</style>\n",
       "<table border=\"1\" class=\"dataframe\">\n",
       "  <thead>\n",
       "    <tr style=\"text-align: right;\">\n",
       "      <th></th>\n",
       "      <th>user_id</th>\n",
       "      <th>mes</th>\n",
       "      <th>minutos_usados</th>\n",
       "      <th>llamadas_hechas</th>\n",
       "    </tr>\n",
       "  </thead>\n",
       "  <tbody>\n",
       "    <tr>\n",
       "      <th>0</th>\n",
       "      <td>1000</td>\n",
       "      <td>12</td>\n",
       "      <td>124.0</td>\n",
       "      <td>16</td>\n",
       "    </tr>\n",
       "    <tr>\n",
       "      <th>1</th>\n",
       "      <td>1001</td>\n",
       "      <td>8</td>\n",
       "      <td>182.0</td>\n",
       "      <td>22</td>\n",
       "    </tr>\n",
       "    <tr>\n",
       "      <th>2</th>\n",
       "      <td>1001</td>\n",
       "      <td>9</td>\n",
       "      <td>315.0</td>\n",
       "      <td>38</td>\n",
       "    </tr>\n",
       "    <tr>\n",
       "      <th>3</th>\n",
       "      <td>1001</td>\n",
       "      <td>10</td>\n",
       "      <td>393.0</td>\n",
       "      <td>47</td>\n",
       "    </tr>\n",
       "    <tr>\n",
       "      <th>4</th>\n",
       "      <td>1001</td>\n",
       "      <td>11</td>\n",
       "      <td>426.0</td>\n",
       "      <td>49</td>\n",
       "    </tr>\n",
       "    <tr>\n",
       "      <th>...</th>\n",
       "      <td>...</td>\n",
       "      <td>...</td>\n",
       "      <td>...</td>\n",
       "      <td>...</td>\n",
       "    </tr>\n",
       "    <tr>\n",
       "      <th>2251</th>\n",
       "      <td>1498</td>\n",
       "      <td>12</td>\n",
       "      <td>339.0</td>\n",
       "      <td>32</td>\n",
       "    </tr>\n",
       "    <tr>\n",
       "      <th>2252</th>\n",
       "      <td>1499</td>\n",
       "      <td>9</td>\n",
       "      <td>346.0</td>\n",
       "      <td>35</td>\n",
       "    </tr>\n",
       "    <tr>\n",
       "      <th>2253</th>\n",
       "      <td>1499</td>\n",
       "      <td>10</td>\n",
       "      <td>385.0</td>\n",
       "      <td>41</td>\n",
       "    </tr>\n",
       "    <tr>\n",
       "      <th>2254</th>\n",
       "      <td>1499</td>\n",
       "      <td>11</td>\n",
       "      <td>308.0</td>\n",
       "      <td>39</td>\n",
       "    </tr>\n",
       "    <tr>\n",
       "      <th>2255</th>\n",
       "      <td>1499</td>\n",
       "      <td>12</td>\n",
       "      <td>496.0</td>\n",
       "      <td>56</td>\n",
       "    </tr>\n",
       "  </tbody>\n",
       "</table>\n",
       "<p>2256 rows × 4 columns</p>\n",
       "</div>"
      ],
      "text/plain": [
       "      user_id  mes  minutos_usados  llamadas_hechas\n",
       "0        1000   12           124.0               16\n",
       "1        1001    8           182.0               22\n",
       "2        1001    9           315.0               38\n",
       "3        1001   10           393.0               47\n",
       "4        1001   11           426.0               49\n",
       "...       ...  ...             ...              ...\n",
       "2251     1498   12           339.0               32\n",
       "2252     1499    9           346.0               35\n",
       "2253     1499   10           385.0               41\n",
       "2254     1499   11           308.0               39\n",
       "2255     1499   12           496.0               56\n",
       "\n",
       "[2256 rows x 4 columns]"
      ]
     },
     "execution_count": 34,
     "metadata": {},
     "output_type": "execute_result"
    }
   ],
   "source": [
    "# Calcula el número de llamadas hechas por cada usuario al mes. Guarda el resultado:\n",
    "# Calcula la cantidad de minutos usados por cada usuario al mes. Guarda el resultado:\n",
    "llamadas_analytics=llamadas_df.pivot_table(index=['user_id','mes'],values='duracion_redondeada',aggfunc=['sum','count'])\n",
    "llamadas_analytics.columns=['minutos_usados','llamadas_hechas']\n",
    "llamadas_analytics=llamadas_analytics.reset_index()\n",
    "llamadas_analytics"
   ]
  },
  {
   "cell_type": "code",
   "execution_count": 35,
   "metadata": {
    "id": "CcQvNHn60q1G"
   },
   "outputs": [
    {
     "data": {
      "text/html": [
       "<div>\n",
       "<style scoped>\n",
       "    .dataframe tbody tr th:only-of-type {\n",
       "        vertical-align: middle;\n",
       "    }\n",
       "\n",
       "    .dataframe tbody tr th {\n",
       "        vertical-align: top;\n",
       "    }\n",
       "\n",
       "    .dataframe thead th {\n",
       "        text-align: right;\n",
       "    }\n",
       "</style>\n",
       "<table border=\"1\" class=\"dataframe\">\n",
       "  <thead>\n",
       "    <tr style=\"text-align: right;\">\n",
       "      <th></th>\n",
       "      <th>user_id</th>\n",
       "      <th>mes</th>\n",
       "      <th>cantidad_de_mensajes</th>\n",
       "    </tr>\n",
       "  </thead>\n",
       "  <tbody>\n",
       "    <tr>\n",
       "      <th>0</th>\n",
       "      <td>1000</td>\n",
       "      <td>12</td>\n",
       "      <td>11</td>\n",
       "    </tr>\n",
       "    <tr>\n",
       "      <th>1</th>\n",
       "      <td>1001</td>\n",
       "      <td>8</td>\n",
       "      <td>30</td>\n",
       "    </tr>\n",
       "    <tr>\n",
       "      <th>2</th>\n",
       "      <td>1001</td>\n",
       "      <td>9</td>\n",
       "      <td>44</td>\n",
       "    </tr>\n",
       "    <tr>\n",
       "      <th>3</th>\n",
       "      <td>1001</td>\n",
       "      <td>10</td>\n",
       "      <td>53</td>\n",
       "    </tr>\n",
       "    <tr>\n",
       "      <th>4</th>\n",
       "      <td>1001</td>\n",
       "      <td>11</td>\n",
       "      <td>36</td>\n",
       "    </tr>\n",
       "    <tr>\n",
       "      <th>...</th>\n",
       "      <td>...</td>\n",
       "      <td>...</td>\n",
       "      <td>...</td>\n",
       "    </tr>\n",
       "    <tr>\n",
       "      <th>1801</th>\n",
       "      <td>1496</td>\n",
       "      <td>9</td>\n",
       "      <td>21</td>\n",
       "    </tr>\n",
       "    <tr>\n",
       "      <th>1802</th>\n",
       "      <td>1496</td>\n",
       "      <td>10</td>\n",
       "      <td>18</td>\n",
       "    </tr>\n",
       "    <tr>\n",
       "      <th>1803</th>\n",
       "      <td>1496</td>\n",
       "      <td>11</td>\n",
       "      <td>13</td>\n",
       "    </tr>\n",
       "    <tr>\n",
       "      <th>1804</th>\n",
       "      <td>1496</td>\n",
       "      <td>12</td>\n",
       "      <td>11</td>\n",
       "    </tr>\n",
       "    <tr>\n",
       "      <th>1805</th>\n",
       "      <td>1497</td>\n",
       "      <td>12</td>\n",
       "      <td>50</td>\n",
       "    </tr>\n",
       "  </tbody>\n",
       "</table>\n",
       "<p>1806 rows × 3 columns</p>\n",
       "</div>"
      ],
      "text/plain": [
       "      user_id  mes  cantidad_de_mensajes\n",
       "0        1000   12                    11\n",
       "1        1001    8                    30\n",
       "2        1001    9                    44\n",
       "3        1001   10                    53\n",
       "4        1001   11                    36\n",
       "...       ...  ...                   ...\n",
       "1801     1496    9                    21\n",
       "1802     1496   10                    18\n",
       "1803     1496   11                    13\n",
       "1804     1496   12                    11\n",
       "1805     1497   12                    50\n",
       "\n",
       "[1806 rows x 3 columns]"
      ]
     },
     "execution_count": 35,
     "metadata": {},
     "output_type": "execute_result"
    }
   ],
   "source": [
    "# Calcula el número de mensajes enviados por cada usuario al mes. Guarda el resultado.\n",
    "mensajes_analytics=mensajes_df.pivot_table(index=['user_id','mes'],values='message_id',aggfunc='count')\n",
    "mensajes_analytics.columns=['cantidad_de_mensajes']\n",
    "mensajes_analytics=mensajes_analytics.reset_index()\n",
    "mensajes_analytics\n"
   ]
  },
  {
   "cell_type": "code",
   "execution_count": 36,
   "metadata": {
    "id": "H1AqN2eG0q1H"
   },
   "outputs": [
    {
     "data": {
      "text/html": [
       "<div>\n",
       "<style scoped>\n",
       "    .dataframe tbody tr th:only-of-type {\n",
       "        vertical-align: middle;\n",
       "    }\n",
       "\n",
       "    .dataframe tbody tr th {\n",
       "        vertical-align: top;\n",
       "    }\n",
       "\n",
       "    .dataframe thead th {\n",
       "        text-align: right;\n",
       "    }\n",
       "</style>\n",
       "<table border=\"1\" class=\"dataframe\">\n",
       "  <thead>\n",
       "    <tr style=\"text-align: right;\">\n",
       "      <th></th>\n",
       "      <th>user_id</th>\n",
       "      <th>mes</th>\n",
       "      <th>total_de_datos_usados</th>\n",
       "      <th>total_de_datos_usados_redondeados</th>\n",
       "    </tr>\n",
       "  </thead>\n",
       "  <tbody>\n",
       "    <tr>\n",
       "      <th>0</th>\n",
       "      <td>1000</td>\n",
       "      <td>12</td>\n",
       "      <td>1901.47</td>\n",
       "      <td>2.0</td>\n",
       "    </tr>\n",
       "    <tr>\n",
       "      <th>1</th>\n",
       "      <td>1001</td>\n",
       "      <td>8</td>\n",
       "      <td>6919.15</td>\n",
       "      <td>7.0</td>\n",
       "    </tr>\n",
       "    <tr>\n",
       "      <th>2</th>\n",
       "      <td>1001</td>\n",
       "      <td>9</td>\n",
       "      <td>13314.82</td>\n",
       "      <td>14.0</td>\n",
       "    </tr>\n",
       "    <tr>\n",
       "      <th>3</th>\n",
       "      <td>1001</td>\n",
       "      <td>10</td>\n",
       "      <td>22330.49</td>\n",
       "      <td>22.0</td>\n",
       "    </tr>\n",
       "    <tr>\n",
       "      <th>4</th>\n",
       "      <td>1001</td>\n",
       "      <td>11</td>\n",
       "      <td>18504.30</td>\n",
       "      <td>19.0</td>\n",
       "    </tr>\n",
       "    <tr>\n",
       "      <th>...</th>\n",
       "      <td>...</td>\n",
       "      <td>...</td>\n",
       "      <td>...</td>\n",
       "      <td>...</td>\n",
       "    </tr>\n",
       "    <tr>\n",
       "      <th>2272</th>\n",
       "      <td>1498</td>\n",
       "      <td>12</td>\n",
       "      <td>23137.69</td>\n",
       "      <td>23.0</td>\n",
       "    </tr>\n",
       "    <tr>\n",
       "      <th>2273</th>\n",
       "      <td>1499</td>\n",
       "      <td>9</td>\n",
       "      <td>12984.76</td>\n",
       "      <td>13.0</td>\n",
       "    </tr>\n",
       "    <tr>\n",
       "      <th>2274</th>\n",
       "      <td>1499</td>\n",
       "      <td>10</td>\n",
       "      <td>19492.43</td>\n",
       "      <td>20.0</td>\n",
       "    </tr>\n",
       "    <tr>\n",
       "      <th>2275</th>\n",
       "      <td>1499</td>\n",
       "      <td>11</td>\n",
       "      <td>16813.83</td>\n",
       "      <td>17.0</td>\n",
       "    </tr>\n",
       "    <tr>\n",
       "      <th>2276</th>\n",
       "      <td>1499</td>\n",
       "      <td>12</td>\n",
       "      <td>22059.21</td>\n",
       "      <td>22.0</td>\n",
       "    </tr>\n",
       "  </tbody>\n",
       "</table>\n",
       "<p>2277 rows × 4 columns</p>\n",
       "</div>"
      ],
      "text/plain": [
       "      user_id  mes  total_de_datos_usados  total_de_datos_usados_redondeados\n",
       "0        1000   12                1901.47                                2.0\n",
       "1        1001    8                6919.15                                7.0\n",
       "2        1001    9               13314.82                               14.0\n",
       "3        1001   10               22330.49                               22.0\n",
       "4        1001   11               18504.30                               19.0\n",
       "...       ...  ...                    ...                                ...\n",
       "2272     1498   12               23137.69                               23.0\n",
       "2273     1499    9               12984.76                               13.0\n",
       "2274     1499   10               19492.43                               20.0\n",
       "2275     1499   11               16813.83                               17.0\n",
       "2276     1499   12               22059.21                               22.0\n",
       "\n",
       "[2277 rows x 4 columns]"
      ]
     },
     "execution_count": 36,
     "metadata": {},
     "output_type": "execute_result"
    }
   ],
   "source": [
    "# Calcula el volumen del tráfico de Internet usado por cada usuario al mes. Guarda el resultado.\n",
    "internet_analytics=internet_df.pivot_table(index=['user_id','mes'],values='mb_used',aggfunc='sum')\n",
    "internet_analytics.columns=['total_de_datos_usados']\n",
    "internet_analytics=internet_analytics.reset_index()\n",
    "\n",
    "internet_analytics['total_de_datos_usados_redondeados'] = np.ceil(internet_analytics['total_de_datos_usados'] / 1024)\n",
    "internet_analytics\n"
   ]
  },
  {
   "cell_type": "code",
   "execution_count": 37,
   "metadata": {
    "id": "FW99ykyf0q1H"
   },
   "outputs": [
    {
     "data": {
      "text/html": [
       "<div>\n",
       "<style scoped>\n",
       "    .dataframe tbody tr th:only-of-type {\n",
       "        vertical-align: middle;\n",
       "    }\n",
       "\n",
       "    .dataframe tbody tr th {\n",
       "        vertical-align: top;\n",
       "    }\n",
       "\n",
       "    .dataframe thead th {\n",
       "        text-align: right;\n",
       "    }\n",
       "</style>\n",
       "<table border=\"1\" class=\"dataframe\">\n",
       "  <thead>\n",
       "    <tr style=\"text-align: right;\">\n",
       "      <th></th>\n",
       "      <th>user_id</th>\n",
       "      <th>mes</th>\n",
       "      <th>minutos_usados</th>\n",
       "      <th>llamadas_hechas</th>\n",
       "      <th>cantidad_de_mensajes</th>\n",
       "      <th>total_de_datos_usados</th>\n",
       "      <th>total_de_datos_usados_redondeados</th>\n",
       "    </tr>\n",
       "  </thead>\n",
       "  <tbody>\n",
       "    <tr>\n",
       "      <th>0</th>\n",
       "      <td>1000</td>\n",
       "      <td>12</td>\n",
       "      <td>124.0</td>\n",
       "      <td>16.0</td>\n",
       "      <td>11.0</td>\n",
       "      <td>1901.47</td>\n",
       "      <td>2.0</td>\n",
       "    </tr>\n",
       "    <tr>\n",
       "      <th>1</th>\n",
       "      <td>1001</td>\n",
       "      <td>8</td>\n",
       "      <td>182.0</td>\n",
       "      <td>22.0</td>\n",
       "      <td>30.0</td>\n",
       "      <td>6919.15</td>\n",
       "      <td>7.0</td>\n",
       "    </tr>\n",
       "    <tr>\n",
       "      <th>2</th>\n",
       "      <td>1001</td>\n",
       "      <td>9</td>\n",
       "      <td>315.0</td>\n",
       "      <td>38.0</td>\n",
       "      <td>44.0</td>\n",
       "      <td>13314.82</td>\n",
       "      <td>14.0</td>\n",
       "    </tr>\n",
       "    <tr>\n",
       "      <th>3</th>\n",
       "      <td>1001</td>\n",
       "      <td>10</td>\n",
       "      <td>393.0</td>\n",
       "      <td>47.0</td>\n",
       "      <td>53.0</td>\n",
       "      <td>22330.49</td>\n",
       "      <td>22.0</td>\n",
       "    </tr>\n",
       "    <tr>\n",
       "      <th>4</th>\n",
       "      <td>1001</td>\n",
       "      <td>11</td>\n",
       "      <td>426.0</td>\n",
       "      <td>49.0</td>\n",
       "      <td>36.0</td>\n",
       "      <td>18504.30</td>\n",
       "      <td>19.0</td>\n",
       "    </tr>\n",
       "    <tr>\n",
       "      <th>...</th>\n",
       "      <td>...</td>\n",
       "      <td>...</td>\n",
       "      <td>...</td>\n",
       "      <td>...</td>\n",
       "      <td>...</td>\n",
       "      <td>...</td>\n",
       "      <td>...</td>\n",
       "    </tr>\n",
       "    <tr>\n",
       "      <th>2288</th>\n",
       "      <td>1407</td>\n",
       "      <td>11</td>\n",
       "      <td>NaN</td>\n",
       "      <td>NaN</td>\n",
       "      <td>1.0</td>\n",
       "      <td>290.06</td>\n",
       "      <td>1.0</td>\n",
       "    </tr>\n",
       "    <tr>\n",
       "      <th>2289</th>\n",
       "      <td>1482</td>\n",
       "      <td>10</td>\n",
       "      <td>NaN</td>\n",
       "      <td>NaN</td>\n",
       "      <td>2.0</td>\n",
       "      <td>NaN</td>\n",
       "      <td>NaN</td>\n",
       "    </tr>\n",
       "    <tr>\n",
       "      <th>2290</th>\n",
       "      <td>1094</td>\n",
       "      <td>10</td>\n",
       "      <td>NaN</td>\n",
       "      <td>NaN</td>\n",
       "      <td>NaN</td>\n",
       "      <td>1728.71</td>\n",
       "      <td>2.0</td>\n",
       "    </tr>\n",
       "    <tr>\n",
       "      <th>2291</th>\n",
       "      <td>1108</td>\n",
       "      <td>12</td>\n",
       "      <td>NaN</td>\n",
       "      <td>NaN</td>\n",
       "      <td>NaN</td>\n",
       "      <td>233.17</td>\n",
       "      <td>1.0</td>\n",
       "    </tr>\n",
       "    <tr>\n",
       "      <th>2292</th>\n",
       "      <td>1311</td>\n",
       "      <td>6</td>\n",
       "      <td>NaN</td>\n",
       "      <td>NaN</td>\n",
       "      <td>NaN</td>\n",
       "      <td>1498.83</td>\n",
       "      <td>2.0</td>\n",
       "    </tr>\n",
       "  </tbody>\n",
       "</table>\n",
       "<p>2293 rows × 7 columns</p>\n",
       "</div>"
      ],
      "text/plain": [
       "      user_id  mes  minutos_usados  llamadas_hechas  cantidad_de_mensajes  \\\n",
       "0        1000   12           124.0             16.0                  11.0   \n",
       "1        1001    8           182.0             22.0                  30.0   \n",
       "2        1001    9           315.0             38.0                  44.0   \n",
       "3        1001   10           393.0             47.0                  53.0   \n",
       "4        1001   11           426.0             49.0                  36.0   \n",
       "...       ...  ...             ...              ...                   ...   \n",
       "2288     1407   11             NaN              NaN                   1.0   \n",
       "2289     1482   10             NaN              NaN                   2.0   \n",
       "2290     1094   10             NaN              NaN                   NaN   \n",
       "2291     1108   12             NaN              NaN                   NaN   \n",
       "2292     1311    6             NaN              NaN                   NaN   \n",
       "\n",
       "      total_de_datos_usados  total_de_datos_usados_redondeados  \n",
       "0                   1901.47                                2.0  \n",
       "1                   6919.15                                7.0  \n",
       "2                  13314.82                               14.0  \n",
       "3                  22330.49                               22.0  \n",
       "4                  18504.30                               19.0  \n",
       "...                     ...                                ...  \n",
       "2288                 290.06                                1.0  \n",
       "2289                    NaN                                NaN  \n",
       "2290                1728.71                                2.0  \n",
       "2291                 233.17                                1.0  \n",
       "2292                1498.83                                2.0  \n",
       "\n",
       "[2293 rows x 7 columns]"
      ]
     },
     "execution_count": 37,
     "metadata": {},
     "output_type": "execute_result"
    }
   ],
   "source": [
    "# Fusiona los datos de llamadas, minutos, mensajes e Internet con base en user_id y month\n",
    "\n",
    "llamadas_mensajes= llamadas_analytics.merge(mensajes_analytics, on = ['user_id','mes'],how='outer')\n",
    "tabla_de_consumo = llamadas_mensajes.merge(internet_analytics, on = ['user_id','mes'],how='outer')\n",
    "tabla_de_consumo"
   ]
  },
  {
   "cell_type": "code",
   "execution_count": 38,
   "metadata": {},
   "outputs": [
    {
     "data": {
      "text/html": [
       "<div>\n",
       "<style scoped>\n",
       "    .dataframe tbody tr th:only-of-type {\n",
       "        vertical-align: middle;\n",
       "    }\n",
       "\n",
       "    .dataframe tbody tr th {\n",
       "        vertical-align: top;\n",
       "    }\n",
       "\n",
       "    .dataframe thead th {\n",
       "        text-align: right;\n",
       "    }\n",
       "</style>\n",
       "<table border=\"1\" class=\"dataframe\">\n",
       "  <thead>\n",
       "    <tr style=\"text-align: right;\">\n",
       "      <th></th>\n",
       "      <th>user_id</th>\n",
       "      <th>mes</th>\n",
       "      <th>minutos_usados</th>\n",
       "      <th>llamadas_hechas</th>\n",
       "      <th>cantidad_de_mensajes</th>\n",
       "      <th>total_de_datos_usados</th>\n",
       "      <th>total_de_datos_usados_redondeados</th>\n",
       "    </tr>\n",
       "  </thead>\n",
       "  <tbody>\n",
       "    <tr>\n",
       "      <th>0</th>\n",
       "      <td>1000</td>\n",
       "      <td>12</td>\n",
       "      <td>124.0</td>\n",
       "      <td>16.0</td>\n",
       "      <td>11.0</td>\n",
       "      <td>1901.47</td>\n",
       "      <td>2.0</td>\n",
       "    </tr>\n",
       "    <tr>\n",
       "      <th>1</th>\n",
       "      <td>1001</td>\n",
       "      <td>8</td>\n",
       "      <td>182.0</td>\n",
       "      <td>22.0</td>\n",
       "      <td>30.0</td>\n",
       "      <td>6919.15</td>\n",
       "      <td>7.0</td>\n",
       "    </tr>\n",
       "    <tr>\n",
       "      <th>2</th>\n",
       "      <td>1001</td>\n",
       "      <td>9</td>\n",
       "      <td>315.0</td>\n",
       "      <td>38.0</td>\n",
       "      <td>44.0</td>\n",
       "      <td>13314.82</td>\n",
       "      <td>14.0</td>\n",
       "    </tr>\n",
       "    <tr>\n",
       "      <th>3</th>\n",
       "      <td>1001</td>\n",
       "      <td>10</td>\n",
       "      <td>393.0</td>\n",
       "      <td>47.0</td>\n",
       "      <td>53.0</td>\n",
       "      <td>22330.49</td>\n",
       "      <td>22.0</td>\n",
       "    </tr>\n",
       "    <tr>\n",
       "      <th>4</th>\n",
       "      <td>1001</td>\n",
       "      <td>11</td>\n",
       "      <td>426.0</td>\n",
       "      <td>49.0</td>\n",
       "      <td>36.0</td>\n",
       "      <td>18504.30</td>\n",
       "      <td>19.0</td>\n",
       "    </tr>\n",
       "    <tr>\n",
       "      <th>...</th>\n",
       "      <td>...</td>\n",
       "      <td>...</td>\n",
       "      <td>...</td>\n",
       "      <td>...</td>\n",
       "      <td>...</td>\n",
       "      <td>...</td>\n",
       "      <td>...</td>\n",
       "    </tr>\n",
       "    <tr>\n",
       "      <th>2288</th>\n",
       "      <td>1407</td>\n",
       "      <td>11</td>\n",
       "      <td>0.0</td>\n",
       "      <td>0.0</td>\n",
       "      <td>1.0</td>\n",
       "      <td>290.06</td>\n",
       "      <td>1.0</td>\n",
       "    </tr>\n",
       "    <tr>\n",
       "      <th>2289</th>\n",
       "      <td>1482</td>\n",
       "      <td>10</td>\n",
       "      <td>0.0</td>\n",
       "      <td>0.0</td>\n",
       "      <td>2.0</td>\n",
       "      <td>0.00</td>\n",
       "      <td>0.0</td>\n",
       "    </tr>\n",
       "    <tr>\n",
       "      <th>2290</th>\n",
       "      <td>1094</td>\n",
       "      <td>10</td>\n",
       "      <td>0.0</td>\n",
       "      <td>0.0</td>\n",
       "      <td>0.0</td>\n",
       "      <td>1728.71</td>\n",
       "      <td>2.0</td>\n",
       "    </tr>\n",
       "    <tr>\n",
       "      <th>2291</th>\n",
       "      <td>1108</td>\n",
       "      <td>12</td>\n",
       "      <td>0.0</td>\n",
       "      <td>0.0</td>\n",
       "      <td>0.0</td>\n",
       "      <td>233.17</td>\n",
       "      <td>1.0</td>\n",
       "    </tr>\n",
       "    <tr>\n",
       "      <th>2292</th>\n",
       "      <td>1311</td>\n",
       "      <td>6</td>\n",
       "      <td>0.0</td>\n",
       "      <td>0.0</td>\n",
       "      <td>0.0</td>\n",
       "      <td>1498.83</td>\n",
       "      <td>2.0</td>\n",
       "    </tr>\n",
       "  </tbody>\n",
       "</table>\n",
       "<p>2293 rows × 7 columns</p>\n",
       "</div>"
      ],
      "text/plain": [
       "      user_id  mes  minutos_usados  llamadas_hechas  cantidad_de_mensajes  \\\n",
       "0        1000   12           124.0             16.0                  11.0   \n",
       "1        1001    8           182.0             22.0                  30.0   \n",
       "2        1001    9           315.0             38.0                  44.0   \n",
       "3        1001   10           393.0             47.0                  53.0   \n",
       "4        1001   11           426.0             49.0                  36.0   \n",
       "...       ...  ...             ...              ...                   ...   \n",
       "2288     1407   11             0.0              0.0                   1.0   \n",
       "2289     1482   10             0.0              0.0                   2.0   \n",
       "2290     1094   10             0.0              0.0                   0.0   \n",
       "2291     1108   12             0.0              0.0                   0.0   \n",
       "2292     1311    6             0.0              0.0                   0.0   \n",
       "\n",
       "      total_de_datos_usados  total_de_datos_usados_redondeados  \n",
       "0                   1901.47                                2.0  \n",
       "1                   6919.15                                7.0  \n",
       "2                  13314.82                               14.0  \n",
       "3                  22330.49                               22.0  \n",
       "4                  18504.30                               19.0  \n",
       "...                     ...                                ...  \n",
       "2288                 290.06                                1.0  \n",
       "2289                   0.00                                0.0  \n",
       "2290                1728.71                                2.0  \n",
       "2291                 233.17                                1.0  \n",
       "2292                1498.83                                2.0  \n",
       "\n",
       "[2293 rows x 7 columns]"
      ]
     },
     "execution_count": 38,
     "metadata": {},
     "output_type": "execute_result"
    }
   ],
   "source": [
    "# Reemplazando valores nulos\n",
    "tabla_de_consumo.fillna(0,inplace=True)\n",
    "tabla_de_consumo"
   ]
  },
  {
   "cell_type": "code",
   "execution_count": 39,
   "metadata": {
    "id": "0dNOXHag0q1H"
   },
   "outputs": [
    {
     "data": {
      "text/html": [
       "<div>\n",
       "<style scoped>\n",
       "    .dataframe tbody tr th:only-of-type {\n",
       "        vertical-align: middle;\n",
       "    }\n",
       "\n",
       "    .dataframe tbody tr th {\n",
       "        vertical-align: top;\n",
       "    }\n",
       "\n",
       "    .dataframe thead th {\n",
       "        text-align: right;\n",
       "    }\n",
       "</style>\n",
       "<table border=\"1\" class=\"dataframe\">\n",
       "  <thead>\n",
       "    <tr style=\"text-align: right;\">\n",
       "      <th></th>\n",
       "      <th>user_id</th>\n",
       "      <th>mes</th>\n",
       "      <th>minutos_usados</th>\n",
       "      <th>llamadas_hechas</th>\n",
       "      <th>cantidad_de_mensajes</th>\n",
       "      <th>total_de_datos_usados</th>\n",
       "      <th>total_de_datos_usados_redondeados</th>\n",
       "      <th>plan_id</th>\n",
       "      <th>city</th>\n",
       "    </tr>\n",
       "  </thead>\n",
       "  <tbody>\n",
       "    <tr>\n",
       "      <th>0</th>\n",
       "      <td>1000</td>\n",
       "      <td>12.0</td>\n",
       "      <td>124.0</td>\n",
       "      <td>16.0</td>\n",
       "      <td>11.0</td>\n",
       "      <td>1901.47</td>\n",
       "      <td>2.0</td>\n",
       "      <td>ultimate</td>\n",
       "      <td>Atlanta-Sandy Springs-Roswell, GA MSA</td>\n",
       "    </tr>\n",
       "    <tr>\n",
       "      <th>1</th>\n",
       "      <td>1001</td>\n",
       "      <td>8.0</td>\n",
       "      <td>182.0</td>\n",
       "      <td>22.0</td>\n",
       "      <td>30.0</td>\n",
       "      <td>6919.15</td>\n",
       "      <td>7.0</td>\n",
       "      <td>surf</td>\n",
       "      <td>Seattle-Tacoma-Bellevue, WA MSA</td>\n",
       "    </tr>\n",
       "    <tr>\n",
       "      <th>2</th>\n",
       "      <td>1001</td>\n",
       "      <td>9.0</td>\n",
       "      <td>315.0</td>\n",
       "      <td>38.0</td>\n",
       "      <td>44.0</td>\n",
       "      <td>13314.82</td>\n",
       "      <td>14.0</td>\n",
       "      <td>surf</td>\n",
       "      <td>Seattle-Tacoma-Bellevue, WA MSA</td>\n",
       "    </tr>\n",
       "    <tr>\n",
       "      <th>3</th>\n",
       "      <td>1001</td>\n",
       "      <td>10.0</td>\n",
       "      <td>393.0</td>\n",
       "      <td>47.0</td>\n",
       "      <td>53.0</td>\n",
       "      <td>22330.49</td>\n",
       "      <td>22.0</td>\n",
       "      <td>surf</td>\n",
       "      <td>Seattle-Tacoma-Bellevue, WA MSA</td>\n",
       "    </tr>\n",
       "    <tr>\n",
       "      <th>4</th>\n",
       "      <td>1001</td>\n",
       "      <td>11.0</td>\n",
       "      <td>426.0</td>\n",
       "      <td>49.0</td>\n",
       "      <td>36.0</td>\n",
       "      <td>18504.30</td>\n",
       "      <td>19.0</td>\n",
       "      <td>surf</td>\n",
       "      <td>Seattle-Tacoma-Bellevue, WA MSA</td>\n",
       "    </tr>\n",
       "  </tbody>\n",
       "</table>\n",
       "</div>"
      ],
      "text/plain": [
       "   user_id   mes  minutos_usados  llamadas_hechas  cantidad_de_mensajes  \\\n",
       "0     1000  12.0           124.0             16.0                  11.0   \n",
       "1     1001   8.0           182.0             22.0                  30.0   \n",
       "2     1001   9.0           315.0             38.0                  44.0   \n",
       "3     1001  10.0           393.0             47.0                  53.0   \n",
       "4     1001  11.0           426.0             49.0                  36.0   \n",
       "\n",
       "   total_de_datos_usados  total_de_datos_usados_redondeados   plan_id  \\\n",
       "0                1901.47                                2.0  ultimate   \n",
       "1                6919.15                                7.0      surf   \n",
       "2               13314.82                               14.0      surf   \n",
       "3               22330.49                               22.0      surf   \n",
       "4               18504.30                               19.0      surf   \n",
       "\n",
       "                                    city  \n",
       "0  Atlanta-Sandy Springs-Roswell, GA MSA  \n",
       "1        Seattle-Tacoma-Bellevue, WA MSA  \n",
       "2        Seattle-Tacoma-Bellevue, WA MSA  \n",
       "3        Seattle-Tacoma-Bellevue, WA MSA  \n",
       "4        Seattle-Tacoma-Bellevue, WA MSA  "
      ]
     },
     "execution_count": 39,
     "metadata": {},
     "output_type": "execute_result"
    }
   ],
   "source": [
    "# Añade la información de la tarifa\n",
    "\n",
    "plan_analytics = user_df[['user_id','plan_id', 'city']]\n",
    "\n",
    "tabla_de_consumo_planes = tabla_de_consumo.merge(plan_analytics,on=['user_id'],how='outer')\n",
    "tabla_de_consumo_planes.fillna(0,inplace=True)\n",
    "tabla_de_consumo_planes.head()"
   ]
  },
  {
   "cell_type": "code",
   "execution_count": 40,
   "metadata": {
    "id": "5FGCf_c60q1I"
   },
   "outputs": [],
   "source": [
    "# Calcula el ingreso mensual para cada usuario\n",
    "\n",
    "def llamadas_por_cobrar (fila):\n",
    "    plan=fila['plan_id']\n",
    "    minutos_usados = fila['minutos_usados']\n",
    "    \n",
    "    minutos_cobrables = 0\n",
    "    \n",
    "    if plan == \"surf\":\n",
    "        if minutos_usados > surf_minutos_mensual:\n",
    "            minutos_cobrables= minutos_usados - surf_minutos_mensual\n",
    "    elif plan == 'ultimate':\n",
    "        if minutos_usados > ultimate_minutos_mensual:\n",
    "            minutos_cobrables= minutos_usados - ultimate_minutos_mensual\n",
    "        \n",
    "    return minutos_cobrables   \n",
    "    \n"
   ]
  },
  {
   "cell_type": "code",
   "execution_count": 41,
   "metadata": {
    "scrolled": true
   },
   "outputs": [],
   "source": [
    "tabla_de_consumo_planes['minutos_cobrables'] = tabla_de_consumo_planes.apply(llamadas_por_cobrar, axis=1)\n"
   ]
  },
  {
   "cell_type": "code",
   "execution_count": 42,
   "metadata": {},
   "outputs": [],
   "source": [
    "# Definir los costos por minutos excedentes\n",
    "def costo_llamadas(fila):\n",
    "    plan = fila['plan_id']\n",
    "    minutos_cobrables = fila['minutos_cobrables']\n",
    "    \n",
    "    if plan == 'surf':\n",
    "        return minutos_cobrables * surf_minutos_extra\n",
    "    elif plan == 'ultimate':\n",
    "        return minutos_cobrables * ultimate_minutos_extra\n",
    "    return 0\n",
    "\n",
    "tabla_de_consumo_planes['costo_llamadas'] = tabla_de_consumo_planes.apply(costo_llamadas, axis=1)"
   ]
  },
  {
   "cell_type": "code",
   "execution_count": 43,
   "metadata": {},
   "outputs": [],
   "source": [
    "def mensajes_por_cobrar(fila):\n",
    "    plan = fila['plan_id']\n",
    "    mensajes_usados = fila['cantidad_de_mensajes']\n",
    "    \n",
    "    mensajes_cobrables = 0\n",
    "    \n",
    "    if plan == \"surf\":\n",
    "        if mensajes_usados > surf_mensajes_mensual:\n",
    "            mensajes_cobrables = mensajes_usados - surf_mensajes_mensual\n",
    "    elif plan == 'ultimate':\n",
    "        if mensajes_usados > ultimate_mensajes_mensual:\n",
    "            mensajes_cobrables = mensajes_usados - ultimate_mensajes_mensual\n",
    "    \n",
    "    return mensajes_cobrables\n",
    "\n",
    "tabla_de_consumo_planes['mensajes_cobrables'] = tabla_de_consumo_planes.apply(mensajes_por_cobrar, axis=1)\n",
    "\n",
    "def costo_mensajes(fila):\n",
    "    plan = fila['plan_id']\n",
    "    mensajes_cobrables = fila['mensajes_cobrables']\n",
    "    \n",
    "    if plan == 'surf':\n",
    "        return mensajes_cobrables * surf_mensajes_extra\n",
    "    elif plan == 'ultimate':\n",
    "        return mensajes_cobrables * ultimate_mensajes_extra\n",
    "    return 0\n",
    "\n",
    "tabla_de_consumo_planes['costo_mensajes'] = tabla_de_consumo_planes.apply(costo_mensajes, axis=1)\n"
   ]
  },
  {
   "cell_type": "code",
   "execution_count": 44,
   "metadata": {},
   "outputs": [],
   "source": [
    "def datos_por_cobrar(fila):\n",
    "    plan = fila['plan_id']\n",
    "    datos_usados = fila['total_de_datos_usados_redondeados']\n",
    "    \n",
    "    datos_cobrables = 0\n",
    "    \n",
    "    if plan == \"surf\":\n",
    "        if datos_usados > surf_datos_mensual:\n",
    "            datos_cobrables = datos_usados - surf_datos_mensual\n",
    "    elif plan == 'ultimate':\n",
    "        if datos_usados > ultimate_datos_mensual:\n",
    "            datos_cobrables = datos_usados - ultimate_datos_mensual\n",
    "    \n",
    "    return datos_cobrables\n",
    "\n",
    "tabla_de_consumo_planes['datos_cobrables'] = tabla_de_consumo_planes.apply(datos_por_cobrar, axis=1)\n",
    "\n",
    "def costo_datos(fila):\n",
    "    plan = fila['plan_id']\n",
    "    datos_cobrables = fila['datos_cobrables']\n",
    "    \n",
    "    if plan == 'surf':\n",
    "        return datos_cobrables * surf_datos_extra\n",
    "    elif plan == 'ultimate':\n",
    "        return datos_cobrables * ultimate_datos_extra\n",
    "    return 0\n",
    "\n",
    "tabla_de_consumo_planes['costo_datos'] = tabla_de_consumo_planes.apply(costo_datos, axis=1)\n"
   ]
  },
  {
   "cell_type": "code",
   "execution_count": 45,
   "metadata": {},
   "outputs": [],
   "source": [
    "def costo_mensual_base(fila):\n",
    "    plan = fila['plan_id']\n",
    "    if plan == 'surf':\n",
    "        return surf_pago_mensual\n",
    "    elif plan == 'ultimate':\n",
    "        return ultimate_pago_mensual\n",
    "    return 0\n",
    "\n",
    "tabla_de_consumo_planes['costo_base'] = tabla_de_consumo_planes.apply(costo_mensual_base, axis=1)\n",
    "\n",
    "# Ingreso total por usuario\n",
    "tabla_de_consumo_planes['ingreso_total'] = (\n",
    "    tabla_de_consumo_planes['costo_llamadas'] +\n",
    "    tabla_de_consumo_planes['costo_mensajes'] +\n",
    "    tabla_de_consumo_planes['costo_datos'] +\n",
    "    tabla_de_consumo_planes['costo_base']\n",
    ")"
   ]
  },
  {
   "cell_type": "markdown",
   "metadata": {},
   "source": [
    "<div class=\"alert alert-block alert-info\">\n",
    "<b>Respuesta del estudiante</b> <a class=\"tocSkip\"></a>\n",
    "\n",
    "En esta sección, se ha visto por conveniente agregar los datos por uduario uniendo los DataFrame para su mejor analisis asi como las condiciones de las tarifas para cada uno de los planes, se ha  definido una función llamada costo_mensual_base, la cual toma como argumento una fila de la tabla tabla_de_consumo_planes. Esta función verifica el tipo de plan que tiene el usuario en esa fila y devuelve el costo mensual base correspondiente, ya sea para el plan surf o ultimate.\n",
    "\n",
    "Posteriormente, se aplica la función costo_mensual_base a cada fila de tabla_de_consumo_planes para calcular el costo mensual base y se agrega este valor como una columna adicional llamada costo_base , que corresponde a la tarifa básica de los planes Surf y Ultimate.\n",
    "\n",
    "Además, se calcula el ingreso total por usuario sumando los costos de las llamadas, mensajes y datos adicionales junto con el costo base. Este último representa un componente importante del ingreso total generado por cada usuario en función del plan que tenga contratado.\n",
    "\n",
    "En conclusión, esta parte del código es crucial para calcular y agregar información relevante a la tabla tabla_de_consumo_planes, lo cual permite tener una mejor visión de los ingresos que se perciben por usuarios , por planes y por mes.\n",
    "      \n",
    "</div>"
   ]
  },
  {
   "cell_type": "markdown",
   "metadata": {
    "id": "-jtyHzJb0q1I"
   },
   "source": [
    "## Estudia el comportamiento de usuario"
   ]
  },
  {
   "cell_type": "markdown",
   "metadata": {
    "id": "vtW4CJEe0q1J"
   },
   "source": [
    "### Llamadas"
   ]
  },
  {
   "cell_type": "code",
   "execution_count": 46,
   "metadata": {
    "id": "Jf5v5--k0q1J"
   },
   "outputs": [
    {
     "data": {
      "text/html": [
       "<div>\n",
       "<style scoped>\n",
       "    .dataframe tbody tr th:only-of-type {\n",
       "        vertical-align: middle;\n",
       "    }\n",
       "\n",
       "    .dataframe tbody tr th {\n",
       "        vertical-align: top;\n",
       "    }\n",
       "\n",
       "    .dataframe thead th {\n",
       "        text-align: right;\n",
       "    }\n",
       "</style>\n",
       "<table border=\"1\" class=\"dataframe\">\n",
       "  <thead>\n",
       "    <tr style=\"text-align: right;\">\n",
       "      <th>plan_id</th>\n",
       "      <th>surf</th>\n",
       "      <th>ultimate</th>\n",
       "    </tr>\n",
       "    <tr>\n",
       "      <th>mes</th>\n",
       "      <th></th>\n",
       "      <th></th>\n",
       "    </tr>\n",
       "  </thead>\n",
       "  <tbody>\n",
       "    <tr>\n",
       "      <th>0.0</th>\n",
       "      <td>0.000000</td>\n",
       "      <td>0.000000</td>\n",
       "    </tr>\n",
       "    <tr>\n",
       "      <th>1.0</th>\n",
       "      <td>203.000000</td>\n",
       "      <td>193.500000</td>\n",
       "    </tr>\n",
       "    <tr>\n",
       "      <th>2.0</th>\n",
       "      <td>297.000000</td>\n",
       "      <td>403.142857</td>\n",
       "    </tr>\n",
       "    <tr>\n",
       "      <th>3.0</th>\n",
       "      <td>330.000000</td>\n",
       "      <td>304.250000</td>\n",
       "    </tr>\n",
       "    <tr>\n",
       "      <th>4.0</th>\n",
       "      <td>351.540000</td>\n",
       "      <td>336.857143</td>\n",
       "    </tr>\n",
       "    <tr>\n",
       "      <th>5.0</th>\n",
       "      <td>399.584416</td>\n",
       "      <td>406.241379</td>\n",
       "    </tr>\n",
       "    <tr>\n",
       "      <th>6.0</th>\n",
       "      <td>431.298969</td>\n",
       "      <td>370.957447</td>\n",
       "    </tr>\n",
       "    <tr>\n",
       "      <th>7.0</th>\n",
       "      <td>449.983471</td>\n",
       "      <td>427.067797</td>\n",
       "    </tr>\n",
       "    <tr>\n",
       "      <th>8.0</th>\n",
       "      <td>410.111111</td>\n",
       "      <td>421.436620</td>\n",
       "    </tr>\n",
       "    <tr>\n",
       "      <th>9.0</th>\n",
       "      <td>414.226804</td>\n",
       "      <td>437.511628</td>\n",
       "    </tr>\n",
       "    <tr>\n",
       "      <th>10.0</th>\n",
       "      <td>429.729958</td>\n",
       "      <td>450.735849</td>\n",
       "    </tr>\n",
       "    <tr>\n",
       "      <th>11.0</th>\n",
       "      <td>423.325088</td>\n",
       "      <td>445.196850</td>\n",
       "    </tr>\n",
       "    <tr>\n",
       "      <th>12.0</th>\n",
       "      <td>473.836478</td>\n",
       "      <td>459.099338</td>\n",
       "    </tr>\n",
       "  </tbody>\n",
       "</table>\n",
       "</div>"
      ],
      "text/plain": [
       "plan_id        surf    ultimate\n",
       "mes                            \n",
       "0.0        0.000000    0.000000\n",
       "1.0      203.000000  193.500000\n",
       "2.0      297.000000  403.142857\n",
       "3.0      330.000000  304.250000\n",
       "4.0      351.540000  336.857143\n",
       "5.0      399.584416  406.241379\n",
       "6.0      431.298969  370.957447\n",
       "7.0      449.983471  427.067797\n",
       "8.0      410.111111  421.436620\n",
       "9.0      414.226804  437.511628\n",
       "10.0     429.729958  450.735849\n",
       "11.0     423.325088  445.196850\n",
       "12.0     473.836478  459.099338"
      ]
     },
     "execution_count": 46,
     "metadata": {},
     "output_type": "execute_result"
    }
   ],
   "source": [
    "# Compara la duración promedio de llamadas por cada plan y por cada mes. Traza un gráfico de barras para visualizarla.\n",
    "\n",
    "llamadas_promedio_por_mes = tabla_de_consumo_planes.groupby(['mes', 'plan_id'])['minutos_usados'].mean().unstack()\n",
    "llamadas_promedio_por_mes"
   ]
  },
  {
   "cell_type": "code",
   "execution_count": 47,
   "metadata": {},
   "outputs": [
    {
     "data": {
      "image/png": "[encoded data removed]",
      "text/plain": [
       "<Figure size 1000x600 with 1 Axes>"
      ]
     },
     "metadata": {},
     "output_type": "display_data"
    }
   ],
   "source": [
    "llamadas_promedio_por_mes.plot(kind='bar', figsize=(10, 6))\n",
    "plt.title('Duración Promedia de Llamadas por Plan y Mes')\n",
    "plt.xlabel('Mes')\n",
    "plt.ylabel('Duración Promedia (minutos)')\n",
    "plt.show()"
   ]
  },
  {
   "cell_type": "code",
   "execution_count": 48,
   "metadata": {},
   "outputs": [
    {
     "data": {
      "text/html": [
       "<div>\n",
       "<style scoped>\n",
       "    .dataframe tbody tr th:only-of-type {\n",
       "        vertical-align: middle;\n",
       "    }\n",
       "\n",
       "    .dataframe tbody tr th {\n",
       "        vertical-align: top;\n",
       "    }\n",
       "\n",
       "    .dataframe thead th {\n",
       "        text-align: right;\n",
       "    }\n",
       "</style>\n",
       "<table border=\"1\" class=\"dataframe\">\n",
       "  <thead>\n",
       "    <tr style=\"text-align: right;\">\n",
       "      <th></th>\n",
       "      <th>user_id</th>\n",
       "      <th>plan_id</th>\n",
       "      <th>minutos_usados</th>\n",
       "    </tr>\n",
       "  </thead>\n",
       "  <tbody>\n",
       "    <tr>\n",
       "      <th>0</th>\n",
       "      <td>1000</td>\n",
       "      <td>ultimate</td>\n",
       "      <td>124.0</td>\n",
       "    </tr>\n",
       "    <tr>\n",
       "      <th>1</th>\n",
       "      <td>1001</td>\n",
       "      <td>surf</td>\n",
       "      <td>1728.0</td>\n",
       "    </tr>\n",
       "    <tr>\n",
       "      <th>2</th>\n",
       "      <td>1002</td>\n",
       "      <td>surf</td>\n",
       "      <td>829.0</td>\n",
       "    </tr>\n",
       "    <tr>\n",
       "      <th>3</th>\n",
       "      <td>1003</td>\n",
       "      <td>surf</td>\n",
       "      <td>1104.0</td>\n",
       "    </tr>\n",
       "    <tr>\n",
       "      <th>4</th>\n",
       "      <td>1004</td>\n",
       "      <td>surf</td>\n",
       "      <td>2772.0</td>\n",
       "    </tr>\n",
       "    <tr>\n",
       "      <th>...</th>\n",
       "      <td>...</td>\n",
       "      <td>...</td>\n",
       "      <td>...</td>\n",
       "    </tr>\n",
       "    <tr>\n",
       "      <th>495</th>\n",
       "      <td>1495</td>\n",
       "      <td>surf</td>\n",
       "      <td>1765.0</td>\n",
       "    </tr>\n",
       "    <tr>\n",
       "      <th>496</th>\n",
       "      <td>1496</td>\n",
       "      <td>surf</td>\n",
       "      <td>1455.0</td>\n",
       "    </tr>\n",
       "    <tr>\n",
       "      <th>497</th>\n",
       "      <td>1497</td>\n",
       "      <td>ultimate</td>\n",
       "      <td>300.0</td>\n",
       "    </tr>\n",
       "    <tr>\n",
       "      <th>498</th>\n",
       "      <td>1498</td>\n",
       "      <td>surf</td>\n",
       "      <td>3211.0</td>\n",
       "    </tr>\n",
       "    <tr>\n",
       "      <th>499</th>\n",
       "      <td>1499</td>\n",
       "      <td>surf</td>\n",
       "      <td>1535.0</td>\n",
       "    </tr>\n",
       "  </tbody>\n",
       "</table>\n",
       "<p>500 rows × 3 columns</p>\n",
       "</div>"
      ],
      "text/plain": [
       "     user_id   plan_id  minutos_usados\n",
       "0       1000  ultimate           124.0\n",
       "1       1001      surf          1728.0\n",
       "2       1002      surf           829.0\n",
       "3       1003      surf          1104.0\n",
       "4       1004      surf          2772.0\n",
       "..       ...       ...             ...\n",
       "495     1495      surf          1765.0\n",
       "496     1496      surf          1455.0\n",
       "497     1497  ultimate           300.0\n",
       "498     1498      surf          3211.0\n",
       "499     1499      surf          1535.0\n",
       "\n",
       "[500 rows x 3 columns]"
      ]
     },
     "execution_count": 48,
     "metadata": {},
     "output_type": "execute_result"
    }
   ],
   "source": [
    "# Compara el número de minutos mensuales que necesitan los usuarios de cada plan. Traza un histograma.\n",
    "\n",
    "numero_minutos_mensuales=tabla_de_consumo_planes.pivot_table(index=['user_id','plan_id'],values='minutos_usados',aggfunc='sum')\n",
    "numero_minutos_mensuales = numero_minutos_mensuales.reset_index()\n",
    "numero_minutos_mensuales"
   ]
  },
  {
   "cell_type": "code",
   "execution_count": 49,
   "metadata": {},
   "outputs": [
    {
     "data": {
      "image/png": "[encoded data removed]",
      "text/plain": [
       "<Figure size 640x480 with 1 Axes>"
      ]
     },
     "metadata": {},
     "output_type": "display_data"
    }
   ],
   "source": [
    "minutos_plan_surf = tabla_de_consumo_planes.query('plan_id==\"surf\"')['minutos_usados']\n",
    "minutos_plan_ultimate = tabla_de_consumo_planes.query('plan_id==\"ultimate\"')['minutos_usados']\n",
    "\n",
    "# Crear el histograma\n",
    "plt.hist(minutos_plan_surf, alpha=0.5, label='Plan Surf', bins=10)\n",
    "plt.hist(minutos_plan_ultimate, alpha=0.5, label='Plan Ultimate', bins=10)\n",
    "\n",
    "\n",
    "plt.xlabel('Minutos Mensuales')\n",
    "plt.ylabel('Frecuencia')\n",
    "plt.title('Histograma del Número de Minutos Mensuales por Plan')\n",
    "plt.legend()\n",
    "\n",
    "plt.show()"
   ]
  },
  {
   "cell_type": "markdown",
   "metadata": {},
   "source": [
    "<div class=\"alert alert-block alert-info\">\n",
    "<b>Respuesta del estudiante</b> <a class=\"tocSkip\"></a>\n",
    "\n",
    "Se determinó la mediana, moda y desviación estandar \n",
    "     \n",
    "</div>"
   ]
  },
  {
   "cell_type": "code",
   "execution_count": 50,
   "metadata": {
    "id": "oSndbAnt0q1K",
    "scrolled": false
   },
   "outputs": [
    {
     "name": "stdout",
     "output_type": "stream",
     "text": [
      "La media de duración  de las llamadas del plan surf es de: 427.12032932235593\n",
      "La varianza de la duración de las llamadas del plan surf es de:55455.57740014497\n",
      "La moda de la duración de las llamadas del plan surf es de:0    0.0\n",
      "dtype: float64\n",
      "La mediana de la duración de las llamadas del plan surf es de:424.0\n",
      "La desviacion estandar de la duración de las llamadas del plan surf es de:235.49007919686335\n"
     ]
    }
   ],
   "source": [
    "# Calcula la media y la varianza de la duración mensual de llamadas.\n",
    "\n",
    "#Plan Surf:\n",
    "media_llamadas_surf= tabla_de_consumo_planes.query('plan_id==\"surf\"')['minutos_usados'].mean()\n",
    "variacion_llamadas_surf = tabla_de_consumo_planes.query('plan_id==\"surf\"')['minutos_usados'].var()\n",
    "moda_llamadas_surf = tabla_de_consumo_planes.query('plan_id==\"surf\"')['minutos_usados'].mode()\n",
    "mediana_llamadas_surf = tabla_de_consumo_planes.query('plan_id==\"surf\"')['minutos_usados'].median()\n",
    "desviacion_estandar_llamadas_suf = tabla_de_consumo_planes.query('plan_id==\"surf\"')['minutos_usados'].std()\n",
    "print(f'La media de duración  de las llamadas del plan surf es de: {media_llamadas_surf}')\n",
    "print(f'La varianza de la duración de las llamadas del plan surf es de:{variacion_llamadas_surf}')\n",
    "print(f'La moda de la duración de las llamadas del plan surf es de:{moda_llamadas_surf}')\n",
    "print(f'La mediana de la duración de las llamadas del plan surf es de:{mediana_llamadas_surf}')\n",
    "print(f'La desviacion estandar de la duración de las llamadas del plan surf es de:{desviacion_estandar_llamadas_suf}')\n"
   ]
  },
  {
   "cell_type": "code",
   "execution_count": 51,
   "metadata": {},
   "outputs": [
    {
     "name": "stdout",
     "output_type": "stream",
     "text": [
      "La media de duración de las llamadas del plan ultimate es de: 428.0718232044199\n",
      "La varianza de la duración de las llamadas del plan ultimate es de:58543.878651719744\n",
      "La moda de la duración de las llamadas del plan ultimate es de:0    0.0\n",
      "dtype: float64\n",
      "La mediana de la duración de las llamadas del plan ultimate es de:421.5\n",
      "La desviacion estandar de la duración de las llamadas del plan ultimate es de:241.9584233948464\n"
     ]
    }
   ],
   "source": [
    "#Plan Ultimate\n",
    "\n",
    "media_llamadas_ultimate= tabla_de_consumo_planes.query('plan_id==\"ultimate\"')['minutos_usados'].mean()\n",
    "variacion_llamadas_ultimate = tabla_de_consumo_planes.query('plan_id==\"ultimate\"')['minutos_usados'].var()\n",
    "moda_llamadas_ultimate = tabla_de_consumo_planes.query('plan_id==\"ultimate\"')['minutos_usados'].mode()\n",
    "mediana_llamadas_ultimate = tabla_de_consumo_planes.query('plan_id==\"ultimate\"')['minutos_usados'].median()\n",
    "desviacion_estandar_llamadas_ultimate = tabla_de_consumo_planes.query('plan_id==\"ultimate\"')['minutos_usados'].std()\n",
    "\n",
    "print(f'La media de duración de las llamadas del plan ultimate es de: {media_llamadas_ultimate}')\n",
    "print(f'La varianza de la duración de las llamadas del plan ultimate es de:{variacion_llamadas_ultimate}')\n",
    "print(f'La moda de la duración de las llamadas del plan ultimate es de:{moda_llamadas_ultimate}')\n",
    "print(f'La mediana de la duración de las llamadas del plan ultimate es de:{mediana_llamadas_ultimate}')\n",
    "print(f'La desviacion estandar de la duración de las llamadas del plan ultimate es de:{desviacion_estandar_llamadas_ultimate}')"
   ]
  },
  {
   "cell_type": "code",
   "execution_count": 52,
   "metadata": {
    "id": "nZzoRUKc0q1K"
   },
   "outputs": [
    {
     "data": {
      "text/plain": [
       "<Figure size 1000x600 with 0 Axes>"
      ]
     },
     "metadata": {},
     "output_type": "display_data"
    },
    {
     "data": {
      "image/png": "[encoded data removed]",
      "text/plain": [
       "<Figure size 640x480 with 1 Axes>"
      ]
     },
     "metadata": {},
     "output_type": "display_data"
    }
   ],
   "source": [
    "# Traza un diagrama de caja para visualizar la distribución de la duración mensual de llamadas\n",
    "\n",
    "plt.figure(figsize=(10, 6))\n",
    "tabla_de_consumo_planes.boxplot(column='minutos_usados', by='mes')\n",
    "plt.title('Distribución de Duración Mensual de Llamadas')\n",
    "plt.xlabel('Mes')\n",
    "plt.ylabel('Duración de Llamadas')\n",
    "plt.suptitle(\"\")\n",
    "plt.show()\n"
   ]
  },
  {
   "cell_type": "markdown",
   "metadata": {},
   "source": [
    "<div class=\"alert alert-block alert-info\">\n",
    "<b>Respuesta del estudiante</b> <a class=\"tocSkip\"></a>\n",
    "\n",
    "Basándonos en el análisis realizado y en los datos proporcionados, los usuarios del plan surf tienen mayor nuemero \n",
    "de llamadas y mayor duracion de llamadas en comparacion a el plan ultimate, que a menudo exceden los limites de su \n",
    "plan.      \n",
    "</div>\n"
   ]
  },
  {
   "cell_type": "markdown",
   "metadata": {
    "id": "8idKy8Wh0q1L"
   },
   "source": [
    "### Mensajes"
   ]
  },
  {
   "cell_type": "code",
   "execution_count": 53,
   "metadata": {
    "id": "NXLxiTit0q1L"
   },
   "outputs": [
    {
     "data": {
      "text/html": [
       "<div>\n",
       "<style scoped>\n",
       "    .dataframe tbody tr th:only-of-type {\n",
       "        vertical-align: middle;\n",
       "    }\n",
       "\n",
       "    .dataframe tbody tr th {\n",
       "        vertical-align: top;\n",
       "    }\n",
       "\n",
       "    .dataframe thead th {\n",
       "        text-align: right;\n",
       "    }\n",
       "</style>\n",
       "<table border=\"1\" class=\"dataframe\">\n",
       "  <thead>\n",
       "    <tr style=\"text-align: right;\">\n",
       "      <th>plan_id</th>\n",
       "      <th>surf</th>\n",
       "      <th>ultimate</th>\n",
       "    </tr>\n",
       "    <tr>\n",
       "      <th>mes</th>\n",
       "      <th></th>\n",
       "      <th></th>\n",
       "    </tr>\n",
       "  </thead>\n",
       "  <tbody>\n",
       "    <tr>\n",
       "      <th>0.0</th>\n",
       "      <td>0.0</td>\n",
       "      <td>0.0</td>\n",
       "    </tr>\n",
       "    <tr>\n",
       "      <th>1.0</th>\n",
       "      <td>21.0</td>\n",
       "      <td>62.0</td>\n",
       "    </tr>\n",
       "    <tr>\n",
       "      <th>2.0</th>\n",
       "      <td>108.0</td>\n",
       "      <td>151.0</td>\n",
       "    </tr>\n",
       "    <tr>\n",
       "      <th>3.0</th>\n",
       "      <td>351.0</td>\n",
       "      <td>243.0</td>\n",
       "    </tr>\n",
       "    <tr>\n",
       "      <th>4.0</th>\n",
       "      <td>870.0</td>\n",
       "      <td>463.0</td>\n",
       "    </tr>\n",
       "    <tr>\n",
       "      <th>5.0</th>\n",
       "      <td>1849.0</td>\n",
       "      <td>931.0</td>\n",
       "    </tr>\n",
       "    <tr>\n",
       "      <th>6.0</th>\n",
       "      <td>2454.0</td>\n",
       "      <td>1379.0</td>\n",
       "    </tr>\n",
       "    <tr>\n",
       "      <th>7.0</th>\n",
       "      <td>3271.0</td>\n",
       "      <td>1937.0</td>\n",
       "    </tr>\n",
       "    <tr>\n",
       "      <th>8.0</th>\n",
       "      <td>4662.0</td>\n",
       "      <td>2732.0</td>\n",
       "    </tr>\n",
       "    <tr>\n",
       "      <th>9.0</th>\n",
       "      <td>5968.0</td>\n",
       "      <td>3259.0</td>\n",
       "    </tr>\n",
       "    <tr>\n",
       "      <th>10.0</th>\n",
       "      <td>8020.0</td>\n",
       "      <td>4181.0</td>\n",
       "    </tr>\n",
       "    <tr>\n",
       "      <th>11.0</th>\n",
       "      <td>9165.0</td>\n",
       "      <td>4903.0</td>\n",
       "    </tr>\n",
       "    <tr>\n",
       "      <th>12.0</th>\n",
       "      <td>12275.0</td>\n",
       "      <td>6796.0</td>\n",
       "    </tr>\n",
       "  </tbody>\n",
       "</table>\n",
       "</div>"
      ],
      "text/plain": [
       "plan_id     surf  ultimate\n",
       "mes                       \n",
       "0.0          0.0       0.0\n",
       "1.0         21.0      62.0\n",
       "2.0        108.0     151.0\n",
       "3.0        351.0     243.0\n",
       "4.0        870.0     463.0\n",
       "5.0       1849.0     931.0\n",
       "6.0       2454.0    1379.0\n",
       "7.0       3271.0    1937.0\n",
       "8.0       4662.0    2732.0\n",
       "9.0       5968.0    3259.0\n",
       "10.0      8020.0    4181.0\n",
       "11.0      9165.0    4903.0\n",
       "12.0     12275.0    6796.0"
      ]
     },
     "execution_count": 53,
     "metadata": {},
     "output_type": "execute_result"
    }
   ],
   "source": [
    "# Comprara el número de mensajes que tienden a enviar cada mes los usuarios de cada plan\n",
    "mensajes_totales_por_mes = tabla_de_consumo_planes.groupby(['mes', 'plan_id'])['cantidad_de_mensajes'].sum().unstack()\n",
    "mensajes_totales_por_mes\n"
   ]
  },
  {
   "cell_type": "markdown",
   "metadata": {},
   "source": [
    "<div class=\"alert alert-block alert-info\">\n",
    "<b>Respuesta del estudiante</b> <a class=\"tocSkip\"></a>\n",
    "\n",
    "Se determinó información de la mediana , moda y desviación estandar de ambas planes.\n",
    "      \n",
    "</div>"
   ]
  },
  {
   "cell_type": "code",
   "execution_count": 54,
   "metadata": {},
   "outputs": [
    {
     "name": "stdout",
     "output_type": "stream",
     "text": [
      "La mediana de la cantidad de mensajes del plan surf es de:24.0\n",
      "La moda de la cantidad de mensajes del plan surf es de:0    0.0\n",
      "dtype: float64\n",
      "La desviacion estandar de la cantidad de mensajes del plan surf es de:33.55768281940468\n"
     ]
    }
   ],
   "source": [
    "mediana_mensajes_surf = tabla_de_consumo_planes.query('plan_id==\"surf\"')['cantidad_de_mensajes'].median()\n",
    "moda_mensual_surf = tabla_de_consumo_planes.query('plan_id==\"surf\"')['cantidad_de_mensajes'].mode()\n",
    "desviacion_estandar_mensajes_surf = tabla_de_consumo_planes.query('plan_id==\"surf\"')['cantidad_de_mensajes'].std()\n",
    "\n",
    "print(f'La mediana de la cantidad de mensajes del plan surf es de:{mediana_mensajes_surf}')\n",
    "print(f'La moda de la cantidad de mensajes del plan surf es de:{moda_mensual_surf}')\n",
    "print(f'La desviacion estandar de la cantidad de mensajes del plan surf es de:{desviacion_estandar_mensajes_surf}')"
   ]
  },
  {
   "cell_type": "code",
   "execution_count": 55,
   "metadata": {},
   "outputs": [
    {
     "name": "stdout",
     "output_type": "stream",
     "text": [
      "La mediana de la cantidad de mensajes del plan ultimate es de:30.0\n",
      "La moda  de la cantidad de mensajes del plan ultimate es de:0    0.0\n",
      "dtype: float64\n",
      "La desviacion estandar de la cantidad de mensajes del plan ultimate es de:34.78257626600977\n"
     ]
    }
   ],
   "source": [
    "mediana_mensajes_ultimate = tabla_de_consumo_planes.query('plan_id==\"ultimate\"')['cantidad_de_mensajes'].median()\n",
    "moda_mensajes_ultimate=tabla_de_consumo_planes.query('plan_id==\"ultimate\"')['cantidad_de_mensajes'].mode()\n",
    "desviacion_estandar_mensajes_ultimate=tabla_de_consumo_planes.query('plan_id==\"ultimate\"')['cantidad_de_mensajes'].std()\n",
    "\n",
    "print(f'La mediana de la cantidad de mensajes del plan ultimate es de:{mediana_mensajes_ultimate}')\n",
    "print(f'La moda  de la cantidad de mensajes del plan ultimate es de:{moda_mensajes_ultimate}')\n",
    "print(f'La desviacion estandar de la cantidad de mensajes del plan ultimate es de:{desviacion_estandar_mensajes_ultimate}')"
   ]
  },
  {
   "cell_type": "code",
   "execution_count": 56,
   "metadata": {},
   "outputs": [
    {
     "data": {
      "image/png": "[encoded data removed]",
      "text/plain": [
       "<Figure size 1000x600 with 1 Axes>"
      ]
     },
     "metadata": {},
     "output_type": "display_data"
    }
   ],
   "source": [
    "mensajes_totales_por_mes.plot(kind='bar', figsize=(10, 6))\n",
    "plt.title('Numero de mensajes por Plan y Mes')\n",
    "plt.xlabel('Mes')\n",
    "plt.ylabel('Cantidad de usuarios')\n",
    "plt.show()"
   ]
  },
  {
   "cell_type": "markdown",
   "metadata": {},
   "source": [
    "<div class=\"alert alert-block alert-info\">\n",
    "<b>Respuesta del estudiante</b> <a class=\"tocSkip\"></a>\n",
    "\n",
    "Se realizó histograma.\n",
    "      \n",
    "</div>"
   ]
  },
  {
   "cell_type": "code",
   "execution_count": 57,
   "metadata": {},
   "outputs": [
    {
     "data": {
      "image/png": "[encoded data removed]",
      "text/plain": [
       "<Figure size 640x480 with 1 Axes>"
      ]
     },
     "metadata": {},
     "output_type": "display_data"
    }
   ],
   "source": [
    "cantidad_mensajes_plan_surf = tabla_de_consumo_planes.query('plan_id==\"surf\"')['cantidad_de_mensajes']\n",
    "cantidad_mensajes_plan_ultimate = tabla_de_consumo_planes.query('plan_id==\"ultimate\"')['cantidad_de_mensajes']\n",
    "\n",
    "# Crear el histograma\n",
    "plt.hist(cantidad_mensajes_plan_surf, alpha=0.5, label='Plan Surf', bins=10)\n",
    "plt.hist(cantidad_mensajes_plan_ultimate, alpha=0.5, label='Plan Ultimate', bins=10)\n",
    "\n",
    "\n",
    "plt.xlabel('Mensajes Mensuales')\n",
    "plt.ylabel('Frecuencia')\n",
    "plt.title('Número de Mensajes Mensuales por Plan')\n",
    "plt.legend()\n",
    "\n",
    "plt.show()"
   ]
  },
  {
   "cell_type": "code",
   "execution_count": 58,
   "metadata": {
    "id": "GRI_R7xF0q1L"
   },
   "outputs": [
    {
     "data": {
      "text/plain": [
       "<Figure size 1000x600 with 0 Axes>"
      ]
     },
     "metadata": {},
     "output_type": "display_data"
    },
    {
     "data": {
      "image/png": "[encoded data removed]",
      "text/plain": [
       "<Figure size 640x480 with 1 Axes>"
      ]
     },
     "metadata": {},
     "output_type": "display_data"
    }
   ],
   "source": [
    "plt.figure(figsize=(10, 6))\n",
    "tabla_de_consumo_planes.boxplot(column='cantidad_de_mensajes', by='mes')\n",
    "plt.title('Numero de mensajes por Plan y Mes')\n",
    "plt.xlabel('Mes')\n",
    "plt.ylabel('Numero de mensajes')\n",
    "plt.suptitle(\"\")\n",
    "plt.show()"
   ]
  },
  {
   "cell_type": "markdown",
   "metadata": {},
   "source": [
    "<div class=\"alert alert-block alert-info\">\n",
    "<b></b> <a class=\"tocSkip\"></a>\n",
    "\n",
    "Después de analizar el comportamiento de los usuarios con respecto a los mensajes, se observa que los usuarios del plan \"ultimate\" tienden a enviar y recibir más mensajes en promedio en comparación con los usuarios del plan \"surf\".\n",
    "Esta diferencia puede ser indicativa de las preferencias y necesidades únicas de cada segmento de clientes. Los usuarios del plan \"ultimate\" podrían estar más orientados hacia el uso intensivo de servicios como la mensajería instantánea, correos electrónicos u otras formas de comunicación digital. Por otro lado, los usuarios del plan \"surf\" podrían utilizar menos activamente estos servicios o preferir métodos alternativos para la comunicación.\n",
    "\n",
    "Estas conclusiones resaltan la importancia de comprender las diferencias en el comportamiento y las necesidades específicas de cada segmento para poder ofrecer servicios adaptados que satisfagan sus demandas únicas. Además, esta información es relevante para la toma decisiones estratégicas relacionadas con la gestión y optimización de recursos dentro de la red, así como para el desarrollo futuro de planes y servicios personalizados.\n",
    "\n",
    " \n",
    "</div>\n"
   ]
  },
  {
   "cell_type": "markdown",
   "metadata": {
    "id": "42YSypXz0q1M"
   },
   "source": [
    "### Internet"
   ]
  },
  {
   "cell_type": "code",
   "execution_count": 59,
   "metadata": {
    "id": "lSuKPtjh0q1M"
   },
   "outputs": [
    {
     "data": {
      "text/html": [
       "<div>\n",
       "<style scoped>\n",
       "    .dataframe tbody tr th:only-of-type {\n",
       "        vertical-align: middle;\n",
       "    }\n",
       "\n",
       "    .dataframe tbody tr th {\n",
       "        vertical-align: top;\n",
       "    }\n",
       "\n",
       "    .dataframe thead th {\n",
       "        text-align: right;\n",
       "    }\n",
       "</style>\n",
       "<table border=\"1\" class=\"dataframe\">\n",
       "  <thead>\n",
       "    <tr style=\"text-align: right;\">\n",
       "      <th>plan_id</th>\n",
       "      <th>surf</th>\n",
       "      <th>ultimate</th>\n",
       "    </tr>\n",
       "    <tr>\n",
       "      <th>mes</th>\n",
       "      <th></th>\n",
       "      <th></th>\n",
       "    </tr>\n",
       "  </thead>\n",
       "  <tbody>\n",
       "    <tr>\n",
       "      <th>0.0</th>\n",
       "      <td>0.000000</td>\n",
       "      <td>0.000000</td>\n",
       "    </tr>\n",
       "    <tr>\n",
       "      <th>1.0</th>\n",
       "      <td>5.000000</td>\n",
       "      <td>7.250000</td>\n",
       "    </tr>\n",
       "    <tr>\n",
       "      <th>2.0</th>\n",
       "      <td>12.222222</td>\n",
       "      <td>17.285714</td>\n",
       "    </tr>\n",
       "    <tr>\n",
       "      <th>3.0</th>\n",
       "      <td>13.565217</td>\n",
       "      <td>18.416667</td>\n",
       "    </tr>\n",
       "    <tr>\n",
       "      <th>4.0</th>\n",
       "      <td>12.220000</td>\n",
       "      <td>16.333333</td>\n",
       "    </tr>\n",
       "    <tr>\n",
       "      <th>5.0</th>\n",
       "      <td>14.116883</td>\n",
       "      <td>16.862069</td>\n",
       "    </tr>\n",
       "    <tr>\n",
       "      <th>6.0</th>\n",
       "      <td>15.484536</td>\n",
       "      <td>15.425532</td>\n",
       "    </tr>\n",
       "    <tr>\n",
       "      <th>7.0</th>\n",
       "      <td>16.876033</td>\n",
       "      <td>16.491525</td>\n",
       "    </tr>\n",
       "    <tr>\n",
       "      <th>8.0</th>\n",
       "      <td>16.882716</td>\n",
       "      <td>17.845070</td>\n",
       "    </tr>\n",
       "    <tr>\n",
       "      <th>9.0</th>\n",
       "      <td>16.690722</td>\n",
       "      <td>17.011628</td>\n",
       "    </tr>\n",
       "    <tr>\n",
       "      <th>10.0</th>\n",
       "      <td>17.409283</td>\n",
       "      <td>17.716981</td>\n",
       "    </tr>\n",
       "    <tr>\n",
       "      <th>11.0</th>\n",
       "      <td>16.431095</td>\n",
       "      <td>17.118110</td>\n",
       "    </tr>\n",
       "    <tr>\n",
       "      <th>12.0</th>\n",
       "      <td>18.238994</td>\n",
       "      <td>18.397351</td>\n",
       "    </tr>\n",
       "  </tbody>\n",
       "</table>\n",
       "</div>"
      ],
      "text/plain": [
       "plan_id       surf   ultimate\n",
       "mes                          \n",
       "0.0       0.000000   0.000000\n",
       "1.0       5.000000   7.250000\n",
       "2.0      12.222222  17.285714\n",
       "3.0      13.565217  18.416667\n",
       "4.0      12.220000  16.333333\n",
       "5.0      14.116883  16.862069\n",
       "6.0      15.484536  15.425532\n",
       "7.0      16.876033  16.491525\n",
       "8.0      16.882716  17.845070\n",
       "9.0      16.690722  17.011628\n",
       "10.0     17.409283  17.716981\n",
       "11.0     16.431095  17.118110\n",
       "12.0     18.238994  18.397351"
      ]
     },
     "execution_count": 59,
     "metadata": {},
     "output_type": "execute_result"
    }
   ],
   "source": [
    "\n",
    "datos_totales_por_plan = tabla_de_consumo_planes.groupby(['mes', 'plan_id'])['total_de_datos_usados_redondeados'].mean().unstack()\n",
    "datos_totales_por_plan"
   ]
  },
  {
   "cell_type": "markdown",
   "metadata": {},
   "source": [
    "<div class=\"alert alert-block alert-info\">\n",
    "<b>Respuesta del estudiante</b> <a class=\"tocSkip\"></a>\n",
    "\n",
    "Se determino la mediana, moda y desviación estandar\n",
    "      \n",
    "</div>"
   ]
  },
  {
   "cell_type": "code",
   "execution_count": 60,
   "metadata": {},
   "outputs": [
    {
     "name": "stdout",
     "output_type": "stream",
     "text": [
      "La mediana de la cantidad de ddatos del plan surf es de:17.0\n",
      "La moda de la cantidad de datos del plan surf es de:0    18.0\n",
      "dtype: float64\n",
      "La desviacion estandar de la cantidad de datos del plan surf es de:7.899501627984955\n"
     ]
    }
   ],
   "source": [
    "mediana_datos_surf = tabla_de_consumo_planes.query('plan_id==\"surf\"')['total_de_datos_usados_redondeados'].median()\n",
    "moda_datos_surf = tabla_de_consumo_planes.query('plan_id==\"surf\"')['total_de_datos_usados_redondeados'].mode()\n",
    "desviacion_estandar_datos_surf = tabla_de_consumo_planes.query('plan_id==\"surf\"')['total_de_datos_usados_redondeados'].std()\n",
    "\n",
    "print(f'La mediana de la cantidad de ddatos del plan surf es de:{mediana_datos_surf}')\n",
    "print(f'La moda de la cantidad de datos del plan surf es de:{moda_datos_surf}')\n",
    "print(f'La desviacion estandar de la cantidad de datos del plan surf es de:{desviacion_estandar_datos_surf}')"
   ]
  },
  {
   "cell_type": "code",
   "execution_count": 61,
   "metadata": {},
   "outputs": [
    {
     "name": "stdout",
     "output_type": "stream",
     "text": [
      "La mediana de la cantidad de datos del plan ultimate es de:17.0\n",
      "La moda  de la cantidad de datos del plan ultimate es de:0    17.0\n",
      "dtype: float64\n",
      "La desviacion estandar de la cantidad de datos del plan ultimate es de:7.755840803278379\n"
     ]
    }
   ],
   "source": [
    "mediana_datos_ultimate = tabla_de_consumo_planes.query('plan_id==\"ultimate\"')['total_de_datos_usados_redondeados'].median()\n",
    "moda_datos_ulltimate = tabla_de_consumo_planes.query('plan_id==\"ultimate\"')['total_de_datos_usados_redondeados'].mode()\n",
    "desviacion_estandar_datos_ultimate = tabla_de_consumo_planes.query('plan_id==\"ultimate\"')['total_de_datos_usados_redondeados'].std()\n",
    "\n",
    "print(f'La mediana de la cantidad de datos del plan ultimate es de:{mediana_datos_ultimate}')\n",
    "print(f'La moda  de la cantidad de datos del plan ultimate es de:{moda_datos_ulltimate}')\n",
    "print(f'La desviacion estandar de la cantidad de datos del plan ultimate es de:{desviacion_estandar_datos_ultimate}')"
   ]
  },
  {
   "cell_type": "code",
   "execution_count": 62,
   "metadata": {
    "id": "wnh8jYXi0q1N"
   },
   "outputs": [
    {
     "data": {
      "image/png": "[encoded data removed]",
      "text/plain": [
       "<Figure size 1000x600 with 1 Axes>"
      ]
     },
     "metadata": {},
     "output_type": "display_data"
    }
   ],
   "source": [
    "datos_totales_por_plan.plot(kind='bar', figsize=(10, 6))\n",
    "plt.title('Datos utilizados por Plan y Mes')\n",
    "plt.xlabel('Mes')\n",
    "plt.ylabel('Datos (Mb)')\n",
    "plt.show()"
   ]
  },
  {
   "cell_type": "markdown",
   "metadata": {},
   "source": [
    "<div class=\"alert alert-block alert-info\">\n",
    "<b>Respuesta del estudiante</b> <a class=\"tocSkip\"></a>\n",
    "\n",
    "Se realizo histograma\n",
    "      \n",
    "</div>"
   ]
  },
  {
   "cell_type": "code",
   "execution_count": 63,
   "metadata": {},
   "outputs": [
    {
     "data": {
      "image/png": "[encoded data removed]",
      "text/plain": [
       "<Figure size 640x480 with 1 Axes>"
      ]
     },
     "metadata": {},
     "output_type": "display_data"
    }
   ],
   "source": [
    "cantidad_datos_plan_surf = tabla_de_consumo_planes.query('plan_id==\"surf\"')['total_de_datos_usados_redondeados']\n",
    "cantidad_datos_plan_ultimate = tabla_de_consumo_planes.query('plan_id==\"ultimate\"')['total_de_datos_usados_redondeados']\n",
    "\n",
    "# Crear el histograma\n",
    "plt.hist(cantidad_mensajes_plan_surf, alpha=0.5, label='Plan Surf', bins=90)\n",
    "plt.hist(cantidad_mensajes_plan_ultimate, alpha=0.5, label='Plan Ultimate', bins=90)\n",
    "\n",
    "\n",
    "plt.xlabel('Datos Mensuales')\n",
    "plt.ylabel('Frecuencia')\n",
    "plt.title('Datos Mensuales por Plan')\n",
    "plt.legend()\n",
    "\n",
    "plt.show()"
   ]
  },
  {
   "cell_type": "code",
   "execution_count": 64,
   "metadata": {
    "id": "5VlyJ9ry0q1N"
   },
   "outputs": [
    {
     "data": {
      "text/plain": [
       "<Figure size 1000x600 with 0 Axes>"
      ]
     },
     "metadata": {},
     "output_type": "display_data"
    },
    {
     "data": {
      "image/png": "[encoded data removed]",
      "text/plain": [
       "<Figure size 640x480 with 1 Axes>"
      ]
     },
     "metadata": {},
     "output_type": "display_data"
    }
   ],
   "source": [
    "plt.figure(figsize=(10, 6))\n",
    "tabla_de_consumo_planes.boxplot(column='total_de_datos_usados_redondeados', by='mes')\n",
    "plt.title('Numero de mensajes por Plan y Mes')\n",
    "plt.xlabel('Mes')\n",
    "plt.ylabel('Datos')\n",
    "plt.suptitle(\"\")\n",
    "plt.show()"
   ]
  },
  {
   "cell_type": "markdown",
   "metadata": {},
   "source": [
    "<div class=\"alert alert-block alert-info\">\n",
    "<b></b> <a class=\"tocSkip\"></a>\n",
    "    \n",
    "Después de analizar el consumo de tráfico de Internet, se observa que los usuarios del plan \"ultimate\" tienden a consumir más tráfico en promedio en comparación con los usuarios del plan \"surf\". Los clientes del plan \"ultimate\" podrían estar utilizando más activamente servicios en línea que requieren un mayor ancho de banda, como la transmisión de video en alta definición o juegos en línea. Por otro lado, los usuarios del plan \"surf\" podrían estar optando por actividades menos intensivas en términos de uso de datos.\n",
    "Estas diferencias en el comportamiento de consumo pueden tener implicaciones importantes para la gestión y optimización de la red, así como para el diseño y comercialización futura de planes y servicios. También sugiere que comprender las necesidades y preferencias específicas de cada segmento es crucial para satisfacer las demandas únicas tanto del mercado como del cliente.    \n",
    "</div>\n"
   ]
  },
  {
   "cell_type": "markdown",
   "metadata": {
    "id": "tCijq3260q1N"
   },
   "source": [
    "## Ingreso"
   ]
  },
  {
   "cell_type": "code",
   "execution_count": 78,
   "metadata": {},
   "outputs": [
    {
     "name": "stdout",
     "output_type": "stream",
     "text": [
      "               mean       sum       sum     max   min\n",
      "plan_id                                              \n",
      "surf      60.551729  95611.18  95611.18  590.37  20.0\n",
      "ultimate  72.301105  52346.00  52346.00  182.00  70.0\n"
     ]
    }
   ],
   "source": [
    "# Agrupar los ingresos por plan\n",
    "ingresos_por_mes_plan = tabla_de_consumo_planes.groupby('plan_id',)['ingreso_total'].agg(['mean','sum', 'sum','max','min'])\n",
    "\n",
    "# Mostrar resultados\n",
    "print(ingresos_por_mes_plan)\n"
   ]
  },
  {
   "cell_type": "code",
   "execution_count": 79,
   "metadata": {},
   "outputs": [
    {
     "data": {
      "image/png": "[encoded data removed]",
      "text/plain": [
       "<Figure size 1000x600 with 1 Axes>"
      ]
     },
     "metadata": {},
     "output_type": "display_data"
    }
   ],
   "source": [
    "ingresos_por_plan = tabla_de_consumo_planes.groupby(['mes', 'plan_id'])['ingreso_total'].sum().unstack()\n",
    "\n",
    "ingresos_por_plan.plot(kind='bar', figsize=(10, 6))\n",
    "plt.title('Ingresos por Plan y Mes')\n",
    "plt.xlabel('Mes')\n",
    "plt.ylabel('Ingresos ($))')\n",
    "plt.show()"
   ]
  },
  {
   "cell_type": "code",
   "execution_count": 67,
   "metadata": {},
   "outputs": [
    {
     "data": {
      "image/png": "[encoded data removed]",
      "text/plain": [
       "<Figure size 640x480 with 1 Axes>"
      ]
     },
     "metadata": {},
     "output_type": "display_data"
    }
   ],
   "source": [
    "ingresos_plan_surf = tabla_de_consumo_planes.query('plan_id==\"surf\"')['ingreso_total']\n",
    "ingresos_plan_ultimate = tabla_de_consumo_planes.query('plan_id==\"ultimate\"')['ingreso_total']\n",
    "\n",
    "# Crear el histograma\n",
    "plt.hist(cantidad_mensajes_plan_surf, alpha=0.5, label='Plan Surf', bins=30)\n",
    "plt.hist(cantidad_mensajes_plan_ultimate, alpha=0.5, label='Plan Ultimate', bins=30)\n",
    "\n",
    "\n",
    "plt.xlabel('Ingresos Mensuales')\n",
    "plt.ylabel('Frecuencia')\n",
    "plt.title('Ingresos Mensuales por Plan')\n",
    "plt.legend()\n",
    "\n",
    "plt.show()"
   ]
  },
  {
   "cell_type": "code",
   "execution_count": 68,
   "metadata": {},
   "outputs": [
    {
     "data": {
      "text/plain": [
       "<Figure size 1000x600 with 0 Axes>"
      ]
     },
     "metadata": {},
     "output_type": "display_data"
    },
    {
     "data": {
      "image/png": "[encoded data removed]",
      "text/plain": [
       "<Figure size 640x480 with 1 Axes>"
      ]
     },
     "metadata": {},
     "output_type": "display_data"
    }
   ],
   "source": [
    "plt.figure(figsize=(10, 6))\n",
    "tabla_de_consumo_planes.boxplot(column='ingreso_total', by='mes')\n",
    "plt.title('Ingreso por Plan y Mes')\n",
    "plt.xlabel('Mes')\n",
    "plt.ylabel('Ingresos')\n",
    "plt.suptitle(\"\")\n",
    "plt.show()"
   ]
  },
  {
   "cell_type": "markdown",
   "metadata": {},
   "source": [
    "<div class=\"alert alert-block alert-info\">\n",
    "<b></b> <a class=\"tocSkip\"></a>\n",
    "Se realizó los gráficos correspondientes barras , histograma y boxplot para un mejor analisis.    \n",
    "Después del análisis, podemos concluir que hay una clara diferencia en los ingresos entre los planes \"surf\" y \"ultimate\". \n",
    "    Los clientes que utilizan el plan \"surf\" generan más ingresos , teniendo en cuenta que el promedio de usuarios con plan \"Ultimate\" tienen una tarifa de 70 usd ,esto sugiere que puede haber diferencias en el uso realizado por clientes suscritos a cada uno de estos planes, que podría estar relacionado a los excedentes de consumo realizados por los usuarios del plan ultimate, como lo muestran las gráficas a pesar de tener un plan base menor de 20 usd, se puede visualizar que se exceden en sus consumos.      \n",
    "</div>\n"
   ]
  },
  {
   "cell_type": "markdown",
   "metadata": {},
   "source": [
    "<div class=\"alert alert-block alert-info\">\n",
    "<b></b> <a class=\"tocSkip\"></a>\n",
    "Se realizó los graficos de lineplot y observar la evolución en el tiempo de cada plan.      \n",
    "</div>\n"
   ]
  },
  {
   "cell_type": "code",
   "execution_count": 69,
   "metadata": {},
   "outputs": [
    {
     "data": {
      "image/png": "[encoded data removed]",
      "text/plain": [
       "<Figure size 1000x600 with 1 Axes>"
      ]
     },
     "metadata": {},
     "output_type": "display_data"
    }
   ],
   "source": [
    "llamadas_promedio_por_mes = tabla_de_consumo_planes.groupby(['mes', 'plan_id'])['minutos_usados'].sum().unstack()\n",
    "llamadas_promedio_por_mes.plot(kind='line', figsize=(10, 6))\n",
    "plt.title('Duración Promedia de Llamadas por Plan y Mes')\n",
    "plt.xlabel('Mes')\n",
    "plt.ylabel('Duración Promedia (minutos)')\n",
    "plt.show()"
   ]
  },
  {
   "cell_type": "code",
   "execution_count": 70,
   "metadata": {},
   "outputs": [
    {
     "data": {
      "image/png": "[encoded data removed]",
      "text/plain": [
       "<Figure size 1000x600 with 1 Axes>"
      ]
     },
     "metadata": {},
     "output_type": "display_data"
    }
   ],
   "source": [
    "mensajes_totales_por_mes = tabla_de_consumo_planes.groupby(['mes', 'plan_id'])['cantidad_de_mensajes'].mean().unstack()\n",
    "mensajes_totales_por_mes.plot(kind='line', figsize=(10, 6))\n",
    "plt.title('Numero de mensajes por Plan y Mes')\n",
    "plt.xlabel('Mes')\n",
    "plt.ylabel('Cantidad de usuarios')\n",
    "plt.show()"
   ]
  },
  {
   "cell_type": "code",
   "execution_count": 71,
   "metadata": {},
   "outputs": [
    {
     "data": {
      "image/png": "[encoded data removed]",
      "text/plain": [
       "<Figure size 1000x600 with 1 Axes>"
      ]
     },
     "metadata": {},
     "output_type": "display_data"
    }
   ],
   "source": [
    "datos_totales_por_plan = tabla_de_consumo_planes.groupby(['mes', 'plan_id'])['total_de_datos_usados_redondeados'].sum().unstack()\n",
    "\n",
    "datos_totales_por_plan.plot(kind='line', figsize=(10, 6))\n",
    "plt.title('Datos utilizados por Plan y Mes')\n",
    "plt.xlabel('Mes')\n",
    "plt.ylabel('Datos (Mb)')\n",
    "plt.show()"
   ]
  },
  {
   "cell_type": "code",
   "execution_count": 72,
   "metadata": {},
   "outputs": [
    {
     "data": {
      "image/png": "[encoded data removed]",
      "text/plain": [
       "<Figure size 1000x600 with 1 Axes>"
      ]
     },
     "metadata": {},
     "output_type": "display_data"
    }
   ],
   "source": [
    "ingresos_por_plan = tabla_de_consumo_planes.groupby(['mes', 'plan_id'])['ingreso_total'].sum().unstack()\n",
    "\n",
    "ingresos_por_plan.plot(kind='line', figsize=(10, 6))\n",
    "plt.title('Ingresos por Plan y Mes')\n",
    "plt.xlabel('Mes')\n",
    "plt.ylabel('Ingresos ($))')\n",
    "plt.show()"
   ]
  },
  {
   "cell_type": "markdown",
   "metadata": {},
   "source": [
    "<div class=\"alert alert-block alert-info\">\n",
    "<b>Respuesta del estudiante</b> <a class=\"tocSkip\"></a>\n",
    "\n",
    "Observamos en las graficas lineplot que el plan surf tiene mayores ingresos en el tiempo.\n",
    "      \n",
    "</div>"
   ]
  },
  {
   "cell_type": "markdown",
   "metadata": {
    "id": "ajJ7VKeI0q1Q"
   },
   "source": [
    "## Prueba las hipótesis estadísticas"
   ]
  },
  {
   "cell_type": "markdown",
   "metadata": {},
   "source": [
    "<div class=\"alert alert-block alert-info\">\n",
    "<b>Respuesta del estudiante</b> <a class=\"tocSkip\"></a>\n",
    "\n",
    "Hipotesis Nula : Los ingresos  de los usuarios de los planes Ultimate y Surf son iguales.\n",
    "\n",
    "Hipotesis Alternativa: No hay diferencia significativa en los ingresos totales entre los usuarios del plan \"surf\" y los usuarios del plan \"ultimate\"     \n",
    "</div>"
   ]
  },
  {
   "cell_type": "code",
   "execution_count": 82,
   "metadata": {
    "id": "nFoPNlPq0q1R"
   },
   "outputs": [
    {
     "name": "stdout",
     "output_type": "stream",
     "text": [
      "p-value:1.218411585212325e-15\n",
      "Podemos rechazar la hipótesis nula\n"
     ]
    }
   ],
   "source": [
    "# Prueba las hipótesis\n",
    "# Los ingresos  de los usuarios de los planes Ultimate y Surf son iguales.\n",
    "ingresos_surf = tabla_de_consumo_planes[tabla_de_consumo_planes['plan_id'] == 'surf']['ingreso_total']\n",
    "ingresos_ultimate = tabla_de_consumo_planes[tabla_de_consumo_planes['plan_id'] == 'ultimate']['ingreso_total']\n",
    "alpha=0.05\n",
    "\n",
    "#resultados = ttest_ind(ingresos_surf, ingresos_ultimate, equal_var=False)\n",
    "resultados_t_test = stats.ttest_ind(ingresos_surf, ingresos_ultimate, equal_var=False)\n",
    "\n",
    "print(f'p-value:{resultados_t_test.pvalue}')\n",
    "if resultados_t_test.pvalue < alpha:\n",
    "    print(\"Podemos rechazar la hipótesis nula\")\n",
    "else:\n",
    "    print(\"No podemos rechazar la hipotesis nula\")"
   ]
  },
  {
   "cell_type": "markdown",
   "metadata": {},
   "source": [
    "<div class=\"alert alert-block alert-info\">\n",
    "<b>Respuesta del estudiante</b> <a class=\"tocSkip\"></a>\n",
    "    \n",
    "Hemos llevado a cabo un análisis estadístico para comparar los ingresos totales entre dos planes de consumo diferentes, \"surf\" y \"ultimate\". La finalidad de este análisis es determinar si no existe diferencia en los ingresos generados por los usuarios de estos dos planes.\n",
    "Los resultados de nuestro análisis indican que los ingresos generados por los planes \"surf\" y \"ultimate\" no son iguales. Esta diferencia es estadísticamente significativa, lo que sugiere que la elección del plan influye en los ingresos totales obtenidos. \n",
    "      \n",
    "</div>"
   ]
  },
  {
   "cell_type": "code",
   "execution_count": 84,
   "metadata": {},
   "outputs": [
    {
     "name": "stdout",
     "output_type": "stream",
     "text": [
      "p-value:3.070976609395645e-83\n",
      "Podemos rechazar la hipótesis nula\n"
     ]
    }
   ],
   "source": [
    "# Hipotesis Alternativa :\n",
    "#No hay diferencia significativa en los ingresos totales entre los usuarios del plan \"surf\" y los usuarios del plan \"ultimate\"\n",
    "\n",
    "ingresos_surf = tabla_de_consumo_planes[tabla_de_consumo_planes['plan_id'] == 'surf']['ingreso_total']\n",
    "ingresos_ultimate = tabla_de_consumo_planes[tabla_de_consumo_planes['plan_id'] == 'ultimate']['ingreso_total']\n",
    "\n",
    "\n",
    "resultados_levene=stats.levene(ingresos_surf, ingresos_ultimate)\n",
    "print(f'p-value:{resultados_levene.pvalue}')\n",
    "if resultados_levene.pvalue < alpha:\n",
    "    print(\"Podemos rechazar la hipótesis nula\")\n",
    "else:\n",
    "    print(\"No podemos rechazar la hipotesis nula\")"
   ]
  },
  {
   "cell_type": "markdown",
   "metadata": {},
   "source": [
    "<div class=\"alert alert-block alert-info\">\n",
    "<b>Respuesta del estudiante</b> <a class=\"tocSkip\"></a>\n",
    "La finalidad de este análisis es determinar si existe una diferencia significativa en los ingresos generados por los usuarios de estos dos planes.\n",
    "Dado que el valor p  es menor que nuestro nivel de significancia α (0.05)\n",
    "rechazamos la hipótesis nula. Esto significa que hay una diferencia significativa en los ingresos totales entre los usuarios del plan \"surf\" y los usuarios del plan \"ultimate\".\n",
    "      \n",
    "</div>"
   ]
  },
  {
   "cell_type": "markdown",
   "metadata": {
    "id": "tCcAruM60q1R"
   },
   "source": [
    "[Prueba la hipótesis de que el ingreso promedio de los usuarios del área NY-NJ es diferente al de los usuarios de otras regiones.]"
   ]
  },
  {
   "cell_type": "code",
   "execution_count": 75,
   "metadata": {},
   "outputs": [
    {
     "name": "stdout",
     "output_type": "stream",
     "text": [
      "t-statistic=-1.5511915604321744, p-value=0.12126002617160894\n"
     ]
    }
   ],
   "source": [
    "#Prueba la hipótesis de que el ingreso promedio de los usuarios del área NY-NJ es diferente al de los usuarios de otras regiones\n",
    "\n",
    "# Paso 1: Extraer y agrupar los datos por región\n",
    "ny_nj_users = user_df[user_df['city'].str.contains('NY|NJ')]\n",
    "other_users = user_df[~user_df['city'].str.contains('NY|NJ')]\n",
    "\n",
    "# Ingresos por región\n",
    "ingresos_ny_nj = tabla_de_consumo_planes[tabla_de_consumo_planes['user_id'].isin(ny_nj_users['user_id'])]['ingreso_total']\n",
    "ingresos_otros = tabla_de_consumo_planes[tabla_de_consumo_planes['user_id'].isin(other_users['user_id'])]['ingreso_total']\n",
    "\n",
    "# Paso 3: Prueba t de Student para dos muestras independientes\n",
    "t_stat, p_value = stats.ttest_ind(ingresos_ny_nj, ingresos_otros, equal_var=False)\n",
    "\n",
    "print(f\"t-statistic={t_stat}, p-value={p_value}\")\n",
    "\n",
    "\n"
   ]
  },
  {
   "cell_type": "code",
   "execution_count": 76,
   "metadata": {
    "id": "Cqcj7wrZ0q1S"
   },
   "outputs": [
    {
     "name": "stdout",
     "output_type": "stream",
     "text": [
      "No podemos rechazar la hipótesis nula. No hay evidencia suficiente para afirmar que el ingreso promedio de los usuarios del área NY-NJ es diferente al de los usuarios de otras regiones.\n"
     ]
    }
   ],
   "source": [
    "# Prueba las hipótesis\n",
    "# Interpretación de resultados\n",
    "alpha = 0.05\n",
    "if p_value < alpha:\n",
    "    print(\"Rechazamos la hipótesis nula. El ingreso promedio de los usuarios del área NY-NJ es significativamente diferente al de los usuarios de otras regiones.\")\n",
    "else:\n",
    "    print(\"No podemos rechazar la hipótesis nula. No hay evidencia suficiente para afirmar que el ingreso promedio de los usuarios del área NY-NJ es diferente al de los usuarios de otras regiones.\")\n",
    "\n"
   ]
  },
  {
   "cell_type": "markdown",
   "metadata": {},
   "source": [
    "<div class=\"alert alert-block alert-info\">\n",
    "<b>Respuesta del estudiante</b> <a class=\"tocSkip\"></a>\n",
    "\n",
    "Hemos llevado a cabo un análisis estadístico para comparar los ingresos de los usarios del área NY-NJ es diferente a la \n",
    "de otras regiones.\n",
    "Dado que el valor p  es mayor que nuestro nivel de significancia α (0.05)\n",
    "No rechazamos la hipótesis nula. Esto significa que hay una diferencia  en los ingresos totales entre los usuarios de la zona NY-NJ son diferentes a la de otras regiones.\n",
    "      \n",
    "</div>"
   ]
  },
  {
   "cell_type": "markdown",
   "metadata": {},
   "source": [
    "<div class=\"alert alert-block alert-info\">\n",
    "<b>Respuesta del estudiante</b> <a class=\"tocSkip\"></a>\n",
    "Del analisis efectuado en relacion con los ingresos promedios por cada plan , se encontró una diferencia significativa, dado que se percibe mucho más ingresos en el plan surf , esto debido a el exceso de consumo que hacen los usuarios de este plan en comparación con el plan ultimate.\n",
    "Existe una clara varaiación en cuanto a los niveles promedio de ingreso generados por cada tipo de plan, lo puede indicar diferencias importantes en términos del valor percibido o del uso realizado por clientes suscritos a cada uno de estos planes. Estas conclusiones podrían ser útiles para tomar decisiones estratégicas relacionadas con la fijación de precios, segmentación del mercado o diseño de nuevos servicios para mejorar la rentabilidad y satisfacción del cliente.       \n",
    "</div>\n"
   ]
  },
  {
   "cell_type": "markdown",
   "metadata": {},
   "source": [
    "<div class=\"alert alert-block alert-info\">\n",
    "<b>Respuesta del estudiante</b> <a class=\"tocSkip\"></a>\n",
    "\n",
    "De acuerdo a la muestra de 500 cientes de la Empresa Megaline, se tiene la información de los usuarios, ciudad,\n",
    "cantidad de llamadas, mensajes y datos usados asi como también las tarifas por los 2 planes que tiene Surf y Ultimate.\n",
    "Por lo que para su mejor ánalisis es necesario la importación de la información y las librerias necesarias para \n",
    "python.\n",
    "Se revisaron los datos para identificar valores nulos, duplicados o atípicos.\n",
    "En la información de los Dataframe no se encontraron muchos valores ausentes por lo que se opto \n",
    "por reemplazarlos con 0.\n",
    "Se realizaron conversiones de tipos de datos necesario en las fechas.\n",
    "Al tener la información en distintos Dataframe , se opto por unir la información necesaria de las columnas relevantes\n",
    "para el ánalisis ('planes_id','mes') valores en común para tener la información en específico en una Dataframe\n",
    "que nos muestre la información por usuario , el plan que le corresponde así como tambíen el uso de datos, mens\n",
    "Se crearon nuevas columnas a partir de los datos existentes para proporcionar información adicional relevante para el análisis,\n",
    "que contienen la información de la cantidad de servicios adicionales que consumieron los usuarios , par poder determinar los \n",
    "ingresos en total incluyendo el costo base de la tarifa y los costos excedentes.\n",
    "En el estudio de comportamiento se decidió hallar estadísticas descriptivas para resumir características clave \n",
    "del conjunto de datos (media,mediana,moda,desviación estandar) asi como también se realizaron las visualizacion con el uso \n",
    "de gráficos (barras,histogramas,boxplot y lineplot) , que nos permiten visualizar el comportamiento y la evolución \n",
    "del consumo de los usuarios y determinar que plan genera un mayor ingreso para la empresa , que como se puede visualizar \n",
    "en el analisis corresponde al plan Surf , que está relacionada a los excedentes de servicios que utilizan los usuarios de \n",
    "este plan.\n",
    "Por último establecimos Hipotesis Nula (Los ingresos son iguales en ambos planes) y de acuerdo al ánalisis hecho es \n",
    "y los cálculos determinamos que debemos de rechazar la Hipótesis Nula.\n",
    "Por lo que se concluye por el ánalisis hecho el plan que genera mayores ingresos es el plan de Surf.\n",
    "</div>\n"
   ]
  },
  {
   "cell_type": "markdown",
   "metadata": {},
   "source": []
  }
 ],
 "metadata": {
  "ExecuteTimeLog": [
   {
    "duration": 828,
    "start_time": "2021-11-16T09:21:11.304Z"
   },
   {
    "duration": 893,
    "start_time": "2021-11-16T09:21:17.728Z"
   },
   {
    "duration": 1150,
    "start_time": "2021-11-16T09:21:29.568Z"
   },
   {
    "duration": 3,
    "start_time": "2021-11-16T09:24:14.495Z"
   },
   {
    "duration": 120,
    "start_time": "2021-11-16T09:24:46.630Z"
   },
   {
    "duration": 3,
    "start_time": "2021-11-16T09:28:27.882Z"
   },
   {
    "duration": 4,
    "start_time": "2021-11-16T09:29:54.281Z"
   },
   {
    "duration": 3,
    "start_time": "2021-11-16T09:30:45.936Z"
   },
   {
    "duration": 4,
    "start_time": "2021-11-16T09:31:06.300Z"
   },
   {
    "duration": 113,
    "start_time": "2021-11-16T09:31:37.208Z"
   },
   {
    "duration": 143,
    "start_time": "2021-11-16T09:31:48.656Z"
   },
   {
    "duration": 98,
    "start_time": "2021-11-16T09:31:55.678Z"
   },
   {
    "duration": 3,
    "start_time": "2021-11-16T09:32:08.535Z"
   },
   {
    "duration": 111,
    "start_time": "2021-11-16T09:32:10.120Z"
   },
   {
    "duration": 3,
    "start_time": "2021-11-16T09:32:15.732Z"
   },
   {
    "duration": 4,
    "start_time": "2021-11-16T09:32:29.423Z"
   },
   {
    "duration": 3,
    "start_time": "2021-11-16T10:03:03.074Z"
   },
   {
    "duration": 3,
    "start_time": "2021-11-16T10:10:01.288Z"
   },
   {
    "duration": 3,
    "start_time": "2021-11-16T10:10:46.923Z"
   },
   {
    "duration": 121,
    "start_time": "2021-11-16T10:37:46.494Z"
   },
   {
    "duration": 125,
    "start_time": "2021-11-16T10:38:20.632Z"
   },
   {
    "duration": 112,
    "start_time": "2021-11-16T10:46:53.001Z"
   },
   {
    "duration": 110,
    "start_time": "2021-11-16T10:48:25.775Z"
   },
   {
    "duration": 3,
    "start_time": "2021-11-16T10:50:18.720Z"
   },
   {
    "duration": 4,
    "start_time": "2021-11-16T10:50:37.649Z"
   },
   {
    "duration": 2,
    "start_time": "2021-11-16T10:50:51.884Z"
   },
   {
    "duration": 3,
    "start_time": "2021-11-16T10:51:56.237Z"
   },
   {
    "duration": 101,
    "start_time": "2021-11-16T10:53:13.791Z"
   },
   {
    "duration": 3,
    "start_time": "2021-11-16T10:55:59.186Z"
   },
   {
    "duration": 3,
    "start_time": "2021-11-16T10:56:10.751Z"
   },
   {
    "duration": 3,
    "start_time": "2021-11-16T10:56:49.038Z"
   },
   {
    "duration": 3,
    "start_time": "2021-11-16T10:56:49.174Z"
   },
   {
    "duration": 4,
    "start_time": "2021-11-16T10:56:49.414Z"
   },
   {
    "duration": 3,
    "start_time": "2021-11-16T10:56:49.680Z"
   },
   {
    "duration": 3,
    "start_time": "2021-11-16T10:56:50.370Z"
   },
   {
    "duration": 114,
    "start_time": "2021-11-16T10:59:34.518Z"
   },
   {
    "duration": 3,
    "start_time": "2021-11-16T11:01:41.201Z"
   },
   {
    "duration": 116,
    "start_time": "2021-11-16T11:01:48.754Z"
   },
   {
    "duration": 3,
    "start_time": "2021-11-16T11:02:16.685Z"
   },
   {
    "duration": 3,
    "start_time": "2021-11-16T11:02:19.479Z"
   },
   {
    "duration": 3,
    "start_time": "2021-11-16T11:02:47.067Z"
   },
   {
    "duration": 3,
    "start_time": "2021-11-16T11:02:49.353Z"
   },
   {
    "duration": 3,
    "start_time": "2021-11-16T11:03:07.835Z"
   },
   {
    "duration": 3,
    "start_time": "2021-11-16T11:03:07.953Z"
   },
   {
    "duration": 112,
    "start_time": "2021-11-16T11:07:52.072Z"
   },
   {
    "duration": 187,
    "start_time": "2021-11-16T11:09:23.468Z"
   },
   {
    "duration": 4,
    "start_time": "2021-11-16T11:10:01.455Z"
   },
   {
    "duration": 3,
    "start_time": "2021-11-16T11:10:05.069Z"
   },
   {
    "duration": 4,
    "start_time": "2021-11-16T11:10:13.376Z"
   },
   {
    "duration": 3,
    "start_time": "2021-11-16T11:10:14.434Z"
   },
   {
    "duration": 3,
    "start_time": "2021-11-16T11:10:22.853Z"
   },
   {
    "duration": 4,
    "start_time": "2021-11-16T11:27:29.279Z"
   },
   {
    "duration": 4,
    "start_time": "2021-11-16T11:29:08.919Z"
   },
   {
    "duration": 118,
    "start_time": "2021-11-16T11:29:46.703Z"
   },
   {
    "duration": 437,
    "start_time": "2021-11-16T11:36:02.181Z"
   },
   {
    "duration": 157,
    "start_time": "2021-11-16T11:36:14.388Z"
   },
   {
    "duration": 207,
    "start_time": "2021-11-16T11:47:15.898Z"
   },
   {
    "duration": 3,
    "start_time": "2021-11-16T11:53:52.092Z"
   },
   {
    "duration": 3,
    "start_time": "2021-11-16T11:53:52.236Z"
   },
   {
    "duration": 3,
    "start_time": "2021-11-16T11:59:12.005Z"
   },
   {
    "duration": 112,
    "start_time": "2021-11-16T12:00:33.446Z"
   },
   {
    "duration": 3,
    "start_time": "2021-11-16T12:02:14.453Z"
   },
   {
    "duration": 3,
    "start_time": "2021-11-16T12:02:39.512Z"
   },
   {
    "duration": 106,
    "start_time": "2021-11-16T12:03:03.460Z"
   },
   {
    "duration": 3,
    "start_time": "2021-11-17T20:37:21.139Z"
   },
   {
    "duration": 3,
    "start_time": "2021-11-17T20:37:22.229Z"
   },
   {
    "duration": 3,
    "start_time": "2021-11-17T20:38:38.806Z"
   },
   {
    "duration": 3,
    "start_time": "2021-11-17T20:38:41.958Z"
   },
   {
    "duration": 3,
    "start_time": "2021-11-17T20:43:46.551Z"
   },
   {
    "duration": 4,
    "start_time": "2021-11-17T20:58:21.835Z"
   },
   {
    "duration": 3,
    "start_time": "2021-11-17T20:59:21.872Z"
   },
   {
    "duration": 4,
    "start_time": "2021-11-17T20:59:45.352Z"
   },
   {
    "duration": 4,
    "start_time": "2021-11-17T20:59:49.646Z"
   },
   {
    "duration": 159,
    "start_time": "2021-11-17T21:02:26.949Z"
   },
   {
    "duration": 3,
    "start_time": "2021-11-17T21:03:53.461Z"
   },
   {
    "duration": 3,
    "start_time": "2021-11-17T21:03:53.694Z"
   },
   {
    "duration": 3,
    "start_time": "2021-11-17T21:05:28.145Z"
   },
   {
    "duration": 116,
    "start_time": "2021-11-17T21:05:57.787Z"
   },
   {
    "duration": 3,
    "start_time": "2021-11-17T21:06:37.993Z"
   },
   {
    "duration": 3,
    "start_time": "2021-11-17T21:06:38.261Z"
   },
   {
    "duration": 3,
    "start_time": "2021-11-17T21:11:54.358Z"
   },
   {
    "duration": 3,
    "start_time": "2021-11-17T21:12:43.846Z"
   },
   {
    "duration": 4,
    "start_time": "2021-11-17T21:13:08.773Z"
   },
   {
    "duration": 3,
    "start_time": "2021-11-17T21:14:44.441Z"
   },
   {
    "duration": 3,
    "start_time": "2021-11-17T21:15:42.059Z"
   },
   {
    "duration": 4,
    "start_time": "2021-11-17T21:15:51.995Z"
   },
   {
    "duration": 3,
    "start_time": "2021-11-17T21:15:53.923Z"
   },
   {
    "duration": 3,
    "start_time": "2021-11-17T21:15:55.282Z"
   },
   {
    "duration": 3,
    "start_time": "2021-11-17T21:16:28.492Z"
   },
   {
    "duration": 3,
    "start_time": "2021-11-17T21:16:32.603Z"
   },
   {
    "duration": 3,
    "start_time": "2021-11-17T21:17:06.941Z"
   },
   {
    "duration": 98,
    "start_time": "2021-11-17T21:18:05.733Z"
   },
   {
    "duration": 4,
    "start_time": "2021-11-17T21:21:35.255Z"
   },
   {
    "duration": 3,
    "start_time": "2021-11-17T21:21:37.804Z"
   },
   {
    "duration": 4,
    "start_time": "2021-11-17T21:23:06.071Z"
   },
   {
    "duration": 3,
    "start_time": "2021-11-17T21:23:24.799Z"
   },
   {
    "duration": 3,
    "start_time": "2021-11-17T21:23:32.591Z"
   },
   {
    "duration": 98,
    "start_time": "2021-11-17T21:28:31.559Z"
   },
   {
    "duration": 3,
    "start_time": "2021-11-17T21:28:45.448Z"
   },
   {
    "duration": 3,
    "start_time": "2021-11-17T21:29:17.303Z"
   },
   {
    "duration": 3,
    "start_time": "2021-11-17T21:29:29.617Z"
   },
   {
    "duration": 3,
    "start_time": "2021-11-17T21:29:32.681Z"
   },
   {
    "duration": 3,
    "start_time": "2021-11-17T21:36:11.474Z"
   },
   {
    "duration": 3,
    "start_time": "2021-11-17T21:36:14.791Z"
   },
   {
    "duration": 3,
    "start_time": "2021-11-17T21:36:53.943Z"
   },
   {
    "duration": 3,
    "start_time": "2021-11-17T21:36:56.165Z"
   },
   {
    "duration": 4,
    "start_time": "2021-11-17T21:37:16.590Z"
   },
   {
    "duration": 3,
    "start_time": "2021-11-17T21:37:22.702Z"
   },
   {
    "duration": 4,
    "start_time": "2021-11-17T21:38:03.479Z"
   },
   {
    "duration": 3,
    "start_time": "2021-11-17T21:38:08.601Z"
   },
   {
    "duration": 3,
    "start_time": "2021-11-17T21:38:12.928Z"
   },
   {
    "duration": 3,
    "start_time": "2021-11-17T21:38:48.896Z"
   },
   {
    "duration": 2,
    "start_time": "2021-11-17T21:38:49.171Z"
   },
   {
    "duration": 4,
    "start_time": "2021-11-17T21:39:57.889Z"
   },
   {
    "duration": 3,
    "start_time": "2021-11-17T21:39:58.057Z"
   },
   {
    "duration": 3,
    "start_time": "2021-11-17T21:41:20.108Z"
   },
   {
    "duration": 3,
    "start_time": "2021-11-17T21:41:20.629Z"
   },
   {
    "duration": 3,
    "start_time": "2021-11-17T21:42:49.136Z"
   },
   {
    "duration": 3,
    "start_time": "2021-11-17T21:43:15.137Z"
   },
   {
    "duration": 4,
    "start_time": "2021-11-17T21:43:16.766Z"
   },
   {
    "duration": 4,
    "start_time": "2021-11-17T21:43:31.711Z"
   },
   {
    "duration": 3,
    "start_time": "2021-11-17T21:43:36.312Z"
   },
   {
    "duration": 4,
    "start_time": "2021-11-17T21:45:08.825Z"
   },
   {
    "duration": 4,
    "start_time": "2021-11-17T21:45:10.119Z"
   },
   {
    "duration": 4,
    "start_time": "2021-11-17T21:45:13.748Z"
   },
   {
    "duration": 3,
    "start_time": "2021-11-17T21:45:22.219Z"
   },
   {
    "duration": 3,
    "start_time": "2021-11-17T21:45:33.412Z"
   },
   {
    "duration": 2,
    "start_time": "2021-11-17T21:46:01.885Z"
   },
   {
    "duration": 3,
    "start_time": "2021-11-17T21:46:03.628Z"
   },
   {
    "duration": 107,
    "start_time": "2021-11-17T21:47:32.512Z"
   },
   {
    "duration": 103,
    "start_time": "2021-11-17T21:50:36.243Z"
   },
   {
    "duration": 3,
    "start_time": "2021-11-18T06:28:31.440Z"
   },
   {
    "duration": 3,
    "start_time": "2021-11-18T06:29:00.168Z"
   },
   {
    "duration": 3,
    "start_time": "2021-11-18T06:31:27.008Z"
   },
   {
    "duration": 2,
    "start_time": "2021-11-18T06:35:34.288Z"
   },
   {
    "duration": 2,
    "start_time": "2021-11-18T06:38:04.527Z"
   },
   {
    "duration": 476,
    "start_time": "2024-07-29T21:58:29.731Z"
   },
   {
    "duration": 7,
    "start_time": "2024-07-29T22:04:36.550Z"
   },
   {
    "duration": 1039,
    "start_time": "2024-07-29T22:04:47.736Z"
   },
   {
    "duration": 121,
    "start_time": "2024-07-29T22:06:44.170Z"
   },
   {
    "duration": 4,
    "start_time": "2024-07-29T22:07:44.884Z"
   },
   {
    "duration": 124,
    "start_time": "2024-07-29T22:07:50.557Z"
   },
   {
    "duration": 124,
    "start_time": "2024-07-29T22:09:58.385Z"
   },
   {
    "duration": 367,
    "start_time": "2024-07-29T22:15:31.793Z"
   },
   {
    "duration": 22,
    "start_time": "2024-07-29T22:15:41.221Z"
   },
   {
    "duration": 21,
    "start_time": "2024-07-29T22:16:47.449Z"
   },
   {
    "duration": 17,
    "start_time": "2024-07-29T22:17:03.221Z"
   },
   {
    "duration": 12,
    "start_time": "2024-07-29T22:17:11.279Z"
   },
   {
    "duration": 20,
    "start_time": "2024-07-29T22:17:24.154Z"
   },
   {
    "duration": 29,
    "start_time": "2024-07-29T22:21:09.578Z"
   },
   {
    "duration": 22,
    "start_time": "2024-07-29T22:21:12.771Z"
   },
   {
    "duration": 18,
    "start_time": "2024-07-29T22:21:18.798Z"
   },
   {
    "duration": 14,
    "start_time": "2024-07-29T22:21:21.394Z"
   },
   {
    "duration": 14,
    "start_time": "2024-07-29T22:21:25.503Z"
   },
   {
    "duration": 13,
    "start_time": "2024-07-29T22:23:58.366Z"
   },
   {
    "duration": 11,
    "start_time": "2024-07-29T22:24:27.871Z"
   },
   {
    "duration": 12,
    "start_time": "2024-07-29T22:25:29.782Z"
   },
   {
    "duration": 28,
    "start_time": "2024-07-30T00:10:27.659Z"
   },
   {
    "duration": 24,
    "start_time": "2024-07-30T00:10:45.243Z"
   },
   {
    "duration": 24,
    "start_time": "2024-07-30T00:10:52.010Z"
   },
   {
    "duration": 16,
    "start_time": "2024-07-30T00:11:02.096Z"
   },
   {
    "duration": 32,
    "start_time": "2024-07-30T00:11:11.370Z"
   },
   {
    "duration": 17,
    "start_time": "2024-07-30T00:11:22.211Z"
   },
   {
    "duration": 4472,
    "start_time": "2024-07-30T00:19:18.075Z"
   },
   {
    "duration": 86,
    "start_time": "2024-07-30T00:21:34.587Z"
   },
   {
    "duration": 87,
    "start_time": "2024-07-30T00:23:29.074Z"
   },
   {
    "duration": 35,
    "start_time": "2024-07-30T00:26:12.216Z"
   },
   {
    "duration": 24,
    "start_time": "2024-07-30T00:30:01.422Z"
   },
   {
    "duration": 11,
    "start_time": "2024-07-30T00:30:58.163Z"
   },
   {
    "duration": 6,
    "start_time": "2024-07-30T01:16:11.529Z"
   },
   {
    "duration": 13,
    "start_time": "2024-07-30T01:22:35.216Z"
   },
   {
    "duration": 4,
    "start_time": "2024-07-30T01:24:31.991Z"
   },
   {
    "duration": 372,
    "start_time": "2024-07-30T01:24:40.316Z"
   },
   {
    "duration": 46,
    "start_time": "2024-07-30T01:24:58.551Z"
   },
   {
    "duration": 46,
    "start_time": "2024-07-30T01:25:17.567Z"
   },
   {
    "duration": 26,
    "start_time": "2024-07-30T01:25:45.860Z"
   },
   {
    "duration": 42,
    "start_time": "2024-07-30T01:26:40.199Z"
   },
   {
    "duration": 5,
    "start_time": "2024-07-30T01:32:25.822Z"
   },
   {
    "duration": 4,
    "start_time": "2024-07-30T01:32:30.023Z"
   },
   {
    "duration": 18,
    "start_time": "2024-07-30T01:32:47.850Z"
   },
   {
    "duration": 38,
    "start_time": "2024-07-30T01:38:51.154Z"
   },
   {
    "duration": 54,
    "start_time": "2024-07-30T01:39:01.735Z"
   },
   {
    "duration": 52,
    "start_time": "2024-07-30T01:39:19.186Z"
   },
   {
    "duration": 24,
    "start_time": "2024-07-30T01:51:19.841Z"
   },
   {
    "duration": 6,
    "start_time": "2024-07-30T01:51:58.347Z"
   },
   {
    "duration": 390,
    "start_time": "2024-07-30T01:52:07.396Z"
   },
   {
    "duration": 30,
    "start_time": "2024-07-30T01:53:52.344Z"
   },
   {
    "duration": 34,
    "start_time": "2024-07-30T01:54:01.925Z"
   },
   {
    "duration": 76,
    "start_time": "2024-07-30T02:06:56.994Z"
   },
   {
    "duration": 73,
    "start_time": "2024-07-30T02:07:13.211Z"
   },
   {
    "duration": 22,
    "start_time": "2024-07-30T02:07:56.525Z"
   },
   {
    "duration": 9,
    "start_time": "2024-07-30T02:08:23.890Z"
   },
   {
    "duration": 64,
    "start_time": "2024-07-30T03:27:53.127Z"
   },
   {
    "duration": 50,
    "start_time": "2024-07-30T03:27:57.130Z"
   },
   {
    "duration": 48,
    "start_time": "2024-07-30T03:29:36.471Z"
   },
   {
    "duration": 1367,
    "start_time": "2024-07-30T03:29:51.735Z"
   },
   {
    "duration": 286,
    "start_time": "2024-07-30T03:29:53.106Z"
   },
   {
    "duration": 96,
    "start_time": "2024-07-30T03:29:53.395Z"
   },
   {
    "duration": 14,
    "start_time": "2024-07-30T03:29:53.495Z"
   },
   {
    "duration": 36,
    "start_time": "2024-07-30T03:29:53.512Z"
   },
   {
    "duration": 7,
    "start_time": "2024-07-30T03:29:53.551Z"
   },
   {
    "duration": 0,
    "start_time": "2024-07-30T03:29:53.563Z"
   },
   {
    "duration": 0,
    "start_time": "2024-07-30T03:29:53.566Z"
   },
   {
    "duration": 0,
    "start_time": "2024-07-30T03:29:53.568Z"
   },
   {
    "duration": 0,
    "start_time": "2024-07-30T03:29:53.572Z"
   },
   {
    "duration": 0,
    "start_time": "2024-07-30T03:29:53.574Z"
   },
   {
    "duration": 0,
    "start_time": "2024-07-30T03:29:53.576Z"
   },
   {
    "duration": 0,
    "start_time": "2024-07-30T03:29:53.579Z"
   },
   {
    "duration": 0,
    "start_time": "2024-07-30T03:29:53.582Z"
   },
   {
    "duration": 0,
    "start_time": "2024-07-30T03:29:53.584Z"
   },
   {
    "duration": 0,
    "start_time": "2024-07-30T03:29:53.586Z"
   },
   {
    "duration": 0,
    "start_time": "2024-07-30T03:29:53.587Z"
   },
   {
    "duration": 0,
    "start_time": "2024-07-30T03:29:53.588Z"
   },
   {
    "duration": 0,
    "start_time": "2024-07-30T03:29:53.589Z"
   },
   {
    "duration": 0,
    "start_time": "2024-07-30T03:29:53.636Z"
   },
   {
    "duration": 0,
    "start_time": "2024-07-30T03:29:53.637Z"
   },
   {
    "duration": 0,
    "start_time": "2024-07-30T03:29:53.639Z"
   },
   {
    "duration": 0,
    "start_time": "2024-07-30T03:29:53.641Z"
   },
   {
    "duration": 0,
    "start_time": "2024-07-30T03:29:53.644Z"
   },
   {
    "duration": 0,
    "start_time": "2024-07-30T03:29:53.647Z"
   },
   {
    "duration": 0,
    "start_time": "2024-07-30T03:29:53.649Z"
   },
   {
    "duration": 0,
    "start_time": "2024-07-30T03:29:53.652Z"
   },
   {
    "duration": 0,
    "start_time": "2024-07-30T03:29:53.654Z"
   },
   {
    "duration": 0,
    "start_time": "2024-07-30T03:29:53.656Z"
   },
   {
    "duration": 0,
    "start_time": "2024-07-30T03:29:53.659Z"
   },
   {
    "duration": 0,
    "start_time": "2024-07-30T03:29:53.662Z"
   },
   {
    "duration": 0,
    "start_time": "2024-07-30T03:29:53.665Z"
   },
   {
    "duration": 0,
    "start_time": "2024-07-30T03:29:53.667Z"
   },
   {
    "duration": 0,
    "start_time": "2024-07-30T03:29:53.669Z"
   },
   {
    "duration": 0,
    "start_time": "2024-07-30T03:29:53.672Z"
   },
   {
    "duration": 0,
    "start_time": "2024-07-30T03:29:53.737Z"
   },
   {
    "duration": 4,
    "start_time": "2024-07-30T03:30:02.002Z"
   },
   {
    "duration": 296,
    "start_time": "2024-07-30T03:30:05.870Z"
   },
   {
    "duration": 91,
    "start_time": "2024-07-30T03:30:32.670Z"
   },
   {
    "duration": 15,
    "start_time": "2024-07-30T03:30:38.487Z"
   },
   {
    "duration": 1411,
    "start_time": "2024-07-30T03:30:48.016Z"
   },
   {
    "duration": 326,
    "start_time": "2024-07-30T03:30:49.431Z"
   },
   {
    "duration": 103,
    "start_time": "2024-07-30T03:30:49.760Z"
   },
   {
    "duration": 17,
    "start_time": "2024-07-30T03:30:49.870Z"
   },
   {
    "duration": 43,
    "start_time": "2024-07-30T03:30:49.891Z"
   },
   {
    "duration": 7,
    "start_time": "2024-07-30T03:30:49.937Z"
   },
   {
    "duration": 0,
    "start_time": "2024-07-30T03:30:49.951Z"
   },
   {
    "duration": 0,
    "start_time": "2024-07-30T03:30:49.954Z"
   },
   {
    "duration": 0,
    "start_time": "2024-07-30T03:30:49.957Z"
   },
   {
    "duration": 0,
    "start_time": "2024-07-30T03:30:49.959Z"
   },
   {
    "duration": 0,
    "start_time": "2024-07-30T03:30:49.962Z"
   },
   {
    "duration": 0,
    "start_time": "2024-07-30T03:30:49.964Z"
   },
   {
    "duration": 0,
    "start_time": "2024-07-30T03:30:49.966Z"
   },
   {
    "duration": 0,
    "start_time": "2024-07-30T03:30:49.968Z"
   },
   {
    "duration": 0,
    "start_time": "2024-07-30T03:30:49.970Z"
   },
   {
    "duration": 0,
    "start_time": "2024-07-30T03:30:49.973Z"
   },
   {
    "duration": 0,
    "start_time": "2024-07-30T03:30:49.975Z"
   },
   {
    "duration": 1,
    "start_time": "2024-07-30T03:30:49.977Z"
   },
   {
    "duration": 0,
    "start_time": "2024-07-30T03:30:50.035Z"
   },
   {
    "duration": 0,
    "start_time": "2024-07-30T03:30:50.037Z"
   },
   {
    "duration": 0,
    "start_time": "2024-07-30T03:30:50.038Z"
   },
   {
    "duration": 0,
    "start_time": "2024-07-30T03:30:50.040Z"
   },
   {
    "duration": 0,
    "start_time": "2024-07-30T03:30:50.043Z"
   },
   {
    "duration": 0,
    "start_time": "2024-07-30T03:30:50.045Z"
   },
   {
    "duration": 0,
    "start_time": "2024-07-30T03:30:50.048Z"
   },
   {
    "duration": 0,
    "start_time": "2024-07-30T03:30:50.051Z"
   },
   {
    "duration": 0,
    "start_time": "2024-07-30T03:30:50.055Z"
   },
   {
    "duration": 0,
    "start_time": "2024-07-30T03:30:50.058Z"
   },
   {
    "duration": 0,
    "start_time": "2024-07-30T03:30:50.060Z"
   },
   {
    "duration": 0,
    "start_time": "2024-07-30T03:30:50.063Z"
   },
   {
    "duration": 0,
    "start_time": "2024-07-30T03:30:50.067Z"
   },
   {
    "duration": 0,
    "start_time": "2024-07-30T03:30:50.069Z"
   },
   {
    "duration": 0,
    "start_time": "2024-07-30T03:30:50.073Z"
   },
   {
    "duration": 0,
    "start_time": "2024-07-30T03:30:50.075Z"
   },
   {
    "duration": 1,
    "start_time": "2024-07-30T03:30:50.133Z"
   },
   {
    "duration": 0,
    "start_time": "2024-07-30T03:30:50.136Z"
   },
   {
    "duration": 28,
    "start_time": "2024-07-30T03:31:13.195Z"
   },
   {
    "duration": 13,
    "start_time": "2024-07-30T03:31:16.148Z"
   },
   {
    "duration": 80,
    "start_time": "2024-07-30T03:31:21.888Z"
   },
   {
    "duration": 60,
    "start_time": "2024-07-30T03:31:24.916Z"
   },
   {
    "duration": 20,
    "start_time": "2024-07-30T03:31:28.655Z"
   },
   {
    "duration": 11,
    "start_time": "2024-07-30T03:31:31.337Z"
   },
   {
    "duration": 34,
    "start_time": "2024-07-30T03:31:52.302Z"
   },
   {
    "duration": 37,
    "start_time": "2024-07-30T03:35:04.299Z"
   },
   {
    "duration": 30,
    "start_time": "2024-07-30T03:36:52.036Z"
   },
   {
    "duration": 23,
    "start_time": "2024-07-30T03:38:04.408Z"
   },
   {
    "duration": 12,
    "start_time": "2024-07-30T03:38:08.226Z"
   },
   {
    "duration": 15,
    "start_time": "2024-07-30T03:41:37.937Z"
   },
   {
    "duration": 14,
    "start_time": "2024-07-30T03:41:41.317Z"
   },
   {
    "duration": 1373,
    "start_time": "2024-07-30T03:43:33.003Z"
   },
   {
    "duration": 49,
    "start_time": "2024-07-30T03:43:58.065Z"
   },
   {
    "duration": 40,
    "start_time": "2024-07-30T03:50:24.817Z"
   },
   {
    "duration": 6,
    "start_time": "2024-07-30T03:53:02.118Z"
   },
   {
    "duration": 5,
    "start_time": "2024-07-30T03:53:26.458Z"
   },
   {
    "duration": 6,
    "start_time": "2024-07-30T03:54:12.826Z"
   },
   {
    "duration": 5,
    "start_time": "2024-07-30T03:54:52.048Z"
   },
   {
    "duration": 5,
    "start_time": "2024-07-30T03:55:28.395Z"
   },
   {
    "duration": 19,
    "start_time": "2024-07-30T03:55:34.805Z"
   },
   {
    "duration": 11,
    "start_time": "2024-07-30T03:55:43.605Z"
   },
   {
    "duration": 31,
    "start_time": "2024-07-30T03:58:01.104Z"
   },
   {
    "duration": 38,
    "start_time": "2024-07-30T03:58:17.279Z"
   },
   {
    "duration": 8,
    "start_time": "2024-07-30T04:06:01.424Z"
   },
   {
    "duration": 336,
    "start_time": "2024-07-30T04:06:43.656Z"
   },
   {
    "duration": 25,
    "start_time": "2024-07-30T04:07:59.211Z"
   },
   {
    "duration": 25,
    "start_time": "2024-07-30T04:09:15.504Z"
   },
   {
    "duration": 8,
    "start_time": "2024-07-30T04:09:38.178Z"
   },
   {
    "duration": 9,
    "start_time": "2024-07-30T04:09:41.853Z"
   },
   {
    "duration": 8,
    "start_time": "2024-07-30T04:09:46.944Z"
   },
   {
    "duration": 28,
    "start_time": "2024-07-30T04:10:07.986Z"
   },
   {
    "duration": 32,
    "start_time": "2024-07-30T04:10:28.722Z"
   },
   {
    "duration": 58,
    "start_time": "2024-07-30T04:10:54.170Z"
   },
   {
    "duration": 1366,
    "start_time": "2024-07-30T04:11:16.357Z"
   },
   {
    "duration": 311,
    "start_time": "2024-07-30T04:11:17.727Z"
   },
   {
    "duration": 119,
    "start_time": "2024-07-30T04:11:18.041Z"
   },
   {
    "duration": 15,
    "start_time": "2024-07-30T04:11:18.165Z"
   },
   {
    "duration": 17,
    "start_time": "2024-07-30T04:11:18.184Z"
   },
   {
    "duration": 16,
    "start_time": "2024-07-30T04:11:18.236Z"
   },
   {
    "duration": 16,
    "start_time": "2024-07-30T04:11:18.256Z"
   },
   {
    "duration": 63,
    "start_time": "2024-07-30T04:11:18.276Z"
   },
   {
    "duration": 12,
    "start_time": "2024-07-30T04:11:18.342Z"
   },
   {
    "duration": 7,
    "start_time": "2024-07-30T04:11:18.361Z"
   },
   {
    "duration": 0,
    "start_time": "2024-07-30T04:11:18.372Z"
   },
   {
    "duration": 0,
    "start_time": "2024-07-30T04:11:18.375Z"
   },
   {
    "duration": 0,
    "start_time": "2024-07-30T04:11:18.377Z"
   },
   {
    "duration": 0,
    "start_time": "2024-07-30T04:11:18.379Z"
   },
   {
    "duration": 0,
    "start_time": "2024-07-30T04:11:18.382Z"
   },
   {
    "duration": 48,
    "start_time": "2024-07-30T04:11:18.385Z"
   },
   {
    "duration": 0,
    "start_time": "2024-07-30T04:11:18.436Z"
   },
   {
    "duration": 0,
    "start_time": "2024-07-30T04:11:18.438Z"
   },
   {
    "duration": 0,
    "start_time": "2024-07-30T04:11:18.441Z"
   },
   {
    "duration": 0,
    "start_time": "2024-07-30T04:11:18.444Z"
   },
   {
    "duration": 0,
    "start_time": "2024-07-30T04:11:18.446Z"
   },
   {
    "duration": 0,
    "start_time": "2024-07-30T04:11:18.448Z"
   },
   {
    "duration": 0,
    "start_time": "2024-07-30T04:11:18.449Z"
   },
   {
    "duration": 0,
    "start_time": "2024-07-30T04:11:18.451Z"
   },
   {
    "duration": 0,
    "start_time": "2024-07-30T04:11:18.453Z"
   },
   {
    "duration": 0,
    "start_time": "2024-07-30T04:11:18.455Z"
   },
   {
    "duration": 0,
    "start_time": "2024-07-30T04:11:18.458Z"
   },
   {
    "duration": 0,
    "start_time": "2024-07-30T04:11:18.460Z"
   },
   {
    "duration": 0,
    "start_time": "2024-07-30T04:11:18.463Z"
   },
   {
    "duration": 0,
    "start_time": "2024-07-30T04:11:18.467Z"
   },
   {
    "duration": 0,
    "start_time": "2024-07-30T04:11:18.470Z"
   },
   {
    "duration": 0,
    "start_time": "2024-07-30T04:11:18.472Z"
   },
   {
    "duration": 0,
    "start_time": "2024-07-30T04:11:18.474Z"
   },
   {
    "duration": 0,
    "start_time": "2024-07-30T04:11:18.536Z"
   },
   {
    "duration": 0,
    "start_time": "2024-07-30T04:11:18.538Z"
   },
   {
    "duration": 0,
    "start_time": "2024-07-30T04:11:18.540Z"
   },
   {
    "duration": 0,
    "start_time": "2024-07-30T04:11:18.543Z"
   },
   {
    "duration": 36,
    "start_time": "2024-07-30T04:11:28.032Z"
   },
   {
    "duration": 34,
    "start_time": "2024-07-30T04:11:39.016Z"
   },
   {
    "duration": 35,
    "start_time": "2024-07-30T04:11:45.159Z"
   },
   {
    "duration": 12,
    "start_time": "2024-07-30T04:12:31.721Z"
   },
   {
    "duration": 44,
    "start_time": "2024-07-30T04:13:21.473Z"
   },
   {
    "duration": 23,
    "start_time": "2024-07-30T04:13:28.344Z"
   },
   {
    "duration": 19,
    "start_time": "2024-07-30T04:23:41.200Z"
   },
   {
    "duration": 511,
    "start_time": "2024-07-30T04:24:45.738Z"
   },
   {
    "duration": 32,
    "start_time": "2024-07-30T04:25:06.202Z"
   },
   {
    "duration": 23,
    "start_time": "2024-07-30T04:25:18.618Z"
   },
   {
    "duration": 6,
    "start_time": "2024-07-30T04:27:05.671Z"
   },
   {
    "duration": 2589,
    "start_time": "2024-07-30T04:28:57.804Z"
   },
   {
    "duration": 223,
    "start_time": "2024-07-30T04:29:00.957Z"
   },
   {
    "duration": 10,
    "start_time": "2024-07-30T04:29:06.406Z"
   },
   {
    "duration": 129,
    "start_time": "2024-07-30T04:29:10.096Z"
   },
   {
    "duration": 47,
    "start_time": "2024-07-30T04:29:25.634Z"
   },
   {
    "duration": 23,
    "start_time": "2024-07-30T04:36:09.758Z"
   },
   {
    "duration": 22,
    "start_time": "2024-07-30T04:36:37.054Z"
   },
   {
    "duration": 32,
    "start_time": "2024-07-30T04:37:34.313Z"
   },
   {
    "duration": 22,
    "start_time": "2024-07-30T04:37:45.070Z"
   },
   {
    "duration": 23,
    "start_time": "2024-07-30T04:38:11.091Z"
   },
   {
    "duration": 5,
    "start_time": "2024-07-30T04:41:55.488Z"
   },
   {
    "duration": 17,
    "start_time": "2024-07-30T04:45:04.863Z"
   },
   {
    "duration": 12,
    "start_time": "2024-07-30T04:45:08.155Z"
   },
   {
    "duration": 6,
    "start_time": "2024-07-30T04:48:55.780Z"
   },
   {
    "duration": 7,
    "start_time": "2024-07-30T04:49:30.172Z"
   },
   {
    "duration": 7,
    "start_time": "2024-07-30T04:50:39.914Z"
   },
   {
    "duration": 91,
    "start_time": "2024-07-30T04:52:58.520Z"
   },
   {
    "duration": 88,
    "start_time": "2024-07-30T04:53:09.346Z"
   },
   {
    "duration": 27,
    "start_time": "2024-07-30T05:00:36.574Z"
   },
   {
    "duration": 26,
    "start_time": "2024-07-30T05:00:54.176Z"
   },
   {
    "duration": 26,
    "start_time": "2024-07-30T05:02:39.795Z"
   },
   {
    "duration": 11,
    "start_time": "2024-07-30T05:02:45.302Z"
   },
   {
    "duration": 76,
    "start_time": "2024-07-30T05:02:50.812Z"
   },
   {
    "duration": 51,
    "start_time": "2024-07-30T05:02:58.633Z"
   },
   {
    "duration": 88,
    "start_time": "2024-07-30T05:03:11.624Z"
   },
   {
    "duration": 27,
    "start_time": "2024-07-30T05:03:15.920Z"
   },
   {
    "duration": 27,
    "start_time": "2024-07-30T05:03:37.227Z"
   },
   {
    "duration": 56,
    "start_time": "2024-07-30T05:03:56.655Z"
   },
   {
    "duration": 50,
    "start_time": "2024-07-30T05:06:55.014Z"
   },
   {
    "duration": 57,
    "start_time": "2024-07-30T05:08:44.630Z"
   },
   {
    "duration": 63,
    "start_time": "2024-07-30T05:08:59.501Z"
   },
   {
    "duration": 57,
    "start_time": "2024-07-30T05:09:14.038Z"
   },
   {
    "duration": 17,
    "start_time": "2024-07-30T05:13:01.507Z"
   },
   {
    "duration": 213,
    "start_time": "2024-07-30T05:13:11.023Z"
   },
   {
    "duration": 60,
    "start_time": "2024-07-30T05:13:39.022Z"
   },
   {
    "duration": 34,
    "start_time": "2024-07-30T05:14:47.759Z"
   },
   {
    "duration": 22,
    "start_time": "2024-07-30T05:18:38.893Z"
   },
   {
    "duration": 62,
    "start_time": "2024-07-30T05:19:31.372Z"
   },
   {
    "duration": 44,
    "start_time": "2024-07-30T05:20:40.333Z"
   },
   {
    "duration": 40,
    "start_time": "2024-07-30T05:27:19.674Z"
   },
   {
    "duration": 12,
    "start_time": "2024-07-30T05:33:24.280Z"
   },
   {
    "duration": 34,
    "start_time": "2024-07-30T05:35:38.326Z"
   },
   {
    "duration": 5,
    "start_time": "2024-07-30T05:39:28.219Z"
   },
   {
    "duration": 28,
    "start_time": "2024-07-30T05:40:02.816Z"
   },
   {
    "duration": 26,
    "start_time": "2024-07-30T05:40:57.810Z"
   },
   {
    "duration": 6,
    "start_time": "2024-07-30T05:41:07.756Z"
   },
   {
    "duration": 4,
    "start_time": "2024-07-30T05:41:41.843Z"
   },
   {
    "duration": 6,
    "start_time": "2024-07-30T05:42:33.892Z"
   },
   {
    "duration": 1215,
    "start_time": "2024-07-30T05:43:01.571Z"
   },
   {
    "duration": 273,
    "start_time": "2024-07-30T05:43:02.789Z"
   },
   {
    "duration": 90,
    "start_time": "2024-07-30T05:43:03.066Z"
   },
   {
    "duration": 14,
    "start_time": "2024-07-30T05:43:03.161Z"
   },
   {
    "duration": 15,
    "start_time": "2024-07-30T05:43:03.181Z"
   },
   {
    "duration": 38,
    "start_time": "2024-07-30T05:43:03.199Z"
   },
   {
    "duration": 14,
    "start_time": "2024-07-30T05:43:03.240Z"
   },
   {
    "duration": 14,
    "start_time": "2024-07-30T05:43:03.258Z"
   },
   {
    "duration": 16,
    "start_time": "2024-07-30T05:43:03.275Z"
   },
   {
    "duration": 4,
    "start_time": "2024-07-30T05:43:03.336Z"
   },
   {
    "duration": 1775,
    "start_time": "2024-07-30T05:43:03.343Z"
   },
   {
    "duration": 0,
    "start_time": "2024-07-30T05:43:05.122Z"
   },
   {
    "duration": 0,
    "start_time": "2024-07-30T05:43:05.124Z"
   },
   {
    "duration": 0,
    "start_time": "2024-07-30T05:43:05.134Z"
   },
   {
    "duration": 0,
    "start_time": "2024-07-30T05:43:05.136Z"
   },
   {
    "duration": 0,
    "start_time": "2024-07-30T05:43:05.138Z"
   },
   {
    "duration": 0,
    "start_time": "2024-07-30T05:43:05.140Z"
   },
   {
    "duration": 0,
    "start_time": "2024-07-30T05:43:05.142Z"
   },
   {
    "duration": 0,
    "start_time": "2024-07-30T05:43:05.145Z"
   },
   {
    "duration": 0,
    "start_time": "2024-07-30T05:43:05.146Z"
   },
   {
    "duration": 0,
    "start_time": "2024-07-30T05:43:05.148Z"
   },
   {
    "duration": 0,
    "start_time": "2024-07-30T05:43:05.151Z"
   },
   {
    "duration": 0,
    "start_time": "2024-07-30T05:43:05.153Z"
   },
   {
    "duration": 0,
    "start_time": "2024-07-30T05:43:05.155Z"
   },
   {
    "duration": 0,
    "start_time": "2024-07-30T05:43:05.158Z"
   },
   {
    "duration": 0,
    "start_time": "2024-07-30T05:43:05.161Z"
   },
   {
    "duration": 0,
    "start_time": "2024-07-30T05:43:05.163Z"
   },
   {
    "duration": 0,
    "start_time": "2024-07-30T05:43:05.168Z"
   },
   {
    "duration": 0,
    "start_time": "2024-07-30T05:43:05.170Z"
   },
   {
    "duration": 0,
    "start_time": "2024-07-30T05:43:05.172Z"
   },
   {
    "duration": 0,
    "start_time": "2024-07-30T05:43:05.236Z"
   },
   {
    "duration": 0,
    "start_time": "2024-07-30T05:43:05.238Z"
   },
   {
    "duration": 0,
    "start_time": "2024-07-30T05:43:05.240Z"
   },
   {
    "duration": 0,
    "start_time": "2024-07-30T05:43:05.243Z"
   },
   {
    "duration": 0,
    "start_time": "2024-07-30T05:43:05.245Z"
   },
   {
    "duration": 0,
    "start_time": "2024-07-30T05:43:05.248Z"
   },
   {
    "duration": 0,
    "start_time": "2024-07-30T05:43:05.250Z"
   },
   {
    "duration": 0,
    "start_time": "2024-07-30T05:43:05.252Z"
   },
   {
    "duration": 0,
    "start_time": "2024-07-30T05:43:05.254Z"
   },
   {
    "duration": 0,
    "start_time": "2024-07-30T05:43:05.256Z"
   },
   {
    "duration": 0,
    "start_time": "2024-07-30T05:43:05.259Z"
   },
   {
    "duration": 0,
    "start_time": "2024-07-30T05:43:05.262Z"
   },
   {
    "duration": 5,
    "start_time": "2024-07-30T05:43:12.679Z"
   },
   {
    "duration": 29,
    "start_time": "2024-07-30T05:43:15.030Z"
   },
   {
    "duration": 15,
    "start_time": "2024-07-30T05:44:47.948Z"
   },
   {
    "duration": 16,
    "start_time": "2024-07-30T05:44:51.048Z"
   },
   {
    "duration": 4,
    "start_time": "2024-07-30T05:44:58.706Z"
   },
   {
    "duration": 77,
    "start_time": "2024-07-30T05:45:03.014Z"
   },
   {
    "duration": 25,
    "start_time": "2024-07-30T05:45:18.739Z"
   },
   {
    "duration": 6,
    "start_time": "2024-07-30T05:45:34.009Z"
   },
   {
    "duration": 31,
    "start_time": "2024-07-30T05:45:40.297Z"
   },
   {
    "duration": 6,
    "start_time": "2024-07-30T05:46:39.969Z"
   },
   {
    "duration": 5,
    "start_time": "2024-07-30T05:46:44.114Z"
   },
   {
    "duration": 17,
    "start_time": "2024-07-30T05:46:56.681Z"
   },
   {
    "duration": 28,
    "start_time": "2024-07-30T05:49:16.290Z"
   },
   {
    "duration": 25,
    "start_time": "2024-07-30T05:49:48.439Z"
   },
   {
    "duration": 24,
    "start_time": "2024-07-30T05:50:00.176Z"
   },
   {
    "duration": 600,
    "start_time": "2024-07-30T05:51:00.465Z"
   },
   {
    "duration": 127,
    "start_time": "2024-07-30T05:51:05.319Z"
   },
   {
    "duration": 136,
    "start_time": "2024-07-30T05:51:15.822Z"
   },
   {
    "duration": 18,
    "start_time": "2024-07-30T05:51:23.853Z"
   },
   {
    "duration": 126,
    "start_time": "2024-07-30T05:51:30.536Z"
   },
   {
    "duration": 25,
    "start_time": "2024-07-30T05:52:10.554Z"
   },
   {
    "duration": 1270,
    "start_time": "2024-07-30T05:52:20.511Z"
   },
   {
    "duration": 267,
    "start_time": "2024-07-30T05:52:21.784Z"
   },
   {
    "duration": 91,
    "start_time": "2024-07-30T05:52:22.054Z"
   },
   {
    "duration": 14,
    "start_time": "2024-07-30T05:52:22.149Z"
   },
   {
    "duration": 15,
    "start_time": "2024-07-30T05:52:22.166Z"
   },
   {
    "duration": 10,
    "start_time": "2024-07-30T05:52:22.183Z"
   },
   {
    "duration": 48,
    "start_time": "2024-07-30T05:52:22.196Z"
   },
   {
    "duration": 15,
    "start_time": "2024-07-30T05:52:22.247Z"
   },
   {
    "duration": 14,
    "start_time": "2024-07-30T05:52:22.265Z"
   },
   {
    "duration": 48,
    "start_time": "2024-07-30T05:52:22.287Z"
   },
   {
    "duration": 23,
    "start_time": "2024-07-30T05:52:22.338Z"
   },
   {
    "duration": 25,
    "start_time": "2024-07-30T05:52:22.363Z"
   },
   {
    "duration": 45,
    "start_time": "2024-07-30T05:52:22.392Z"
   },
   {
    "duration": 71,
    "start_time": "2024-07-30T05:52:22.440Z"
   },
   {
    "duration": 66,
    "start_time": "2024-07-30T05:52:22.514Z"
   },
   {
    "duration": 19,
    "start_time": "2024-07-30T05:52:22.582Z"
   },
   {
    "duration": 34,
    "start_time": "2024-07-30T05:52:22.604Z"
   },
   {
    "duration": 36,
    "start_time": "2024-07-30T05:52:22.642Z"
   },
   {
    "duration": 65,
    "start_time": "2024-07-30T05:52:22.681Z"
   },
   {
    "duration": 21,
    "start_time": "2024-07-30T05:52:22.749Z"
   },
   {
    "duration": 11,
    "start_time": "2024-07-30T05:52:22.773Z"
   },
   {
    "duration": 94,
    "start_time": "2024-07-30T05:52:22.787Z"
   },
   {
    "duration": 55,
    "start_time": "2024-07-30T05:52:22.884Z"
   },
   {
    "duration": 14,
    "start_time": "2024-07-30T05:52:22.942Z"
   },
   {
    "duration": 3,
    "start_time": "2024-07-30T05:52:22.959Z"
   },
   {
    "duration": 118,
    "start_time": "2024-07-30T05:52:22.965Z"
   },
   {
    "duration": 72,
    "start_time": "2024-07-30T05:52:23.086Z"
   },
   {
    "duration": 32,
    "start_time": "2024-07-30T05:52:23.167Z"
   },
   {
    "duration": 40,
    "start_time": "2024-07-30T05:52:23.202Z"
   },
   {
    "duration": 41,
    "start_time": "2024-07-30T05:52:23.245Z"
   },
   {
    "duration": 63,
    "start_time": "2024-07-30T05:52:23.289Z"
   },
   {
    "duration": 479,
    "start_time": "2024-07-30T05:52:23.355Z"
   },
   {
    "duration": 0,
    "start_time": "2024-07-30T05:52:23.837Z"
   },
   {
    "duration": 0,
    "start_time": "2024-07-30T05:52:23.839Z"
   },
   {
    "duration": 0,
    "start_time": "2024-07-30T05:52:23.840Z"
   },
   {
    "duration": 0,
    "start_time": "2024-07-30T05:52:23.843Z"
   },
   {
    "duration": 0,
    "start_time": "2024-07-30T05:52:23.845Z"
   },
   {
    "duration": 0,
    "start_time": "2024-07-30T05:52:23.847Z"
   },
   {
    "duration": 0,
    "start_time": "2024-07-30T05:52:23.849Z"
   },
   {
    "duration": 0,
    "start_time": "2024-07-30T05:52:23.851Z"
   },
   {
    "duration": 0,
    "start_time": "2024-07-30T05:52:23.854Z"
   },
   {
    "duration": 24,
    "start_time": "2024-07-30T05:52:33.320Z"
   },
   {
    "duration": 37,
    "start_time": "2024-07-30T05:53:09.737Z"
   },
   {
    "duration": 33,
    "start_time": "2024-07-30T05:53:21.600Z"
   },
   {
    "duration": 26,
    "start_time": "2024-07-30T05:53:28.061Z"
   },
   {
    "duration": 12,
    "start_time": "2024-07-30T05:53:45.743Z"
   },
   {
    "duration": 34,
    "start_time": "2024-07-30T05:53:56.929Z"
   },
   {
    "duration": 6,
    "start_time": "2024-07-30T06:01:00.397Z"
   },
   {
    "duration": 493,
    "start_time": "2024-07-30T06:13:41.082Z"
   },
   {
    "duration": 5,
    "start_time": "2024-07-30T06:15:27.551Z"
   },
   {
    "duration": 83,
    "start_time": "2024-07-30T06:15:38.018Z"
   },
   {
    "duration": 5,
    "start_time": "2024-07-30T06:16:48.713Z"
   },
   {
    "duration": 79,
    "start_time": "2024-07-30T06:17:42.918Z"
   },
   {
    "duration": 33,
    "start_time": "2024-07-30T06:17:54.609Z"
   },
   {
    "duration": 79,
    "start_time": "2024-07-30T06:18:02.115Z"
   },
   {
    "duration": 75,
    "start_time": "2024-07-30T06:20:23.883Z"
   },
   {
    "duration": 1319,
    "start_time": "2024-07-30T06:20:36.838Z"
   },
   {
    "duration": 282,
    "start_time": "2024-07-30T06:20:38.161Z"
   },
   {
    "duration": 96,
    "start_time": "2024-07-30T06:20:38.446Z"
   },
   {
    "duration": 18,
    "start_time": "2024-07-30T06:20:38.546Z"
   },
   {
    "duration": 16,
    "start_time": "2024-07-30T06:20:38.568Z"
   },
   {
    "duration": 11,
    "start_time": "2024-07-30T06:20:38.587Z"
   },
   {
    "duration": 14,
    "start_time": "2024-07-30T06:20:38.636Z"
   },
   {
    "duration": 14,
    "start_time": "2024-07-30T06:20:38.655Z"
   },
   {
    "duration": 14,
    "start_time": "2024-07-30T06:20:38.673Z"
   },
   {
    "duration": 5,
    "start_time": "2024-07-30T06:20:38.736Z"
   },
   {
    "duration": 25,
    "start_time": "2024-07-30T06:20:38.745Z"
   },
   {
    "duration": 25,
    "start_time": "2024-07-30T06:20:38.773Z"
   },
   {
    "duration": 13,
    "start_time": "2024-07-30T06:20:38.835Z"
   },
   {
    "duration": 92,
    "start_time": "2024-07-30T06:20:38.853Z"
   },
   {
    "duration": 53,
    "start_time": "2024-07-30T06:20:38.948Z"
   },
   {
    "duration": 35,
    "start_time": "2024-07-30T06:20:39.004Z"
   },
   {
    "duration": 11,
    "start_time": "2024-07-30T06:20:39.043Z"
   },
   {
    "duration": 37,
    "start_time": "2024-07-30T06:20:39.059Z"
   },
   {
    "duration": 33,
    "start_time": "2024-07-30T06:20:39.133Z"
   },
   {
    "duration": 25,
    "start_time": "2024-07-30T06:20:39.169Z"
   },
   {
    "duration": 40,
    "start_time": "2024-07-30T06:20:39.196Z"
   },
   {
    "duration": 63,
    "start_time": "2024-07-30T06:20:39.240Z"
   },
   {
    "duration": 64,
    "start_time": "2024-07-30T06:20:39.305Z"
   },
   {
    "duration": 16,
    "start_time": "2024-07-30T06:20:39.372Z"
   },
   {
    "duration": 6,
    "start_time": "2024-07-30T06:20:39.390Z"
   },
   {
    "duration": 136,
    "start_time": "2024-07-30T06:20:39.399Z"
   },
   {
    "duration": 69,
    "start_time": "2024-07-30T06:20:39.538Z"
   },
   {
    "duration": 34,
    "start_time": "2024-07-30T06:20:39.633Z"
   },
   {
    "duration": 37,
    "start_time": "2024-07-30T06:20:39.670Z"
   },
   {
    "duration": 55,
    "start_time": "2024-07-30T06:20:39.710Z"
   },
   {
    "duration": 33,
    "start_time": "2024-07-30T06:20:39.768Z"
   },
   {
    "duration": 34,
    "start_time": "2024-07-30T06:20:39.804Z"
   },
   {
    "duration": 968,
    "start_time": "2024-07-30T06:20:39.841Z"
   },
   {
    "duration": 0,
    "start_time": "2024-07-30T06:20:40.812Z"
   },
   {
    "duration": 0,
    "start_time": "2024-07-30T06:20:40.814Z"
   },
   {
    "duration": 0,
    "start_time": "2024-07-30T06:20:40.816Z"
   },
   {
    "duration": 0,
    "start_time": "2024-07-30T06:20:40.835Z"
   },
   {
    "duration": 0,
    "start_time": "2024-07-30T06:20:40.838Z"
   },
   {
    "duration": 1,
    "start_time": "2024-07-30T06:20:40.840Z"
   },
   {
    "duration": 0,
    "start_time": "2024-07-30T06:20:40.843Z"
   },
   {
    "duration": 0,
    "start_time": "2024-07-30T06:20:40.845Z"
   },
   {
    "duration": 74,
    "start_time": "2024-07-30T06:22:53.634Z"
   },
   {
    "duration": 32,
    "start_time": "2024-07-30T06:27:08.005Z"
   },
   {
    "duration": 73,
    "start_time": "2024-07-30T06:27:14.713Z"
   },
   {
    "duration": 5,
    "start_time": "2024-07-30T06:28:02.295Z"
   },
   {
    "duration": 73,
    "start_time": "2024-07-30T06:28:05.416Z"
   },
   {
    "duration": 6,
    "start_time": "2024-07-30T06:29:36.883Z"
   },
   {
    "duration": 75,
    "start_time": "2024-07-30T06:29:40.445Z"
   },
   {
    "duration": 5,
    "start_time": "2024-07-30T06:30:43.278Z"
   },
   {
    "duration": 83,
    "start_time": "2024-07-30T06:30:47.649Z"
   },
   {
    "duration": 5,
    "start_time": "2024-07-30T06:32:45.597Z"
   },
   {
    "duration": 82,
    "start_time": "2024-07-30T06:32:49.772Z"
   },
   {
    "duration": 6,
    "start_time": "2024-07-30T06:33:14.670Z"
   },
   {
    "duration": 44,
    "start_time": "2024-07-30T06:33:17.813Z"
   },
   {
    "duration": 67,
    "start_time": "2024-07-30T06:33:24.096Z"
   },
   {
    "duration": 341,
    "start_time": "2024-07-30T06:44:40.186Z"
   },
   {
    "duration": 6,
    "start_time": "2024-07-30T06:51:02.183Z"
   },
   {
    "duration": 29,
    "start_time": "2024-07-30T06:53:29.177Z"
   },
   {
    "duration": 20,
    "start_time": "2024-07-30T06:53:49.565Z"
   },
   {
    "duration": 6,
    "start_time": "2024-07-30T06:58:51.674Z"
   },
   {
    "duration": 23,
    "start_time": "2024-07-30T06:59:39.736Z"
   },
   {
    "duration": 497,
    "start_time": "2024-07-30T07:02:01.937Z"
   },
   {
    "duration": 424,
    "start_time": "2024-07-30T07:03:42.803Z"
   },
   {
    "duration": 440,
    "start_time": "2024-07-30T07:05:08.574Z"
   },
   {
    "duration": 29,
    "start_time": "2024-07-30T07:05:54.426Z"
   },
   {
    "duration": 457,
    "start_time": "2024-07-30T07:07:32.535Z"
   },
   {
    "duration": 431,
    "start_time": "2024-07-30T07:07:57.267Z"
   },
   {
    "duration": 281,
    "start_time": "2024-07-30T07:09:11.031Z"
   },
   {
    "duration": 598,
    "start_time": "2024-07-30T07:09:42.312Z"
   },
   {
    "duration": 9,
    "start_time": "2024-07-30T07:17:45.854Z"
   },
   {
    "duration": 555,
    "start_time": "2024-07-30T07:18:21.654Z"
   },
   {
    "duration": 108,
    "start_time": "2024-07-30T07:20:08.822Z"
   },
   {
    "duration": 396,
    "start_time": "2024-07-30T07:20:26.880Z"
   },
   {
    "duration": 414,
    "start_time": "2024-07-30T07:20:48.030Z"
   },
   {
    "duration": 385,
    "start_time": "2024-07-30T07:21:24.160Z"
   },
   {
    "duration": 24,
    "start_time": "2024-07-30T07:21:41.045Z"
   },
   {
    "duration": 29,
    "start_time": "2024-07-30T07:23:16.036Z"
   },
   {
    "duration": 26,
    "start_time": "2024-07-30T07:23:47.730Z"
   },
   {
    "duration": 562,
    "start_time": "2024-07-30T07:24:15.272Z"
   },
   {
    "duration": 7,
    "start_time": "2024-07-30T07:25:01.050Z"
   },
   {
    "duration": 458,
    "start_time": "2024-07-30T07:25:23.961Z"
   },
   {
    "duration": 323,
    "start_time": "2024-07-30T18:25:01.691Z"
   },
   {
    "duration": 22,
    "start_time": "2024-07-30T18:25:14.924Z"
   },
   {
    "duration": 5155,
    "start_time": "2024-07-30T18:25:25.619Z"
   },
   {
    "duration": 348,
    "start_time": "2024-07-30T18:25:30.777Z"
   },
   {
    "duration": 94,
    "start_time": "2024-07-30T18:25:31.128Z"
   },
   {
    "duration": 16,
    "start_time": "2024-07-30T18:25:31.225Z"
   },
   {
    "duration": 15,
    "start_time": "2024-07-30T18:25:31.247Z"
   },
   {
    "duration": 44,
    "start_time": "2024-07-30T18:25:31.265Z"
   },
   {
    "duration": 15,
    "start_time": "2024-07-30T18:25:31.312Z"
   },
   {
    "duration": 15,
    "start_time": "2024-07-30T18:25:31.329Z"
   },
   {
    "duration": 57,
    "start_time": "2024-07-30T18:25:31.347Z"
   },
   {
    "duration": 6,
    "start_time": "2024-07-30T18:25:31.407Z"
   },
   {
    "duration": 23,
    "start_time": "2024-07-30T18:25:31.416Z"
   },
   {
    "duration": 61,
    "start_time": "2024-07-30T18:25:31.443Z"
   },
   {
    "duration": 12,
    "start_time": "2024-07-30T18:25:31.508Z"
   },
   {
    "duration": 105,
    "start_time": "2024-07-30T18:25:31.528Z"
   },
   {
    "duration": 69,
    "start_time": "2024-07-30T18:25:31.637Z"
   },
   {
    "duration": 20,
    "start_time": "2024-07-30T18:25:31.710Z"
   },
   {
    "duration": 11,
    "start_time": "2024-07-30T18:25:31.733Z"
   },
   {
    "duration": 73,
    "start_time": "2024-07-30T18:25:31.748Z"
   },
   {
    "duration": 34,
    "start_time": "2024-07-30T18:25:31.825Z"
   },
   {
    "duration": 48,
    "start_time": "2024-07-30T18:25:31.862Z"
   },
   {
    "duration": 11,
    "start_time": "2024-07-30T18:25:31.913Z"
   },
   {
    "duration": 93,
    "start_time": "2024-07-30T18:25:31.928Z"
   },
   {
    "duration": 40,
    "start_time": "2024-07-30T18:25:32.025Z"
   },
   {
    "duration": 40,
    "start_time": "2024-07-30T18:25:32.068Z"
   },
   {
    "duration": 6,
    "start_time": "2024-07-30T18:25:32.111Z"
   },
   {
    "duration": 111,
    "start_time": "2024-07-30T18:25:32.120Z"
   },
   {
    "duration": 77,
    "start_time": "2024-07-30T18:25:32.234Z"
   },
   {
    "duration": 36,
    "start_time": "2024-07-30T18:25:32.314Z"
   },
   {
    "duration": 61,
    "start_time": "2024-07-30T18:25:32.353Z"
   },
   {
    "duration": 35,
    "start_time": "2024-07-30T18:25:32.417Z"
   },
   {
    "duration": 53,
    "start_time": "2024-07-30T18:25:32.455Z"
   },
   {
    "duration": 5,
    "start_time": "2024-07-30T18:25:32.512Z"
   },
   {
    "duration": 89,
    "start_time": "2024-07-30T18:25:32.520Z"
   },
   {
    "duration": 503,
    "start_time": "2024-07-30T18:25:32.612Z"
   },
   {
    "duration": 6,
    "start_time": "2024-07-30T18:25:33.120Z"
   },
   {
    "duration": 3,
    "start_time": "2024-07-30T18:25:33.129Z"
   },
   {
    "duration": 7,
    "start_time": "2024-07-30T18:25:33.135Z"
   },
   {
    "duration": 3,
    "start_time": "2024-07-30T18:25:33.145Z"
   },
   {
    "duration": 3,
    "start_time": "2024-07-30T18:25:33.152Z"
   },
   {
    "duration": 3,
    "start_time": "2024-07-30T18:25:33.201Z"
   },
   {
    "duration": 3,
    "start_time": "2024-07-30T18:25:33.212Z"
   },
   {
    "duration": 468,
    "start_time": "2024-07-30T18:25:44.607Z"
   },
   {
    "duration": 12,
    "start_time": "2024-07-30T18:26:18.783Z"
   },
   {
    "duration": 544,
    "start_time": "2024-07-30T18:27:01.293Z"
   },
   {
    "duration": 11,
    "start_time": "2024-07-30T18:27:04.989Z"
   },
   {
    "duration": 1360,
    "start_time": "2024-07-30T18:29:32.383Z"
   },
   {
    "duration": 380,
    "start_time": "2024-07-30T18:29:45.780Z"
   },
   {
    "duration": 308,
    "start_time": "2024-07-30T18:30:56.489Z"
   },
   {
    "duration": 387,
    "start_time": "2024-07-30T18:31:44.678Z"
   },
   {
    "duration": 377,
    "start_time": "2024-07-30T18:32:56.269Z"
   },
   {
    "duration": 9,
    "start_time": "2024-07-30T18:35:48.712Z"
   },
   {
    "duration": 348,
    "start_time": "2024-07-30T18:35:56.554Z"
   },
   {
    "duration": 344,
    "start_time": "2024-07-30T18:47:30.741Z"
   },
   {
    "duration": 78,
    "start_time": "2024-07-30T18:58:22.886Z"
   },
   {
    "duration": 54,
    "start_time": "2024-07-30T18:59:17.908Z"
   },
   {
    "duration": 4,
    "start_time": "2024-07-30T19:05:35.440Z"
   },
   {
    "duration": 1248,
    "start_time": "2024-07-30T19:05:43.279Z"
   },
   {
    "duration": 303,
    "start_time": "2024-07-30T19:05:44.532Z"
   },
   {
    "duration": 107,
    "start_time": "2024-07-30T19:05:44.838Z"
   },
   {
    "duration": 16,
    "start_time": "2024-07-30T19:05:44.949Z"
   },
   {
    "duration": 37,
    "start_time": "2024-07-30T19:05:44.968Z"
   },
   {
    "duration": 10,
    "start_time": "2024-07-30T19:05:45.008Z"
   },
   {
    "duration": 14,
    "start_time": "2024-07-30T19:05:45.022Z"
   },
   {
    "duration": 17,
    "start_time": "2024-07-30T19:05:45.039Z"
   },
   {
    "duration": 14,
    "start_time": "2024-07-30T19:05:45.104Z"
   },
   {
    "duration": 5,
    "start_time": "2024-07-30T19:05:45.125Z"
   },
   {
    "duration": 24,
    "start_time": "2024-07-30T19:05:45.134Z"
   },
   {
    "duration": 62,
    "start_time": "2024-07-30T19:05:45.161Z"
   },
   {
    "duration": 11,
    "start_time": "2024-07-30T19:05:45.227Z"
   },
   {
    "duration": 111,
    "start_time": "2024-07-30T19:05:45.241Z"
   },
   {
    "duration": 64,
    "start_time": "2024-07-30T19:05:45.355Z"
   },
   {
    "duration": 21,
    "start_time": "2024-07-30T19:05:45.422Z"
   },
   {
    "duration": 10,
    "start_time": "2024-07-30T19:05:45.446Z"
   },
   {
    "duration": 69,
    "start_time": "2024-07-30T19:05:45.460Z"
   },
   {
    "duration": 33,
    "start_time": "2024-07-30T19:05:45.532Z"
   },
   {
    "duration": 46,
    "start_time": "2024-07-30T19:05:45.568Z"
   },
   {
    "duration": 11,
    "start_time": "2024-07-30T19:05:45.617Z"
   },
   {
    "duration": 102,
    "start_time": "2024-07-30T19:05:45.632Z"
   },
   {
    "duration": 44,
    "start_time": "2024-07-30T19:05:45.738Z"
   },
   {
    "duration": 17,
    "start_time": "2024-07-30T19:05:45.802Z"
   },
   {
    "duration": 7,
    "start_time": "2024-07-30T19:05:45.822Z"
   },
   {
    "duration": 137,
    "start_time": "2024-07-30T19:05:45.832Z"
   },
   {
    "duration": 79,
    "start_time": "2024-07-30T19:05:45.973Z"
   },
   {
    "duration": 54,
    "start_time": "2024-07-30T19:05:46.062Z"
   },
   {
    "duration": 39,
    "start_time": "2024-07-30T19:05:46.121Z"
   },
   {
    "duration": 67,
    "start_time": "2024-07-30T19:05:46.163Z"
   },
   {
    "duration": 33,
    "start_time": "2024-07-30T19:05:46.233Z"
   },
   {
    "duration": 6,
    "start_time": "2024-07-30T19:05:46.269Z"
   },
   {
    "duration": 63,
    "start_time": "2024-07-30T19:05:46.303Z"
   },
   {
    "duration": 408,
    "start_time": "2024-07-30T19:05:46.369Z"
   },
   {
    "duration": 25,
    "start_time": "2024-07-30T19:05:46.781Z"
   },
   {
    "duration": 6,
    "start_time": "2024-07-30T19:05:46.809Z"
   },
   {
    "duration": 7,
    "start_time": "2024-07-30T19:05:46.819Z"
   },
   {
    "duration": 4,
    "start_time": "2024-07-30T19:05:46.829Z"
   },
   {
    "duration": 4,
    "start_time": "2024-07-30T19:05:46.837Z"
   },
   {
    "duration": 4,
    "start_time": "2024-07-30T19:05:46.845Z"
   },
   {
    "duration": 4,
    "start_time": "2024-07-30T19:05:46.903Z"
   },
   {
    "duration": 5,
    "start_time": "2024-07-30T19:05:46.911Z"
   },
   {
    "duration": 9,
    "start_time": "2024-07-30T19:09:11.681Z"
   },
   {
    "duration": 284,
    "start_time": "2024-07-30T19:09:17.175Z"
   },
   {
    "duration": 7,
    "start_time": "2024-07-30T19:09:19.776Z"
   },
   {
    "duration": 74,
    "start_time": "2024-07-30T19:09:25.473Z"
   },
   {
    "duration": 85,
    "start_time": "2024-07-30T20:35:04.719Z"
   },
   {
    "duration": 1517,
    "start_time": "2024-07-30T20:37:47.854Z"
   },
   {
    "duration": 89,
    "start_time": "2024-07-30T20:38:34.502Z"
   },
   {
    "duration": 165,
    "start_time": "2024-07-30T20:38:42.137Z"
   },
   {
    "duration": 152,
    "start_time": "2024-07-30T20:38:54.782Z"
   },
   {
    "duration": 95,
    "start_time": "2024-07-30T20:39:18.210Z"
   },
   {
    "duration": 1215,
    "start_time": "2024-07-30T20:39:34.864Z"
   },
   {
    "duration": 318,
    "start_time": "2024-07-30T20:39:36.084Z"
   },
   {
    "duration": 81,
    "start_time": "2024-07-30T20:39:36.405Z"
   },
   {
    "duration": 25,
    "start_time": "2024-07-30T20:39:36.489Z"
   },
   {
    "duration": 13,
    "start_time": "2024-07-30T20:39:36.519Z"
   },
   {
    "duration": 11,
    "start_time": "2024-07-30T20:39:36.535Z"
   },
   {
    "duration": 55,
    "start_time": "2024-07-30T20:39:36.549Z"
   },
   {
    "duration": 16,
    "start_time": "2024-07-30T20:39:36.608Z"
   },
   {
    "duration": 16,
    "start_time": "2024-07-30T20:39:36.627Z"
   },
   {
    "duration": 6,
    "start_time": "2024-07-30T20:39:36.647Z"
   },
   {
    "duration": 71,
    "start_time": "2024-07-30T20:39:36.657Z"
   },
   {
    "duration": 24,
    "start_time": "2024-07-30T20:39:36.731Z"
   },
   {
    "duration": 44,
    "start_time": "2024-07-30T20:39:36.758Z"
   },
   {
    "duration": 73,
    "start_time": "2024-07-30T20:39:36.812Z"
   },
   {
    "duration": 53,
    "start_time": "2024-07-30T20:39:36.906Z"
   },
   {
    "duration": 43,
    "start_time": "2024-07-30T20:39:36.962Z"
   },
   {
    "duration": 11,
    "start_time": "2024-07-30T20:39:37.009Z"
   },
   {
    "duration": 37,
    "start_time": "2024-07-30T20:39:37.023Z"
   },
   {
    "duration": 65,
    "start_time": "2024-07-30T20:39:37.063Z"
   },
   {
    "duration": 25,
    "start_time": "2024-07-30T20:39:37.131Z"
   },
   {
    "duration": 43,
    "start_time": "2024-07-30T20:39:37.159Z"
   },
   {
    "duration": 70,
    "start_time": "2024-07-30T20:39:37.206Z"
   },
   {
    "duration": 58,
    "start_time": "2024-07-30T20:39:37.279Z"
   },
   {
    "duration": 15,
    "start_time": "2024-07-30T20:39:37.340Z"
   },
   {
    "duration": 6,
    "start_time": "2024-07-30T20:39:37.359Z"
   },
   {
    "duration": 103,
    "start_time": "2024-07-30T20:39:37.403Z"
   },
   {
    "duration": 60,
    "start_time": "2024-07-30T20:39:37.509Z"
   },
   {
    "duration": 58,
    "start_time": "2024-07-30T20:39:37.572Z"
   },
   {
    "duration": 37,
    "start_time": "2024-07-30T20:39:37.634Z"
   },
   {
    "duration": 60,
    "start_time": "2024-07-30T20:39:37.674Z"
   },
   {
    "duration": 33,
    "start_time": "2024-07-30T20:39:37.738Z"
   },
   {
    "duration": 31,
    "start_time": "2024-07-30T20:39:37.774Z"
   },
   {
    "duration": 57,
    "start_time": "2024-07-30T20:39:37.808Z"
   },
   {
    "duration": 423,
    "start_time": "2024-07-30T20:39:37.868Z"
   },
   {
    "duration": 18,
    "start_time": "2024-07-30T20:39:38.295Z"
   },
   {
    "duration": 4,
    "start_time": "2024-07-30T20:39:38.317Z"
   },
   {
    "duration": 3,
    "start_time": "2024-07-30T20:39:38.325Z"
   },
   {
    "duration": 6,
    "start_time": "2024-07-30T20:39:38.332Z"
   },
   {
    "duration": 4,
    "start_time": "2024-07-30T20:39:38.340Z"
   },
   {
    "duration": 55,
    "start_time": "2024-07-30T20:39:38.347Z"
   },
   {
    "duration": 3,
    "start_time": "2024-07-30T20:39:38.410Z"
   },
   {
    "duration": 4,
    "start_time": "2024-07-30T20:39:38.416Z"
   },
   {
    "duration": 115,
    "start_time": "2024-07-30T20:40:58.802Z"
   },
   {
    "duration": 57,
    "start_time": "2024-07-30T20:41:03.607Z"
   },
   {
    "duration": 67,
    "start_time": "2024-07-30T20:51:47.229Z"
   },
   {
    "duration": 58,
    "start_time": "2024-07-30T20:52:38.535Z"
   },
   {
    "duration": 1611,
    "start_time": "2024-07-30T22:08:23.622Z"
   },
   {
    "duration": 6,
    "start_time": "2024-07-30T22:08:59.754Z"
   },
   {
    "duration": 59,
    "start_time": "2024-07-30T22:09:02.392Z"
   },
   {
    "duration": 268,
    "start_time": "2024-07-30T22:09:06.560Z"
   },
   {
    "duration": 16,
    "start_time": "2024-07-30T22:09:28.165Z"
   },
   {
    "duration": 12,
    "start_time": "2024-07-30T22:09:54.857Z"
   },
   {
    "duration": 12,
    "start_time": "2024-07-30T22:10:05.494Z"
   },
   {
    "duration": 15,
    "start_time": "2024-07-30T22:10:23.702Z"
   },
   {
    "duration": 13,
    "start_time": "2024-07-30T22:10:39.255Z"
   },
   {
    "duration": 20,
    "start_time": "2024-07-30T22:19:46.750Z"
   },
   {
    "duration": 16,
    "start_time": "2024-07-30T22:19:53.542Z"
   },
   {
    "duration": 341,
    "start_time": "2024-07-30T22:25:02.973Z"
   },
   {
    "duration": 253,
    "start_time": "2024-07-30T22:25:15.440Z"
   },
   {
    "duration": 37,
    "start_time": "2024-07-30T22:25:47.324Z"
   },
   {
    "duration": 491,
    "start_time": "2024-07-30T22:26:41.328Z"
   },
   {
    "duration": 25,
    "start_time": "2024-07-30T22:27:46.824Z"
   },
   {
    "duration": 16,
    "start_time": "2024-07-30T22:28:16.932Z"
   },
   {
    "duration": 367,
    "start_time": "2024-07-30T22:28:28.034Z"
   },
   {
    "duration": 15,
    "start_time": "2024-07-30T22:33:03.319Z"
   },
   {
    "duration": 323,
    "start_time": "2024-07-30T22:33:06.799Z"
   },
   {
    "duration": 35,
    "start_time": "2024-07-30T22:56:28.388Z"
   },
   {
    "duration": 36,
    "start_time": "2024-07-30T22:56:59.661Z"
   },
   {
    "duration": 257,
    "start_time": "2024-07-30T22:57:21.749Z"
   },
   {
    "duration": 442,
    "start_time": "2024-07-30T22:57:46.000Z"
   },
   {
    "duration": 6,
    "start_time": "2024-07-30T23:13:27.230Z"
   },
   {
    "duration": 31,
    "start_time": "2024-07-30T23:13:38.649Z"
   },
   {
    "duration": 15,
    "start_time": "2024-07-30T23:14:07.585Z"
   },
   {
    "duration": 12,
    "start_time": "2024-07-30T23:16:53.335Z"
   },
   {
    "duration": 12,
    "start_time": "2024-07-30T23:17:31.061Z"
   },
   {
    "duration": 16,
    "start_time": "2024-07-30T23:18:25.774Z"
   },
   {
    "duration": 18,
    "start_time": "2024-07-30T23:19:20.458Z"
   },
   {
    "duration": 19,
    "start_time": "2024-07-30T23:20:00.875Z"
   },
   {
    "duration": 19,
    "start_time": "2024-07-30T23:20:14.908Z"
   },
   {
    "duration": 26,
    "start_time": "2024-07-30T23:21:45.539Z"
   },
   {
    "duration": 18,
    "start_time": "2024-07-30T23:24:06.870Z"
   },
   {
    "duration": 31,
    "start_time": "2024-07-30T23:24:57.493Z"
   },
   {
    "duration": 26,
    "start_time": "2024-07-30T23:26:21.821Z"
   },
   {
    "duration": 19,
    "start_time": "2024-07-30T23:26:43.403Z"
   },
   {
    "duration": 15,
    "start_time": "2024-07-30T23:39:51.403Z"
   },
   {
    "duration": 16,
    "start_time": "2024-07-30T23:43:46.161Z"
   },
   {
    "duration": 16,
    "start_time": "2024-07-30T23:44:27.263Z"
   },
   {
    "duration": 16,
    "start_time": "2024-07-30T23:46:46.349Z"
   },
   {
    "duration": 18,
    "start_time": "2024-07-30T23:46:56.050Z"
   },
   {
    "duration": 9788,
    "start_time": "2024-07-30T23:47:05.880Z"
   },
   {
    "duration": 9754,
    "start_time": "2024-07-30T23:47:20.699Z"
   },
   {
    "duration": 326,
    "start_time": "2024-07-30T23:48:58.208Z"
   },
   {
    "duration": 15,
    "start_time": "2024-07-30T23:50:54.106Z"
   },
   {
    "duration": 319,
    "start_time": "2024-07-30T23:51:30.585Z"
   },
   {
    "duration": 345,
    "start_time": "2024-07-30T23:51:43.362Z"
   },
   {
    "duration": 622,
    "start_time": "2024-07-30T23:53:54.390Z"
   },
   {
    "duration": 14,
    "start_time": "2024-07-30T23:54:45.170Z"
   },
   {
    "duration": 19,
    "start_time": "2024-07-30T23:55:15.387Z"
   },
   {
    "duration": 353,
    "start_time": "2024-07-30T23:58:14.385Z"
   },
   {
    "duration": 389,
    "start_time": "2024-07-30T23:58:32.882Z"
   },
   {
    "duration": 383,
    "start_time": "2024-07-30T23:59:06.477Z"
   },
   {
    "duration": 367,
    "start_time": "2024-07-30T23:59:21.321Z"
   },
   {
    "duration": 53,
    "start_time": "2024-07-31T00:21:16.844Z"
   },
   {
    "duration": 16,
    "start_time": "2024-07-31T00:21:32.368Z"
   },
   {
    "duration": 27,
    "start_time": "2024-07-31T00:21:46.800Z"
   },
   {
    "duration": 34,
    "start_time": "2024-07-31T00:23:06.347Z"
   },
   {
    "duration": 102,
    "start_time": "2024-07-31T00:25:07.815Z"
   },
   {
    "duration": 25,
    "start_time": "2024-07-31T00:25:54.245Z"
   },
   {
    "duration": 99,
    "start_time": "2024-07-31T00:27:02.551Z"
   },
   {
    "duration": 48,
    "start_time": "2024-07-31T00:27:15.764Z"
   },
   {
    "duration": 46,
    "start_time": "2024-07-31T00:27:21.330Z"
   },
   {
    "duration": 98,
    "start_time": "2024-07-31T00:28:46.795Z"
   },
   {
    "duration": 25,
    "start_time": "2024-07-31T00:29:03.230Z"
   },
   {
    "duration": 43,
    "start_time": "2024-07-31T00:30:25.901Z"
   },
   {
    "duration": 52,
    "start_time": "2024-07-31T00:30:37.995Z"
   },
   {
    "duration": 35,
    "start_time": "2024-07-31T00:31:31.508Z"
   },
   {
    "duration": 13,
    "start_time": "2024-07-31T00:32:03.391Z"
   },
   {
    "duration": 11,
    "start_time": "2024-07-31T00:33:06.281Z"
   },
   {
    "duration": 13,
    "start_time": "2024-07-31T00:34:17.093Z"
   },
   {
    "duration": 9,
    "start_time": "2024-07-31T00:47:18.719Z"
   },
   {
    "duration": 7,
    "start_time": "2024-07-31T00:55:50.031Z"
   },
   {
    "duration": 36,
    "start_time": "2024-07-31T00:55:54.354Z"
   },
   {
    "duration": 6,
    "start_time": "2024-07-31T00:56:42.077Z"
   },
   {
    "duration": 32,
    "start_time": "2024-07-31T01:01:09.647Z"
   },
   {
    "duration": 1271,
    "start_time": "2024-07-31T01:01:37.301Z"
   },
   {
    "duration": 314,
    "start_time": "2024-07-31T01:01:38.579Z"
   },
   {
    "duration": 20,
    "start_time": "2024-07-31T01:01:38.895Z"
   },
   {
    "duration": 20,
    "start_time": "2024-07-31T01:01:38.918Z"
   },
   {
    "duration": 10,
    "start_time": "2024-07-31T01:01:38.943Z"
   },
   {
    "duration": 53,
    "start_time": "2024-07-31T01:01:38.958Z"
   },
   {
    "duration": 16,
    "start_time": "2024-07-31T01:01:39.014Z"
   },
   {
    "duration": 17,
    "start_time": "2024-07-31T01:01:39.034Z"
   },
   {
    "duration": 5,
    "start_time": "2024-07-31T01:01:39.055Z"
   },
   {
    "duration": 26,
    "start_time": "2024-07-31T01:01:39.103Z"
   },
   {
    "duration": 36,
    "start_time": "2024-07-31T01:01:39.133Z"
   },
   {
    "duration": 38,
    "start_time": "2024-07-31T01:01:39.172Z"
   },
   {
    "duration": 114,
    "start_time": "2024-07-31T01:01:39.213Z"
   },
   {
    "duration": 73,
    "start_time": "2024-07-31T01:01:39.335Z"
   },
   {
    "duration": 23,
    "start_time": "2024-07-31T01:01:39.411Z"
   },
   {
    "duration": 12,
    "start_time": "2024-07-31T01:01:39.438Z"
   },
   {
    "duration": 80,
    "start_time": "2024-07-31T01:01:39.453Z"
   },
   {
    "duration": 39,
    "start_time": "2024-07-31T01:01:39.537Z"
   },
   {
    "duration": 55,
    "start_time": "2024-07-31T01:01:39.580Z"
   },
   {
    "duration": 13,
    "start_time": "2024-07-31T01:01:39.642Z"
   },
   {
    "duration": 88,
    "start_time": "2024-07-31T01:01:39.658Z"
   },
   {
    "duration": 53,
    "start_time": "2024-07-31T01:01:39.750Z"
   },
   {
    "duration": 16,
    "start_time": "2024-07-31T01:01:39.806Z"
   },
   {
    "duration": 5,
    "start_time": "2024-07-31T01:01:39.825Z"
   },
   {
    "duration": 121,
    "start_time": "2024-07-31T01:01:39.833Z"
   },
   {
    "duration": 77,
    "start_time": "2024-07-31T01:01:39.957Z"
   },
   {
    "duration": 43,
    "start_time": "2024-07-31T01:01:40.038Z"
   },
   {
    "duration": 38,
    "start_time": "2024-07-31T01:01:40.101Z"
   },
   {
    "duration": 35,
    "start_time": "2024-07-31T01:01:40.142Z"
   },
   {
    "duration": 34,
    "start_time": "2024-07-31T01:01:40.202Z"
   },
   {
    "duration": 7,
    "start_time": "2024-07-31T01:01:40.240Z"
   },
   {
    "duration": 91,
    "start_time": "2024-07-31T01:01:40.251Z"
   },
   {
    "duration": 18,
    "start_time": "2024-07-31T01:01:40.346Z"
   },
   {
    "duration": 414,
    "start_time": "2024-07-31T01:01:40.367Z"
   },
   {
    "duration": 28,
    "start_time": "2024-07-31T01:01:40.784Z"
   },
   {
    "duration": 333,
    "start_time": "2024-07-31T01:01:40.818Z"
   },
   {
    "duration": 20,
    "start_time": "2024-07-31T01:01:41.155Z"
   },
   {
    "duration": 481,
    "start_time": "2024-07-31T01:01:41.179Z"
   },
   {
    "duration": 16,
    "start_time": "2024-07-31T01:01:41.664Z"
   },
   {
    "duration": 355,
    "start_time": "2024-07-31T01:01:41.701Z"
   },
   {
    "duration": 372,
    "start_time": "2024-07-31T01:01:42.065Z"
   },
   {
    "duration": 16,
    "start_time": "2024-07-31T01:01:42.440Z"
   },
   {
    "duration": 397,
    "start_time": "2024-07-31T01:01:42.460Z"
   },
   {
    "duration": 396,
    "start_time": "2024-07-31T01:01:42.859Z"
   },
   {
    "duration": 64,
    "start_time": "2024-07-31T01:01:43.259Z"
   },
   {
    "duration": 111,
    "start_time": "2024-07-31T01:01:43.326Z"
   },
   {
    "duration": 111,
    "start_time": "2024-07-31T01:01:43.440Z"
   },
   {
    "duration": 50,
    "start_time": "2024-07-31T01:01:43.554Z"
   },
   {
    "duration": 16,
    "start_time": "2024-07-31T01:01:43.607Z"
   },
   {
    "duration": 476,
    "start_time": "2024-07-31T01:01:43.627Z"
   },
   {
    "duration": 0,
    "start_time": "2024-07-31T01:01:44.107Z"
   },
   {
    "duration": 0,
    "start_time": "2024-07-31T01:01:44.108Z"
   },
   {
    "duration": 31,
    "start_time": "2024-07-31T01:03:39.320Z"
   },
   {
    "duration": 34,
    "start_time": "2024-07-31T01:04:40.920Z"
   },
   {
    "duration": 117,
    "start_time": "2024-07-31T01:05:41.028Z"
   },
   {
    "duration": 18,
    "start_time": "2024-07-31T01:06:36.995Z"
   },
   {
    "duration": 42,
    "start_time": "2024-07-31T01:06:45.906Z"
   },
   {
    "duration": 32,
    "start_time": "2024-07-31T01:07:37.849Z"
   },
   {
    "duration": 34,
    "start_time": "2024-07-31T01:09:38.565Z"
   },
   {
    "duration": 11,
    "start_time": "2024-07-31T01:09:57.980Z"
   },
   {
    "duration": 8,
    "start_time": "2024-07-31T01:10:08.889Z"
   },
   {
    "duration": 8,
    "start_time": "2024-07-31T01:11:05.285Z"
   },
   {
    "duration": 6,
    "start_time": "2024-07-31T01:11:37.780Z"
   },
   {
    "duration": 605,
    "start_time": "2024-07-31T01:17:11.006Z"
   },
   {
    "duration": 64,
    "start_time": "2024-07-31T01:18:11.189Z"
   },
   {
    "duration": 66,
    "start_time": "2024-07-31T01:18:46.358Z"
   },
   {
    "duration": 26,
    "start_time": "2024-07-31T01:19:10.260Z"
   },
   {
    "duration": 50,
    "start_time": "2024-07-31T01:19:28.898Z"
   },
   {
    "duration": 16,
    "start_time": "2024-07-31T01:25:58.450Z"
   },
   {
    "duration": 6,
    "start_time": "2024-07-31T01:27:36.683Z"
   },
   {
    "duration": 11,
    "start_time": "2024-07-31T22:19:23.414Z"
   },
   {
    "duration": 9,
    "start_time": "2024-07-31T22:19:58.872Z"
   },
   {
    "duration": 5,
    "start_time": "2024-07-31T22:25:25.276Z"
   },
   {
    "duration": 8,
    "start_time": "2024-07-31T22:31:20.160Z"
   },
   {
    "duration": 311,
    "start_time": "2024-08-01T01:29:50.277Z"
   },
   {
    "duration": 4818,
    "start_time": "2024-08-01T01:30:02.001Z"
   },
   {
    "duration": 386,
    "start_time": "2024-08-01T01:30:06.824Z"
   },
   {
    "duration": 17,
    "start_time": "2024-08-01T01:30:07.213Z"
   },
   {
    "duration": 16,
    "start_time": "2024-08-01T01:30:07.233Z"
   },
   {
    "duration": 9,
    "start_time": "2024-08-01T01:30:07.254Z"
   },
   {
    "duration": 54,
    "start_time": "2024-08-01T01:30:07.266Z"
   },
   {
    "duration": 15,
    "start_time": "2024-08-01T01:30:07.323Z"
   },
   {
    "duration": 13,
    "start_time": "2024-08-01T01:30:07.341Z"
   },
   {
    "duration": 5,
    "start_time": "2024-08-01T01:30:07.358Z"
   },
   {
    "duration": 63,
    "start_time": "2024-08-01T01:30:07.366Z"
   },
   {
    "duration": 26,
    "start_time": "2024-08-01T01:30:07.432Z"
   },
   {
    "duration": 11,
    "start_time": "2024-08-01T01:30:07.461Z"
   },
   {
    "duration": 110,
    "start_time": "2024-08-01T01:30:07.475Z"
   },
   {
    "duration": 61,
    "start_time": "2024-08-01T01:30:07.593Z"
   },
   {
    "duration": 21,
    "start_time": "2024-08-01T01:30:07.657Z"
   },
   {
    "duration": 35,
    "start_time": "2024-08-01T01:30:07.681Z"
   },
   {
    "duration": 40,
    "start_time": "2024-08-01T01:30:07.719Z"
   },
   {
    "duration": 62,
    "start_time": "2024-08-01T01:30:07.761Z"
   },
   {
    "duration": 23,
    "start_time": "2024-08-01T01:30:07.826Z"
   },
   {
    "duration": 11,
    "start_time": "2024-08-01T01:30:07.853Z"
   },
   {
    "duration": 94,
    "start_time": "2024-08-01T01:30:07.866Z"
   },
   {
    "duration": 61,
    "start_time": "2024-08-01T01:30:07.963Z"
   },
   {
    "duration": 15,
    "start_time": "2024-08-01T01:30:08.027Z"
   },
   {
    "duration": 5,
    "start_time": "2024-08-01T01:30:08.045Z"
   },
   {
    "duration": 121,
    "start_time": "2024-08-01T01:30:08.054Z"
   },
   {
    "duration": 70,
    "start_time": "2024-08-01T01:30:08.179Z"
   },
   {
    "duration": 34,
    "start_time": "2024-08-01T01:30:08.252Z"
   },
   {
    "duration": 58,
    "start_time": "2024-08-01T01:30:08.288Z"
   },
   {
    "duration": 32,
    "start_time": "2024-08-01T01:30:08.349Z"
   },
   {
    "duration": 56,
    "start_time": "2024-08-01T01:30:08.384Z"
   },
   {
    "duration": 5,
    "start_time": "2024-08-01T01:30:08.443Z"
   },
   {
    "duration": 84,
    "start_time": "2024-08-01T01:30:08.451Z"
   },
   {
    "duration": 17,
    "start_time": "2024-08-01T01:30:08.538Z"
   },
   {
    "duration": 380,
    "start_time": "2024-08-01T01:30:08.557Z"
   },
   {
    "duration": 16,
    "start_time": "2024-08-01T01:30:08.940Z"
   },
   {
    "duration": 342,
    "start_time": "2024-08-01T01:30:08.959Z"
   },
   {
    "duration": 22,
    "start_time": "2024-08-01T01:30:09.304Z"
   },
   {
    "duration": 461,
    "start_time": "2024-08-01T01:30:09.329Z"
   },
   {
    "duration": 28,
    "start_time": "2024-08-01T01:30:09.793Z"
   },
   {
    "duration": 347,
    "start_time": "2024-08-01T01:30:09.824Z"
   },
   {
    "duration": 374,
    "start_time": "2024-08-01T01:30:10.180Z"
   },
   {
    "duration": 16,
    "start_time": "2024-08-01T01:30:10.558Z"
   },
   {
    "duration": 387,
    "start_time": "2024-08-01T01:30:10.577Z"
   },
   {
    "duration": 379,
    "start_time": "2024-08-01T01:30:10.967Z"
   },
   {
    "duration": 65,
    "start_time": "2024-08-01T01:30:11.349Z"
   },
   {
    "duration": 105,
    "start_time": "2024-08-01T01:30:11.418Z"
   },
   {
    "duration": 104,
    "start_time": "2024-08-01T01:30:11.528Z"
   },
   {
    "duration": 38,
    "start_time": "2024-08-01T01:30:11.635Z"
   },
   {
    "duration": 13,
    "start_time": "2024-08-01T01:30:11.676Z"
   },
   {
    "duration": 12,
    "start_time": "2024-08-01T01:30:11.714Z"
   },
   {
    "duration": 5,
    "start_time": "2024-08-01T01:30:11.729Z"
   },
   {
    "duration": 15,
    "start_time": "2024-08-01T01:30:11.737Z"
   },
   {
    "duration": 5,
    "start_time": "2024-08-01T01:30:11.755Z"
   },
   {
    "duration": 14,
    "start_time": "2024-08-01T01:31:33.716Z"
   },
   {
    "duration": 0,
    "start_time": "2024-08-01T01:31:33.733Z"
   },
   {
    "duration": 0,
    "start_time": "2024-08-01T01:31:33.735Z"
   },
   {
    "duration": 0,
    "start_time": "2024-08-01T01:31:33.738Z"
   },
   {
    "duration": 0,
    "start_time": "2024-08-01T01:31:33.740Z"
   },
   {
    "duration": 410,
    "start_time": "2024-08-01T01:31:33.748Z"
   },
   {
    "duration": 0,
    "start_time": "2024-08-01T01:31:34.165Z"
   },
   {
    "duration": 0,
    "start_time": "2024-08-01T01:31:34.167Z"
   },
   {
    "duration": 0,
    "start_time": "2024-08-01T01:31:34.169Z"
   },
   {
    "duration": 0,
    "start_time": "2024-08-01T01:31:34.172Z"
   },
   {
    "duration": 0,
    "start_time": "2024-08-01T01:31:34.174Z"
   },
   {
    "duration": 0,
    "start_time": "2024-08-01T01:31:34.175Z"
   },
   {
    "duration": 0,
    "start_time": "2024-08-01T01:31:34.177Z"
   },
   {
    "duration": 0,
    "start_time": "2024-08-01T01:31:34.178Z"
   },
   {
    "duration": 0,
    "start_time": "2024-08-01T01:31:34.182Z"
   },
   {
    "duration": 0,
    "start_time": "2024-08-01T01:31:34.184Z"
   },
   {
    "duration": 0,
    "start_time": "2024-08-01T01:31:34.214Z"
   },
   {
    "duration": 0,
    "start_time": "2024-08-01T01:31:34.217Z"
   },
   {
    "duration": 0,
    "start_time": "2024-08-01T01:31:34.218Z"
   },
   {
    "duration": 0,
    "start_time": "2024-08-01T01:31:34.221Z"
   },
   {
    "duration": 0,
    "start_time": "2024-08-01T01:31:34.224Z"
   },
   {
    "duration": 0,
    "start_time": "2024-08-01T01:31:34.226Z"
   },
   {
    "duration": 0,
    "start_time": "2024-08-01T01:31:34.229Z"
   },
   {
    "duration": 0,
    "start_time": "2024-08-01T01:31:34.232Z"
   },
   {
    "duration": 0,
    "start_time": "2024-08-01T01:31:34.234Z"
   },
   {
    "duration": 0,
    "start_time": "2024-08-01T01:31:34.237Z"
   },
   {
    "duration": 0,
    "start_time": "2024-08-01T01:31:34.238Z"
   },
   {
    "duration": 0,
    "start_time": "2024-08-01T01:31:34.240Z"
   },
   {
    "duration": 0,
    "start_time": "2024-08-01T01:31:34.243Z"
   },
   {
    "duration": 0,
    "start_time": "2024-08-01T01:31:34.246Z"
   },
   {
    "duration": 0,
    "start_time": "2024-08-01T01:31:34.248Z"
   },
   {
    "duration": 0,
    "start_time": "2024-08-01T01:31:34.250Z"
   },
   {
    "duration": 0,
    "start_time": "2024-08-01T01:31:34.252Z"
   },
   {
    "duration": 0,
    "start_time": "2024-08-01T01:31:34.253Z"
   },
   {
    "duration": 0,
    "start_time": "2024-08-01T01:31:34.255Z"
   },
   {
    "duration": 0,
    "start_time": "2024-08-01T01:31:34.313Z"
   },
   {
    "duration": 0,
    "start_time": "2024-08-01T01:31:34.316Z"
   },
   {
    "duration": 0,
    "start_time": "2024-08-01T01:31:34.318Z"
   },
   {
    "duration": 0,
    "start_time": "2024-08-01T01:31:34.321Z"
   },
   {
    "duration": 0,
    "start_time": "2024-08-01T01:31:34.324Z"
   },
   {
    "duration": 0,
    "start_time": "2024-08-01T01:31:34.326Z"
   },
   {
    "duration": 0,
    "start_time": "2024-08-01T01:31:34.329Z"
   },
   {
    "duration": 0,
    "start_time": "2024-08-01T01:31:34.331Z"
   },
   {
    "duration": 0,
    "start_time": "2024-08-01T01:31:34.333Z"
   },
   {
    "duration": 0,
    "start_time": "2024-08-01T01:31:34.336Z"
   },
   {
    "duration": 0,
    "start_time": "2024-08-01T01:31:34.338Z"
   },
   {
    "duration": 0,
    "start_time": "2024-08-01T01:31:34.341Z"
   },
   {
    "duration": 0,
    "start_time": "2024-08-01T01:31:34.344Z"
   },
   {
    "duration": 0,
    "start_time": "2024-08-01T01:31:34.346Z"
   },
   {
    "duration": 0,
    "start_time": "2024-08-01T01:31:34.349Z"
   },
   {
    "duration": 0,
    "start_time": "2024-08-01T01:31:34.351Z"
   },
   {
    "duration": 0,
    "start_time": "2024-08-01T01:31:34.414Z"
   },
   {
    "duration": 0,
    "start_time": "2024-08-01T01:31:34.417Z"
   },
   {
    "duration": 0,
    "start_time": "2024-08-01T01:31:34.420Z"
   },
   {
    "duration": 1174,
    "start_time": "2024-08-01T01:32:14.212Z"
   },
   {
    "duration": 262,
    "start_time": "2024-08-01T01:32:17.396Z"
   },
   {
    "duration": 15,
    "start_time": "2024-08-01T01:32:20.624Z"
   },
   {
    "duration": 17,
    "start_time": "2024-08-01T01:32:23.921Z"
   },
   {
    "duration": 10,
    "start_time": "2024-08-01T01:33:29.854Z"
   },
   {
    "duration": 8,
    "start_time": "2024-08-01T01:34:00.015Z"
   },
   {
    "duration": 7,
    "start_time": "2024-08-01T01:34:02.529Z"
   },
   {
    "duration": 13,
    "start_time": "2024-08-01T01:34:46.584Z"
   },
   {
    "duration": 10,
    "start_time": "2024-08-01T01:37:31.779Z"
   },
   {
    "duration": 15,
    "start_time": "2024-08-01T01:42:05.473Z"
   },
   {
    "duration": 20,
    "start_time": "2024-08-01T01:42:18.620Z"
   },
   {
    "duration": 7,
    "start_time": "2024-08-01T01:42:25.266Z"
   },
   {
    "duration": 17,
    "start_time": "2024-08-01T01:42:47.283Z"
   },
   {
    "duration": 14,
    "start_time": "2024-08-01T01:42:57.212Z"
   },
   {
    "duration": 108,
    "start_time": "2024-08-01T01:47:36.253Z"
   },
   {
    "duration": 21,
    "start_time": "2024-08-01T01:54:41.893Z"
   },
   {
    "duration": 316,
    "start_time": "2024-08-03T01:24:41.077Z"
   },
   {
    "duration": 4867,
    "start_time": "2024-08-03T01:24:48.587Z"
   },
   {
    "duration": 378,
    "start_time": "2024-08-03T01:24:53.459Z"
   },
   {
    "duration": 17,
    "start_time": "2024-08-03T01:24:53.841Z"
   },
   {
    "duration": 18,
    "start_time": "2024-08-03T01:24:53.863Z"
   },
   {
    "duration": 8,
    "start_time": "2024-08-03T01:24:53.903Z"
   },
   {
    "duration": 12,
    "start_time": "2024-08-03T01:24:53.914Z"
   },
   {
    "duration": 15,
    "start_time": "2024-08-03T01:24:53.929Z"
   },
   {
    "duration": 57,
    "start_time": "2024-08-03T01:24:53.947Z"
   },
   {
    "duration": 14,
    "start_time": "2024-08-03T01:24:54.008Z"
   },
   {
    "duration": 14,
    "start_time": "2024-08-03T01:24:54.029Z"
   },
   {
    "duration": 59,
    "start_time": "2024-08-03T01:24:54.047Z"
   },
   {
    "duration": 7,
    "start_time": "2024-08-03T01:24:54.109Z"
   },
   {
    "duration": 20,
    "start_time": "2024-08-03T01:24:54.120Z"
   },
   {
    "duration": 5,
    "start_time": "2024-08-03T01:24:54.143Z"
   },
   {
    "duration": 64,
    "start_time": "2024-08-03T01:24:54.151Z"
   },
   {
    "duration": 26,
    "start_time": "2024-08-03T01:24:54.217Z"
   },
   {
    "duration": 12,
    "start_time": "2024-08-03T01:24:54.246Z"
   },
   {
    "duration": 41,
    "start_time": "2024-08-03T01:24:54.263Z"
   },
   {
    "duration": 0,
    "start_time": "2024-08-03T01:24:54.310Z"
   },
   {
    "duration": 0,
    "start_time": "2024-08-03T01:24:54.313Z"
   },
   {
    "duration": 0,
    "start_time": "2024-08-03T01:24:54.315Z"
   },
   {
    "duration": 0,
    "start_time": "2024-08-03T01:24:54.318Z"
   },
   {
    "duration": 0,
    "start_time": "2024-08-03T01:24:54.321Z"
   },
   {
    "duration": 0,
    "start_time": "2024-08-03T01:24:54.323Z"
   },
   {
    "duration": 0,
    "start_time": "2024-08-03T01:24:54.327Z"
   },
   {
    "duration": 0,
    "start_time": "2024-08-03T01:24:54.330Z"
   },
   {
    "duration": 0,
    "start_time": "2024-08-03T01:24:54.332Z"
   },
   {
    "duration": 0,
    "start_time": "2024-08-03T01:24:54.335Z"
   },
   {
    "duration": 0,
    "start_time": "2024-08-03T01:24:54.338Z"
   },
   {
    "duration": 0,
    "start_time": "2024-08-03T01:24:54.341Z"
   },
   {
    "duration": 0,
    "start_time": "2024-08-03T01:24:54.344Z"
   },
   {
    "duration": 0,
    "start_time": "2024-08-03T01:24:54.402Z"
   },
   {
    "duration": 0,
    "start_time": "2024-08-03T01:24:54.404Z"
   },
   {
    "duration": 0,
    "start_time": "2024-08-03T01:24:54.406Z"
   },
   {
    "duration": 0,
    "start_time": "2024-08-03T01:24:54.408Z"
   },
   {
    "duration": 0,
    "start_time": "2024-08-03T01:24:54.410Z"
   },
   {
    "duration": 0,
    "start_time": "2024-08-03T01:24:54.412Z"
   },
   {
    "duration": 0,
    "start_time": "2024-08-03T01:24:54.415Z"
   },
   {
    "duration": 0,
    "start_time": "2024-08-03T01:24:54.417Z"
   },
   {
    "duration": 0,
    "start_time": "2024-08-03T01:24:54.420Z"
   },
   {
    "duration": 0,
    "start_time": "2024-08-03T01:24:54.423Z"
   },
   {
    "duration": 0,
    "start_time": "2024-08-03T01:24:54.425Z"
   },
   {
    "duration": 0,
    "start_time": "2024-08-03T01:24:54.427Z"
   },
   {
    "duration": 0,
    "start_time": "2024-08-03T01:24:54.430Z"
   },
   {
    "duration": 0,
    "start_time": "2024-08-03T01:24:54.433Z"
   },
   {
    "duration": 0,
    "start_time": "2024-08-03T01:24:54.435Z"
   },
   {
    "duration": 0,
    "start_time": "2024-08-03T01:24:54.437Z"
   },
   {
    "duration": 0,
    "start_time": "2024-08-03T01:24:54.440Z"
   },
   {
    "duration": 0,
    "start_time": "2024-08-03T01:24:54.503Z"
   },
   {
    "duration": 0,
    "start_time": "2024-08-03T01:24:54.506Z"
   },
   {
    "duration": 0,
    "start_time": "2024-08-03T01:24:54.510Z"
   },
   {
    "duration": 0,
    "start_time": "2024-08-03T01:24:54.516Z"
   },
   {
    "duration": 0,
    "start_time": "2024-08-03T01:24:54.518Z"
   },
   {
    "duration": 0,
    "start_time": "2024-08-03T01:24:54.520Z"
   },
   {
    "duration": 0,
    "start_time": "2024-08-03T01:24:54.522Z"
   },
   {
    "duration": 0,
    "start_time": "2024-08-03T01:24:54.525Z"
   },
   {
    "duration": 0,
    "start_time": "2024-08-03T01:24:54.527Z"
   },
   {
    "duration": 0,
    "start_time": "2024-08-03T01:24:54.530Z"
   },
   {
    "duration": 0,
    "start_time": "2024-08-03T01:24:54.532Z"
   },
   {
    "duration": 8,
    "start_time": "2024-08-03T01:55:01.308Z"
   },
   {
    "duration": 30,
    "start_time": "2024-08-03T01:56:23.205Z"
   },
   {
    "duration": 54,
    "start_time": "2024-08-03T02:08:19.604Z"
   },
   {
    "duration": 20,
    "start_time": "2024-08-03T02:14:35.298Z"
   },
   {
    "duration": 10,
    "start_time": "2024-08-03T02:14:39.568Z"
   },
   {
    "duration": 39,
    "start_time": "2024-08-03T02:16:26.069Z"
   },
   {
    "duration": 33,
    "start_time": "2024-08-03T02:17:04.067Z"
   },
   {
    "duration": 28,
    "start_time": "2024-08-03T02:17:24.892Z"
   },
   {
    "duration": 23,
    "start_time": "2024-08-03T02:21:34.050Z"
   },
   {
    "duration": 12,
    "start_time": "2024-08-03T02:21:37.284Z"
   },
   {
    "duration": 67,
    "start_time": "2024-08-03T02:22:04.027Z"
   },
   {
    "duration": 42,
    "start_time": "2024-08-03T02:31:44.667Z"
   },
   {
    "duration": 14,
    "start_time": "2024-08-03T02:31:47.842Z"
   },
   {
    "duration": 264,
    "start_time": "2024-08-03T02:32:19.963Z"
   },
   {
    "duration": 469,
    "start_time": "2024-08-03T02:39:44.424Z"
   },
   {
    "duration": 1250,
    "start_time": "2024-08-03T02:39:53.330Z"
   },
   {
    "duration": 283,
    "start_time": "2024-08-03T02:39:54.584Z"
   },
   {
    "duration": 16,
    "start_time": "2024-08-03T02:39:54.869Z"
   },
   {
    "duration": 26,
    "start_time": "2024-08-03T02:39:54.890Z"
   },
   {
    "duration": 6,
    "start_time": "2024-08-03T02:39:54.920Z"
   },
   {
    "duration": 6,
    "start_time": "2024-08-03T02:39:54.930Z"
   },
   {
    "duration": 14,
    "start_time": "2024-08-03T02:39:54.940Z"
   },
   {
    "duration": 17,
    "start_time": "2024-08-03T02:39:55.002Z"
   },
   {
    "duration": 16,
    "start_time": "2024-08-03T02:39:55.022Z"
   },
   {
    "duration": 13,
    "start_time": "2024-08-03T02:39:55.044Z"
   },
   {
    "duration": 59,
    "start_time": "2024-08-03T02:39:55.061Z"
   },
   {
    "duration": 7,
    "start_time": "2024-08-03T02:39:55.122Z"
   },
   {
    "duration": 5,
    "start_time": "2024-08-03T02:39:55.133Z"
   },
   {
    "duration": 64,
    "start_time": "2024-08-03T02:39:55.141Z"
   },
   {
    "duration": 25,
    "start_time": "2024-08-03T02:39:55.209Z"
   },
   {
    "duration": 11,
    "start_time": "2024-08-03T02:39:55.238Z"
   },
   {
    "duration": 64,
    "start_time": "2024-08-03T02:39:55.253Z"
   },
   {
    "duration": 52,
    "start_time": "2024-08-03T02:39:55.321Z"
   },
   {
    "duration": 71,
    "start_time": "2024-08-03T02:39:55.376Z"
   },
   {
    "duration": 20,
    "start_time": "2024-08-03T02:39:55.450Z"
   },
   {
    "duration": 37,
    "start_time": "2024-08-03T02:39:55.473Z"
   },
   {
    "duration": 40,
    "start_time": "2024-08-03T02:39:55.514Z"
   },
   {
    "duration": 71,
    "start_time": "2024-08-03T02:39:55.558Z"
   },
   {
    "duration": 24,
    "start_time": "2024-08-03T02:39:55.632Z"
   },
   {
    "duration": 12,
    "start_time": "2024-08-03T02:39:55.660Z"
   },
   {
    "duration": 28,
    "start_time": "2024-08-03T02:39:55.703Z"
   },
   {
    "duration": 96,
    "start_time": "2024-08-03T02:39:55.734Z"
   },
   {
    "duration": 40,
    "start_time": "2024-08-03T02:39:55.839Z"
   },
   {
    "duration": 33,
    "start_time": "2024-08-03T02:39:55.882Z"
   },
   {
    "duration": 7,
    "start_time": "2024-08-03T02:39:55.918Z"
   },
   {
    "duration": 300,
    "start_time": "2024-08-03T02:39:55.929Z"
   },
   {
    "duration": 81,
    "start_time": "2024-08-03T02:39:56.232Z"
   },
   {
    "duration": 44,
    "start_time": "2024-08-03T02:39:56.316Z"
   },
   {
    "duration": 65,
    "start_time": "2024-08-03T02:39:56.363Z"
   },
   {
    "duration": 35,
    "start_time": "2024-08-03T02:39:56.431Z"
   },
   {
    "duration": 54,
    "start_time": "2024-08-03T02:39:56.470Z"
   },
   {
    "duration": 6,
    "start_time": "2024-08-03T02:39:56.527Z"
   },
   {
    "duration": 95,
    "start_time": "2024-08-03T02:39:56.537Z"
   },
   {
    "duration": 16,
    "start_time": "2024-08-03T02:39:56.635Z"
   },
   {
    "duration": 397,
    "start_time": "2024-08-03T02:39:56.654Z"
   },
   {
    "duration": 16,
    "start_time": "2024-08-03T02:39:57.054Z"
   },
   {
    "duration": 348,
    "start_time": "2024-08-03T02:39:57.072Z"
   },
   {
    "duration": 505,
    "start_time": "2024-08-03T02:39:57.422Z"
   },
   {
    "duration": 0,
    "start_time": "2024-08-03T02:39:57.930Z"
   },
   {
    "duration": 0,
    "start_time": "2024-08-03T02:39:57.933Z"
   },
   {
    "duration": 0,
    "start_time": "2024-08-03T02:39:57.935Z"
   },
   {
    "duration": 0,
    "start_time": "2024-08-03T02:39:57.937Z"
   },
   {
    "duration": 0,
    "start_time": "2024-08-03T02:39:57.939Z"
   },
   {
    "duration": 0,
    "start_time": "2024-08-03T02:39:57.942Z"
   },
   {
    "duration": 0,
    "start_time": "2024-08-03T02:39:57.944Z"
   },
   {
    "duration": 0,
    "start_time": "2024-08-03T02:39:57.946Z"
   },
   {
    "duration": 0,
    "start_time": "2024-08-03T02:39:57.947Z"
   },
   {
    "duration": 0,
    "start_time": "2024-08-03T02:39:57.949Z"
   },
   {
    "duration": 0,
    "start_time": "2024-08-03T02:39:57.951Z"
   },
   {
    "duration": 0,
    "start_time": "2024-08-03T02:39:57.953Z"
   },
   {
    "duration": 0,
    "start_time": "2024-08-03T02:39:57.955Z"
   },
   {
    "duration": 0,
    "start_time": "2024-08-03T02:39:58.002Z"
   },
   {
    "duration": 0,
    "start_time": "2024-08-03T02:39:58.004Z"
   },
   {
    "duration": 0,
    "start_time": "2024-08-03T02:39:58.007Z"
   },
   {
    "duration": 8,
    "start_time": "2024-08-03T02:40:57.929Z"
   },
   {
    "duration": 37,
    "start_time": "2024-08-03T02:42:03.169Z"
   },
   {
    "duration": 11,
    "start_time": "2024-08-03T02:42:20.446Z"
   },
   {
    "duration": 0,
    "start_time": "2024-08-03T02:42:20.461Z"
   },
   {
    "duration": 0,
    "start_time": "2024-08-03T02:42:20.463Z"
   },
   {
    "duration": 0,
    "start_time": "2024-08-03T02:42:20.466Z"
   },
   {
    "duration": 0,
    "start_time": "2024-08-03T02:42:20.468Z"
   },
   {
    "duration": 385,
    "start_time": "2024-08-03T02:42:20.472Z"
   },
   {
    "duration": 0,
    "start_time": "2024-08-03T02:42:20.863Z"
   },
   {
    "duration": 0,
    "start_time": "2024-08-03T02:42:20.865Z"
   },
   {
    "duration": 0,
    "start_time": "2024-08-03T02:42:20.867Z"
   },
   {
    "duration": 0,
    "start_time": "2024-08-03T02:42:20.869Z"
   },
   {
    "duration": 0,
    "start_time": "2024-08-03T02:42:20.871Z"
   },
   {
    "duration": 0,
    "start_time": "2024-08-03T02:42:20.872Z"
   },
   {
    "duration": 0,
    "start_time": "2024-08-03T02:42:20.874Z"
   },
   {
    "duration": 0,
    "start_time": "2024-08-03T02:42:20.877Z"
   },
   {
    "duration": 0,
    "start_time": "2024-08-03T02:42:20.903Z"
   },
   {
    "duration": 0,
    "start_time": "2024-08-03T02:42:20.905Z"
   },
   {
    "duration": 0,
    "start_time": "2024-08-03T02:42:20.908Z"
   },
   {
    "duration": 0,
    "start_time": "2024-08-03T02:42:20.910Z"
   },
   {
    "duration": 0,
    "start_time": "2024-08-03T02:42:20.914Z"
   },
   {
    "duration": 0,
    "start_time": "2024-08-03T02:42:20.916Z"
   },
   {
    "duration": 0,
    "start_time": "2024-08-03T02:42:20.920Z"
   },
   {
    "duration": 0,
    "start_time": "2024-08-03T02:42:20.923Z"
   },
   {
    "duration": 0,
    "start_time": "2024-08-03T02:42:20.925Z"
   },
   {
    "duration": 0,
    "start_time": "2024-08-03T02:42:20.927Z"
   },
   {
    "duration": 0,
    "start_time": "2024-08-03T02:42:20.930Z"
   },
   {
    "duration": 0,
    "start_time": "2024-08-03T02:42:20.932Z"
   },
   {
    "duration": 0,
    "start_time": "2024-08-03T02:42:20.934Z"
   },
   {
    "duration": 0,
    "start_time": "2024-08-03T02:42:20.936Z"
   },
   {
    "duration": 0,
    "start_time": "2024-08-03T02:42:20.938Z"
   },
   {
    "duration": 0,
    "start_time": "2024-08-03T02:42:20.939Z"
   },
   {
    "duration": 0,
    "start_time": "2024-08-03T02:42:21.003Z"
   },
   {
    "duration": 0,
    "start_time": "2024-08-03T02:42:21.005Z"
   },
   {
    "duration": 0,
    "start_time": "2024-08-03T02:42:21.007Z"
   },
   {
    "duration": 0,
    "start_time": "2024-08-03T02:42:21.010Z"
   },
   {
    "duration": 0,
    "start_time": "2024-08-03T02:42:21.012Z"
   },
   {
    "duration": 0,
    "start_time": "2024-08-03T02:42:21.015Z"
   },
   {
    "duration": 0,
    "start_time": "2024-08-03T02:42:21.017Z"
   },
   {
    "duration": 0,
    "start_time": "2024-08-03T02:42:21.019Z"
   },
   {
    "duration": 0,
    "start_time": "2024-08-03T02:42:21.022Z"
   },
   {
    "duration": 0,
    "start_time": "2024-08-03T02:42:21.024Z"
   },
   {
    "duration": 0,
    "start_time": "2024-08-03T02:42:21.026Z"
   },
   {
    "duration": 0,
    "start_time": "2024-08-03T02:42:21.028Z"
   },
   {
    "duration": 0,
    "start_time": "2024-08-03T02:42:21.030Z"
   },
   {
    "duration": 1,
    "start_time": "2024-08-03T02:42:21.032Z"
   },
   {
    "duration": 0,
    "start_time": "2024-08-03T02:42:21.036Z"
   },
   {
    "duration": 0,
    "start_time": "2024-08-03T02:42:21.038Z"
   },
   {
    "duration": 0,
    "start_time": "2024-08-03T02:42:21.040Z"
   },
   {
    "duration": 0,
    "start_time": "2024-08-03T02:42:21.102Z"
   },
   {
    "duration": 0,
    "start_time": "2024-08-03T02:42:21.104Z"
   },
   {
    "duration": 0,
    "start_time": "2024-08-03T02:42:21.107Z"
   },
   {
    "duration": 0,
    "start_time": "2024-08-03T02:42:21.109Z"
   },
   {
    "duration": 0,
    "start_time": "2024-08-03T02:42:21.111Z"
   },
   {
    "duration": 0,
    "start_time": "2024-08-03T02:42:21.113Z"
   },
   {
    "duration": 0,
    "start_time": "2024-08-03T02:42:21.115Z"
   },
   {
    "duration": 0,
    "start_time": "2024-08-03T02:42:21.118Z"
   },
   {
    "duration": 0,
    "start_time": "2024-08-03T02:42:21.120Z"
   },
   {
    "duration": 0,
    "start_time": "2024-08-03T02:42:21.122Z"
   },
   {
    "duration": 0,
    "start_time": "2024-08-03T02:42:21.125Z"
   },
   {
    "duration": 0,
    "start_time": "2024-08-03T02:42:21.126Z"
   },
   {
    "duration": 1178,
    "start_time": "2024-08-03T02:43:14.112Z"
   },
   {
    "duration": 1161,
    "start_time": "2024-08-03T02:43:31.418Z"
   },
   {
    "duration": 284,
    "start_time": "2024-08-03T02:43:32.584Z"
   },
   {
    "duration": 30,
    "start_time": "2024-08-03T02:43:32.871Z"
   },
   {
    "duration": 18,
    "start_time": "2024-08-03T02:43:32.905Z"
   },
   {
    "duration": 8,
    "start_time": "2024-08-03T02:43:32.926Z"
   },
   {
    "duration": 8,
    "start_time": "2024-08-03T02:43:32.938Z"
   },
   {
    "duration": 55,
    "start_time": "2024-08-03T02:43:32.949Z"
   },
   {
    "duration": 16,
    "start_time": "2024-08-03T02:43:33.007Z"
   },
   {
    "duration": 16,
    "start_time": "2024-08-03T02:43:33.027Z"
   },
   {
    "duration": 51,
    "start_time": "2024-08-03T02:43:33.051Z"
   },
   {
    "duration": 20,
    "start_time": "2024-08-03T02:43:33.106Z"
   },
   {
    "duration": 7,
    "start_time": "2024-08-03T02:43:33.129Z"
   },
   {
    "duration": 6,
    "start_time": "2024-08-03T02:43:33.139Z"
   },
   {
    "duration": 68,
    "start_time": "2024-08-03T02:43:33.149Z"
   },
   {
    "duration": 27,
    "start_time": "2024-08-03T02:43:33.220Z"
   },
   {
    "duration": 13,
    "start_time": "2024-08-03T02:43:33.250Z"
   },
   {
    "duration": 30,
    "start_time": "2024-08-03T02:43:33.301Z"
   },
   {
    "duration": 81,
    "start_time": "2024-08-03T02:43:33.334Z"
   },
   {
    "duration": 52,
    "start_time": "2024-08-03T02:43:33.418Z"
   },
   {
    "duration": 40,
    "start_time": "2024-08-03T02:43:33.474Z"
   },
   {
    "duration": 11,
    "start_time": "2024-08-03T02:43:33.517Z"
   },
   {
    "duration": 79,
    "start_time": "2024-08-03T02:43:33.532Z"
   },
   {
    "duration": 33,
    "start_time": "2024-08-03T02:43:33.613Z"
   },
   {
    "duration": 52,
    "start_time": "2024-08-03T02:43:33.649Z"
   },
   {
    "duration": 12,
    "start_time": "2024-08-03T02:43:33.704Z"
   },
   {
    "duration": 27,
    "start_time": "2024-08-03T02:43:33.720Z"
   },
   {
    "duration": 103,
    "start_time": "2024-08-03T02:43:33.750Z"
   },
   {
    "duration": 57,
    "start_time": "2024-08-03T02:43:33.862Z"
   },
   {
    "duration": 14,
    "start_time": "2024-08-03T02:43:33.922Z"
   },
   {
    "duration": 5,
    "start_time": "2024-08-03T02:43:33.939Z"
   },
   {
    "duration": 299,
    "start_time": "2024-08-03T02:43:33.948Z"
   },
   {
    "duration": 79,
    "start_time": "2024-08-03T02:43:34.253Z"
   },
   {
    "duration": 37,
    "start_time": "2024-08-03T02:43:34.336Z"
   },
   {
    "duration": 62,
    "start_time": "2024-08-03T02:43:34.376Z"
   },
   {
    "duration": 35,
    "start_time": "2024-08-03T02:43:34.442Z"
   },
   {
    "duration": 34,
    "start_time": "2024-08-03T02:43:34.503Z"
   },
   {
    "duration": 6,
    "start_time": "2024-08-03T02:43:34.540Z"
   },
   {
    "duration": 99,
    "start_time": "2024-08-03T02:43:34.549Z"
   },
   {
    "duration": 17,
    "start_time": "2024-08-03T02:43:34.650Z"
   },
   {
    "duration": 388,
    "start_time": "2024-08-03T02:43:34.669Z"
   },
   {
    "duration": 17,
    "start_time": "2024-08-03T02:43:35.061Z"
   },
   {
    "duration": 320,
    "start_time": "2024-08-03T02:43:35.101Z"
   },
   {
    "duration": 532,
    "start_time": "2024-08-03T02:43:35.425Z"
   },
   {
    "duration": 0,
    "start_time": "2024-08-03T02:43:35.963Z"
   },
   {
    "duration": 0,
    "start_time": "2024-08-03T02:43:35.965Z"
   },
   {
    "duration": 0,
    "start_time": "2024-08-03T02:43:35.968Z"
   },
   {
    "duration": 0,
    "start_time": "2024-08-03T02:43:35.971Z"
   },
   {
    "duration": 0,
    "start_time": "2024-08-03T02:43:35.977Z"
   },
   {
    "duration": 0,
    "start_time": "2024-08-03T02:43:36.002Z"
   },
   {
    "duration": 0,
    "start_time": "2024-08-03T02:43:36.005Z"
   },
   {
    "duration": 0,
    "start_time": "2024-08-03T02:43:36.012Z"
   },
   {
    "duration": 0,
    "start_time": "2024-08-03T02:43:36.015Z"
   },
   {
    "duration": 0,
    "start_time": "2024-08-03T02:43:36.018Z"
   },
   {
    "duration": 0,
    "start_time": "2024-08-03T02:43:36.021Z"
   },
   {
    "duration": 0,
    "start_time": "2024-08-03T02:43:36.024Z"
   },
   {
    "duration": 0,
    "start_time": "2024-08-03T02:43:36.026Z"
   },
   {
    "duration": 0,
    "start_time": "2024-08-03T02:43:36.029Z"
   },
   {
    "duration": 0,
    "start_time": "2024-08-03T02:43:36.032Z"
   },
   {
    "duration": 0,
    "start_time": "2024-08-03T02:43:36.034Z"
   },
   {
    "duration": 19,
    "start_time": "2024-08-03T02:48:40.214Z"
   },
   {
    "duration": 43,
    "start_time": "2024-08-03T02:54:31.518Z"
   },
   {
    "duration": 19,
    "start_time": "2024-08-03T02:57:51.164Z"
   },
   {
    "duration": 16,
    "start_time": "2024-08-03T02:59:25.460Z"
   },
   {
    "duration": 341,
    "start_time": "2024-08-03T02:59:56.599Z"
   },
   {
    "duration": 368,
    "start_time": "2024-08-03T03:01:40.513Z"
   },
   {
    "duration": 27,
    "start_time": "2024-08-03T03:03:55.814Z"
   },
   {
    "duration": 15,
    "start_time": "2024-08-03T03:04:07.965Z"
   },
   {
    "duration": 311,
    "start_time": "2024-08-03T03:04:11.476Z"
   },
   {
    "duration": 18,
    "start_time": "2024-08-03T03:05:04.314Z"
   },
   {
    "duration": 295,
    "start_time": "2024-08-03T03:05:11.530Z"
   },
   {
    "duration": 350,
    "start_time": "2024-08-03T03:06:40.070Z"
   },
   {
    "duration": 840,
    "start_time": "2024-08-03T03:06:49.177Z"
   },
   {
    "duration": 53,
    "start_time": "2024-08-03T03:06:55.907Z"
   },
   {
    "duration": 89,
    "start_time": "2024-08-03T03:06:59.123Z"
   },
   {
    "duration": 207,
    "start_time": "2024-08-03T03:07:02.845Z"
   },
   {
    "duration": 46,
    "start_time": "2024-08-03T03:07:07.799Z"
   },
   {
    "duration": 47,
    "start_time": "2024-08-03T03:07:24.536Z"
   },
   {
    "duration": 90,
    "start_time": "2024-08-03T03:07:29.862Z"
   },
   {
    "duration": 138,
    "start_time": "2024-08-03T03:07:33.357Z"
   },
   {
    "duration": 44,
    "start_time": "2024-08-03T03:24:48.805Z"
   },
   {
    "duration": 5,
    "start_time": "2024-08-03T03:27:43.129Z"
   },
   {
    "duration": 65,
    "start_time": "2024-08-03T03:27:45.314Z"
   },
   {
    "duration": 379,
    "start_time": "2024-08-03T03:32:06.622Z"
   },
   {
    "duration": 343,
    "start_time": "2024-08-03T03:33:04.030Z"
   },
   {
    "duration": 385,
    "start_time": "2024-08-03T03:34:56.717Z"
   },
   {
    "duration": 44,
    "start_time": "2024-08-03T03:57:19.005Z"
   },
   {
    "duration": 124,
    "start_time": "2024-08-03T03:57:26.943Z"
   },
   {
    "duration": 88,
    "start_time": "2024-08-03T03:57:31.835Z"
   },
   {
    "duration": 93,
    "start_time": "2024-08-03T03:57:36.986Z"
   },
   {
    "duration": 46,
    "start_time": "2024-08-03T03:57:46.149Z"
   },
   {
    "duration": 87,
    "start_time": "2024-08-03T03:57:50.648Z"
   },
   {
    "duration": 37,
    "start_time": "2024-08-03T03:57:53.458Z"
   },
   {
    "duration": 13,
    "start_time": "2024-08-03T03:57:58.218Z"
   },
   {
    "duration": 4733,
    "start_time": "2024-08-04T02:19:10.692Z"
   },
   {
    "duration": 367,
    "start_time": "2024-08-04T02:19:15.431Z"
   },
   {
    "duration": 16,
    "start_time": "2024-08-04T02:19:15.801Z"
   },
   {
    "duration": 18,
    "start_time": "2024-08-04T02:19:15.820Z"
   },
   {
    "duration": 8,
    "start_time": "2024-08-04T02:19:15.841Z"
   },
   {
    "duration": 6,
    "start_time": "2024-08-04T02:19:15.852Z"
   },
   {
    "duration": 14,
    "start_time": "2024-08-04T02:19:15.861Z"
   },
   {
    "duration": 64,
    "start_time": "2024-08-04T02:19:15.877Z"
   },
   {
    "duration": 15,
    "start_time": "2024-08-04T02:19:15.943Z"
   },
   {
    "duration": 14,
    "start_time": "2024-08-04T02:19:15.963Z"
   },
   {
    "duration": 53,
    "start_time": "2024-08-04T02:19:15.979Z"
   },
   {
    "duration": 7,
    "start_time": "2024-08-04T02:19:16.035Z"
   },
   {
    "duration": 5,
    "start_time": "2024-08-04T02:19:16.045Z"
   },
   {
    "duration": 21,
    "start_time": "2024-08-04T02:19:16.053Z"
   },
   {
    "duration": 64,
    "start_time": "2024-08-04T02:19:16.077Z"
   },
   {
    "duration": 11,
    "start_time": "2024-08-04T02:19:16.144Z"
   },
   {
    "duration": 28,
    "start_time": "2024-08-04T02:19:16.159Z"
   },
   {
    "duration": 83,
    "start_time": "2024-08-04T02:19:16.190Z"
   },
   {
    "duration": 69,
    "start_time": "2024-08-04T02:19:16.276Z"
   },
   {
    "duration": 14,
    "start_time": "2024-08-04T02:19:16.348Z"
   },
   {
    "duration": 21,
    "start_time": "2024-08-04T02:19:16.365Z"
   },
   {
    "duration": 10,
    "start_time": "2024-08-04T02:19:16.388Z"
   },
   {
    "duration": 36,
    "start_time": "2024-08-04T02:19:16.432Z"
   },
   {
    "duration": 31,
    "start_time": "2024-08-04T02:19:16.471Z"
   },
   {
    "duration": 23,
    "start_time": "2024-08-04T02:19:16.532Z"
   },
   {
    "duration": 11,
    "start_time": "2024-08-04T02:19:16.558Z"
   },
   {
    "duration": 24,
    "start_time": "2024-08-04T02:19:16.572Z"
   },
   {
    "duration": 58,
    "start_time": "2024-08-04T02:19:16.634Z"
   },
   {
    "duration": 62,
    "start_time": "2024-08-04T02:19:16.694Z"
   },
   {
    "duration": 18,
    "start_time": "2024-08-04T02:19:16.759Z"
   },
   {
    "duration": 6,
    "start_time": "2024-08-04T02:19:16.779Z"
   },
   {
    "duration": 297,
    "start_time": "2024-08-04T02:19:16.788Z"
   },
   {
    "duration": 70,
    "start_time": "2024-08-04T02:19:17.088Z"
   },
   {
    "duration": 32,
    "start_time": "2024-08-04T02:19:17.161Z"
   },
   {
    "duration": 62,
    "start_time": "2024-08-04T02:19:17.196Z"
   },
   {
    "duration": 33,
    "start_time": "2024-08-04T02:19:17.260Z"
   },
   {
    "duration": 56,
    "start_time": "2024-08-04T02:19:17.295Z"
   },
   {
    "duration": 6,
    "start_time": "2024-08-04T02:19:17.354Z"
   },
   {
    "duration": 77,
    "start_time": "2024-08-04T02:19:17.363Z"
   },
   {
    "duration": 15,
    "start_time": "2024-08-04T02:19:17.444Z"
   },
   {
    "duration": 372,
    "start_time": "2024-08-04T02:19:17.462Z"
   },
   {
    "duration": 16,
    "start_time": "2024-08-04T02:19:17.837Z"
   },
   {
    "duration": 329,
    "start_time": "2024-08-04T02:19:17.856Z"
   },
   {
    "duration": 17,
    "start_time": "2024-08-04T02:19:18.189Z"
   },
   {
    "duration": 397,
    "start_time": "2024-08-04T02:19:18.209Z"
   },
   {
    "duration": 28,
    "start_time": "2024-08-04T02:19:18.609Z"
   },
   {
    "duration": 340,
    "start_time": "2024-08-04T02:19:18.640Z"
   },
   {
    "duration": 366,
    "start_time": "2024-08-04T02:19:18.983Z"
   },
   {
    "duration": 17,
    "start_time": "2024-08-04T02:19:19.353Z"
   },
   {
    "duration": 360,
    "start_time": "2024-08-04T02:19:19.373Z"
   },
   {
    "duration": 457,
    "start_time": "2024-08-04T02:19:19.736Z"
   },
   {
    "duration": 60,
    "start_time": "2024-08-04T02:19:20.196Z"
   },
   {
    "duration": 94,
    "start_time": "2024-08-04T02:19:20.258Z"
   },
   {
    "duration": 102,
    "start_time": "2024-08-04T02:19:20.354Z"
   },
   {
    "duration": 37,
    "start_time": "2024-08-04T02:19:20.459Z"
   },
   {
    "duration": 32,
    "start_time": "2024-08-04T02:19:20.499Z"
   },
   {
    "duration": 13,
    "start_time": "2024-08-04T02:19:20.534Z"
   },
   {
    "duration": 5,
    "start_time": "2024-08-04T02:19:20.550Z"
   },
   {
    "duration": 13,
    "start_time": "2024-08-04T02:19:20.558Z"
   },
   {
    "duration": 4,
    "start_time": "2024-08-04T02:19:20.574Z"
   },
   {
    "duration": 3,
    "start_time": "2024-08-04T02:44:02.613Z"
   },
   {
    "duration": 12,
    "start_time": "2024-08-04T02:45:44.688Z"
   },
   {
    "duration": 1151,
    "start_time": "2024-08-04T02:46:00.150Z"
   },
   {
    "duration": 269,
    "start_time": "2024-08-04T02:46:01.306Z"
   },
   {
    "duration": 15,
    "start_time": "2024-08-04T02:46:01.578Z"
   },
   {
    "duration": 33,
    "start_time": "2024-08-04T02:46:01.599Z"
   },
   {
    "duration": 7,
    "start_time": "2024-08-04T02:46:01.635Z"
   },
   {
    "duration": 7,
    "start_time": "2024-08-04T02:46:01.646Z"
   },
   {
    "duration": 14,
    "start_time": "2024-08-04T02:46:01.656Z"
   },
   {
    "duration": 60,
    "start_time": "2024-08-04T02:46:01.673Z"
   },
   {
    "duration": 16,
    "start_time": "2024-08-04T02:46:01.736Z"
   },
   {
    "duration": 23,
    "start_time": "2024-08-04T02:46:01.766Z"
   },
   {
    "duration": 47,
    "start_time": "2024-08-04T02:46:01.792Z"
   },
   {
    "duration": 10,
    "start_time": "2024-08-04T02:46:01.842Z"
   },
   {
    "duration": 5,
    "start_time": "2024-08-04T02:46:01.855Z"
   },
   {
    "duration": 21,
    "start_time": "2024-08-04T02:46:01.863Z"
   },
   {
    "duration": 60,
    "start_time": "2024-08-04T02:46:01.887Z"
   },
   {
    "duration": 11,
    "start_time": "2024-08-04T02:46:01.950Z"
   },
   {
    "duration": 28,
    "start_time": "2024-08-04T02:46:01.964Z"
   },
   {
    "duration": 93,
    "start_time": "2024-08-04T02:46:01.995Z"
   },
   {
    "duration": 70,
    "start_time": "2024-08-04T02:46:02.091Z"
   },
   {
    "duration": 15,
    "start_time": "2024-08-04T02:46:02.164Z"
   },
   {
    "duration": 4,
    "start_time": "2024-08-04T02:46:02.181Z"
   },
   {
    "duration": 58,
    "start_time": "2024-08-04T02:46:02.189Z"
   },
   {
    "duration": 10,
    "start_time": "2024-08-04T02:46:02.250Z"
   },
   {
    "duration": 36,
    "start_time": "2024-08-04T02:46:02.264Z"
   },
   {
    "duration": 40,
    "start_time": "2024-08-04T02:46:02.331Z"
   },
   {
    "duration": 33,
    "start_time": "2024-08-04T02:46:02.375Z"
   },
   {
    "duration": 14,
    "start_time": "2024-08-04T02:46:02.431Z"
   },
   {
    "duration": 23,
    "start_time": "2024-08-04T02:46:02.458Z"
   },
   {
    "duration": 87,
    "start_time": "2024-08-04T02:46:02.484Z"
   },
   {
    "duration": 58,
    "start_time": "2024-08-04T02:46:02.574Z"
   },
   {
    "duration": 17,
    "start_time": "2024-08-04T02:46:02.635Z"
   },
   {
    "duration": 5,
    "start_time": "2024-08-04T02:46:02.655Z"
   },
   {
    "duration": 288,
    "start_time": "2024-08-04T02:46:02.663Z"
   },
   {
    "duration": 56,
    "start_time": "2024-08-04T02:46:02.954Z"
   },
   {
    "duration": 53,
    "start_time": "2024-08-04T02:46:03.013Z"
   },
   {
    "duration": 41,
    "start_time": "2024-08-04T02:46:03.069Z"
   },
   {
    "duration": 34,
    "start_time": "2024-08-04T02:46:03.133Z"
   },
   {
    "duration": 32,
    "start_time": "2024-08-04T02:46:03.169Z"
   },
   {
    "duration": 4,
    "start_time": "2024-08-04T02:46:03.230Z"
   },
   {
    "duration": 59,
    "start_time": "2024-08-04T02:46:03.238Z"
   },
   {
    "duration": 40,
    "start_time": "2024-08-04T02:46:03.299Z"
   },
   {
    "duration": 369,
    "start_time": "2024-08-04T02:46:03.343Z"
   },
   {
    "duration": 25,
    "start_time": "2024-08-04T02:46:03.714Z"
   },
   {
    "duration": 316,
    "start_time": "2024-08-04T02:46:03.742Z"
   },
   {
    "duration": 17,
    "start_time": "2024-08-04T02:46:04.061Z"
   },
   {
    "duration": 463,
    "start_time": "2024-08-04T02:46:04.081Z"
   },
   {
    "duration": 15,
    "start_time": "2024-08-04T02:46:04.547Z"
   },
   {
    "duration": 347,
    "start_time": "2024-08-04T02:46:04.565Z"
   },
   {
    "duration": 372,
    "start_time": "2024-08-04T02:46:04.914Z"
   },
   {
    "duration": 15,
    "start_time": "2024-08-04T02:46:05.290Z"
   },
   {
    "duration": 384,
    "start_time": "2024-08-04T02:46:05.309Z"
   },
   {
    "duration": 381,
    "start_time": "2024-08-04T02:46:05.697Z"
   },
   {
    "duration": 57,
    "start_time": "2024-08-04T02:46:06.081Z"
   },
   {
    "duration": 94,
    "start_time": "2024-08-04T02:46:06.141Z"
   },
   {
    "duration": 100,
    "start_time": "2024-08-04T02:46:06.238Z"
   },
   {
    "duration": 39,
    "start_time": "2024-08-04T02:46:06.340Z"
   },
   {
    "duration": 13,
    "start_time": "2024-08-04T02:46:06.383Z"
   },
   {
    "duration": 36,
    "start_time": "2024-08-04T02:46:06.399Z"
   },
   {
    "duration": 6,
    "start_time": "2024-08-04T02:46:06.438Z"
   },
   {
    "duration": 15,
    "start_time": "2024-08-04T02:46:06.446Z"
   },
   {
    "duration": 5,
    "start_time": "2024-08-04T02:46:06.464Z"
   },
   {
    "duration": 639,
    "start_time": "2024-08-04T03:01:30.560Z"
   },
   {
    "duration": 49,
    "start_time": "2024-08-04T03:02:18.216Z"
   },
   {
    "duration": 10,
    "start_time": "2024-08-04T03:02:33.474Z"
   },
   {
    "duration": 18,
    "start_time": "2024-08-04T03:05:00.378Z"
   },
   {
    "duration": 39,
    "start_time": "2024-08-04T03:05:16.328Z"
   },
   {
    "duration": 63,
    "start_time": "2024-08-04T03:05:35.914Z"
   },
   {
    "duration": 18,
    "start_time": "2024-08-04T03:06:12.254Z"
   },
   {
    "duration": 18,
    "start_time": "2024-08-04T03:12:41.254Z"
   },
   {
    "duration": 15,
    "start_time": "2024-08-04T03:15:44.114Z"
   },
   {
    "duration": 11,
    "start_time": "2024-08-04T03:20:36.671Z"
   },
   {
    "duration": 18,
    "start_time": "2024-08-04T03:23:45.664Z"
   },
   {
    "duration": 39,
    "start_time": "2024-08-04T03:25:21.824Z"
   },
   {
    "duration": 34,
    "start_time": "2024-08-04T03:27:10.446Z"
   },
   {
    "duration": 5,
    "start_time": "2024-08-04T03:28:24.974Z"
   },
   {
    "duration": 5,
    "start_time": "2024-08-04T03:28:36.920Z"
   },
   {
    "duration": 20,
    "start_time": "2024-08-04T03:28:51.066Z"
   },
   {
    "duration": 30,
    "start_time": "2024-08-04T03:29:40.757Z"
   },
   {
    "duration": 33,
    "start_time": "2024-08-04T03:30:41.478Z"
   },
   {
    "duration": 21,
    "start_time": "2024-08-04T03:30:48.441Z"
   },
   {
    "duration": 30,
    "start_time": "2024-08-04T03:30:54.494Z"
   },
   {
    "duration": 31,
    "start_time": "2024-08-04T03:31:46.405Z"
   },
   {
    "duration": 58,
    "start_time": "2024-08-04T03:32:12.876Z"
   },
   {
    "duration": 25,
    "start_time": "2024-08-04T03:35:20.398Z"
   },
   {
    "duration": 43,
    "start_time": "2024-08-04T03:39:08.911Z"
   },
   {
    "duration": 8,
    "start_time": "2024-08-04T03:41:43.937Z"
   },
   {
    "duration": 8,
    "start_time": "2024-08-04T03:41:56.524Z"
   },
   {
    "duration": 1205,
    "start_time": "2024-08-04T03:43:44.909Z"
   },
   {
    "duration": 245,
    "start_time": "2024-08-04T03:44:09.580Z"
   },
   {
    "duration": 27,
    "start_time": "2024-08-04T03:44:42.095Z"
   },
   {
    "duration": 11,
    "start_time": "2024-08-04T03:44:57.324Z"
   },
   {
    "duration": 20,
    "start_time": "2024-08-04T03:45:44.117Z"
   },
   {
    "duration": 18,
    "start_time": "2024-08-04T03:46:04.124Z"
   },
   {
    "duration": 447,
    "start_time": "2024-08-04T03:50:58.347Z"
   },
   {
    "duration": 253,
    "start_time": "2024-08-04T03:51:40.759Z"
   },
   {
    "duration": 252,
    "start_time": "2024-08-04T03:52:52.396Z"
   },
   {
    "duration": 314,
    "start_time": "2024-08-04T21:55:44.230Z"
   },
   {
    "duration": 4778,
    "start_time": "2024-08-04T21:55:53.372Z"
   },
   {
    "duration": 336,
    "start_time": "2024-08-04T21:55:58.156Z"
   },
   {
    "duration": 17,
    "start_time": "2024-08-04T21:55:58.494Z"
   },
   {
    "duration": 24,
    "start_time": "2024-08-04T21:55:58.514Z"
   },
   {
    "duration": 11,
    "start_time": "2024-08-04T21:55:58.544Z"
   },
   {
    "duration": 8,
    "start_time": "2024-08-04T21:55:58.558Z"
   },
   {
    "duration": 17,
    "start_time": "2024-08-04T21:55:58.570Z"
   },
   {
    "duration": 56,
    "start_time": "2024-08-04T21:55:58.590Z"
   },
   {
    "duration": 14,
    "start_time": "2024-08-04T21:55:58.650Z"
   },
   {
    "duration": 14,
    "start_time": "2024-08-04T21:55:58.667Z"
   },
   {
    "duration": 58,
    "start_time": "2024-08-04T21:55:58.685Z"
   },
   {
    "duration": 12,
    "start_time": "2024-08-04T21:55:58.746Z"
   },
   {
    "duration": 5,
    "start_time": "2024-08-04T21:55:58.760Z"
   },
   {
    "duration": 21,
    "start_time": "2024-08-04T21:55:58.774Z"
   },
   {
    "duration": 55,
    "start_time": "2024-08-04T21:55:58.798Z"
   },
   {
    "duration": 11,
    "start_time": "2024-08-04T21:55:58.859Z"
   },
   {
    "duration": 28,
    "start_time": "2024-08-04T21:55:58.874Z"
   },
   {
    "duration": 51,
    "start_time": "2024-08-04T21:55:58.934Z"
   },
   {
    "duration": 74,
    "start_time": "2024-08-04T21:55:58.990Z"
   },
   {
    "duration": 17,
    "start_time": "2024-08-04T21:55:59.068Z"
   },
   {
    "duration": 12,
    "start_time": "2024-08-04T21:55:59.088Z"
   },
   {
    "duration": 44,
    "start_time": "2024-08-04T21:55:59.103Z"
   },
   {
    "duration": 10,
    "start_time": "2024-08-04T21:55:59.150Z"
   },
   {
    "duration": 36,
    "start_time": "2024-08-04T21:55:59.163Z"
   },
   {
    "duration": 32,
    "start_time": "2024-08-04T21:55:59.236Z"
   },
   {
    "duration": 22,
    "start_time": "2024-08-04T21:55:59.271Z"
   },
   {
    "duration": 43,
    "start_time": "2024-08-04T21:55:59.296Z"
   },
   {
    "duration": 25,
    "start_time": "2024-08-04T21:55:59.342Z"
   },
   {
    "duration": 88,
    "start_time": "2024-08-04T21:55:59.369Z"
   },
   {
    "duration": 41,
    "start_time": "2024-08-04T21:55:59.461Z"
   },
   {
    "duration": 31,
    "start_time": "2024-08-04T21:55:59.505Z"
   },
   {
    "duration": 6,
    "start_time": "2024-08-04T21:55:59.538Z"
   },
   {
    "duration": 4,
    "start_time": "2024-08-04T21:55:59.546Z"
   },
   {
    "duration": 97,
    "start_time": "2024-08-04T21:55:59.553Z"
   },
   {
    "duration": 33,
    "start_time": "2024-08-04T21:55:59.653Z"
   },
   {
    "duration": 58,
    "start_time": "2024-08-04T21:55:59.689Z"
   },
   {
    "duration": 34,
    "start_time": "2024-08-04T21:55:59.750Z"
   },
   {
    "duration": 21,
    "start_time": "2024-08-04T21:55:59.786Z"
   },
   {
    "duration": 33,
    "start_time": "2024-08-04T21:55:59.834Z"
   },
   {
    "duration": 5,
    "start_time": "2024-08-04T21:55:59.869Z"
   },
   {
    "duration": 87,
    "start_time": "2024-08-04T21:55:59.885Z"
   },
   {
    "duration": 15,
    "start_time": "2024-08-04T21:55:59.975Z"
   },
   {
    "duration": 371,
    "start_time": "2024-08-04T21:55:59.992Z"
   },
   {
    "duration": 16,
    "start_time": "2024-08-04T21:56:00.366Z"
   },
   {
    "duration": 320,
    "start_time": "2024-08-04T21:56:00.385Z"
   },
   {
    "duration": 38,
    "start_time": "2024-08-04T21:56:00.708Z"
   },
   {
    "duration": 21,
    "start_time": "2024-08-04T21:56:00.748Z"
   },
   {
    "duration": 416,
    "start_time": "2024-08-04T21:56:00.773Z"
   },
   {
    "duration": 16,
    "start_time": "2024-08-04T21:56:01.191Z"
   },
   {
    "duration": 352,
    "start_time": "2024-08-04T21:56:01.210Z"
   },
   {
    "duration": 263,
    "start_time": "2024-08-04T21:56:01.566Z"
   },
   {
    "duration": 449,
    "start_time": "2024-08-04T21:56:01.835Z"
   },
   {
    "duration": 15,
    "start_time": "2024-08-04T21:56:02.286Z"
   },
   {
    "duration": 362,
    "start_time": "2024-08-04T21:56:02.304Z"
   },
   {
    "duration": 379,
    "start_time": "2024-08-04T21:56:02.669Z"
   },
   {
    "duration": 47,
    "start_time": "2024-08-04T21:56:03.051Z"
   },
   {
    "duration": 103,
    "start_time": "2024-08-04T21:56:03.101Z"
   },
   {
    "duration": 98,
    "start_time": "2024-08-04T21:56:03.207Z"
   },
   {
    "duration": 50,
    "start_time": "2024-08-04T21:56:03.308Z"
   },
   {
    "duration": 12,
    "start_time": "2024-08-04T21:56:03.361Z"
   },
   {
    "duration": 12,
    "start_time": "2024-08-04T21:56:03.376Z"
   },
   {
    "duration": 6,
    "start_time": "2024-08-04T21:56:03.391Z"
   },
   {
    "duration": 46,
    "start_time": "2024-08-04T21:56:03.400Z"
   },
   {
    "duration": 5,
    "start_time": "2024-08-04T21:56:03.449Z"
   },
   {
    "duration": 37,
    "start_time": "2024-08-04T21:57:50.272Z"
   },
   {
    "duration": 32,
    "start_time": "2024-08-04T21:58:16.998Z"
   },
   {
    "duration": 1136,
    "start_time": "2024-08-04T22:03:02.279Z"
   },
   {
    "duration": 258,
    "start_time": "2024-08-04T22:03:03.421Z"
   },
   {
    "duration": 15,
    "start_time": "2024-08-04T22:03:03.682Z"
   },
   {
    "duration": 33,
    "start_time": "2024-08-04T22:03:03.702Z"
   },
   {
    "duration": 7,
    "start_time": "2024-08-04T22:03:03.738Z"
   },
   {
    "duration": 6,
    "start_time": "2024-08-04T22:03:03.749Z"
   },
   {
    "duration": 14,
    "start_time": "2024-08-04T22:03:03.759Z"
   },
   {
    "duration": 61,
    "start_time": "2024-08-04T22:03:03.776Z"
   },
   {
    "duration": 15,
    "start_time": "2024-08-04T22:03:03.840Z"
   },
   {
    "duration": 13,
    "start_time": "2024-08-04T22:03:03.862Z"
   },
   {
    "duration": 19,
    "start_time": "2024-08-04T22:03:03.877Z"
   },
   {
    "duration": 7,
    "start_time": "2024-08-04T22:03:03.935Z"
   },
   {
    "duration": 5,
    "start_time": "2024-08-04T22:03:03.945Z"
   },
   {
    "duration": 23,
    "start_time": "2024-08-04T22:03:03.954Z"
   },
   {
    "duration": 66,
    "start_time": "2024-08-04T22:03:03.980Z"
   },
   {
    "duration": 13,
    "start_time": "2024-08-04T22:03:04.050Z"
   },
   {
    "duration": 32,
    "start_time": "2024-08-04T22:03:04.066Z"
   },
   {
    "duration": 52,
    "start_time": "2024-08-04T22:03:04.134Z"
   },
   {
    "duration": 77,
    "start_time": "2024-08-04T22:03:04.190Z"
   },
   {
    "duration": 16,
    "start_time": "2024-08-04T22:03:04.270Z"
   },
   {
    "duration": 11,
    "start_time": "2024-08-04T22:03:04.289Z"
   },
   {
    "duration": 48,
    "start_time": "2024-08-04T22:03:04.303Z"
   },
   {
    "duration": 11,
    "start_time": "2024-08-04T22:03:04.355Z"
   },
   {
    "duration": 73,
    "start_time": "2024-08-04T22:03:04.368Z"
   },
   {
    "duration": 33,
    "start_time": "2024-08-04T22:03:04.444Z"
   },
   {
    "duration": 22,
    "start_time": "2024-08-04T22:03:04.481Z"
   },
   {
    "duration": 36,
    "start_time": "2024-08-04T22:03:04.505Z"
   },
   {
    "duration": 25,
    "start_time": "2024-08-04T22:03:04.551Z"
   },
   {
    "duration": 92,
    "start_time": "2024-08-04T22:03:04.578Z"
   },
   {
    "duration": 41,
    "start_time": "2024-08-04T22:03:04.673Z"
   },
   {
    "duration": 13,
    "start_time": "2024-08-04T22:03:04.735Z"
   },
   {
    "duration": 5,
    "start_time": "2024-08-04T22:03:04.751Z"
   },
   {
    "duration": 78,
    "start_time": "2024-08-04T22:03:04.759Z"
   },
   {
    "duration": 35,
    "start_time": "2024-08-04T22:03:04.839Z"
   },
   {
    "duration": 59,
    "start_time": "2024-08-04T22:03:04.876Z"
   },
   {
    "duration": 34,
    "start_time": "2024-08-04T22:03:04.938Z"
   },
   {
    "duration": 20,
    "start_time": "2024-08-04T22:03:04.975Z"
   },
   {
    "duration": 58,
    "start_time": "2024-08-04T22:03:04.999Z"
   },
   {
    "duration": 6,
    "start_time": "2024-08-04T22:03:05.059Z"
   },
   {
    "duration": 90,
    "start_time": "2024-08-04T22:03:05.068Z"
   },
   {
    "duration": 16,
    "start_time": "2024-08-04T22:03:05.160Z"
   },
   {
    "duration": 369,
    "start_time": "2024-08-04T22:03:05.179Z"
   },
   {
    "duration": 16,
    "start_time": "2024-08-04T22:03:05.552Z"
   },
   {
    "duration": 327,
    "start_time": "2024-08-04T22:03:05.570Z"
   },
   {
    "duration": 45,
    "start_time": "2024-08-04T22:03:05.900Z"
   },
   {
    "duration": 24,
    "start_time": "2024-08-04T22:03:05.948Z"
   },
   {
    "duration": 506,
    "start_time": "2024-08-04T22:03:05.975Z"
   },
   {
    "duration": 16,
    "start_time": "2024-08-04T22:03:06.484Z"
   },
   {
    "duration": 352,
    "start_time": "2024-08-04T22:03:06.503Z"
   },
   {
    "duration": 264,
    "start_time": "2024-08-04T22:03:06.858Z"
   },
   {
    "duration": 386,
    "start_time": "2024-08-04T22:03:07.125Z"
   },
   {
    "duration": 24,
    "start_time": "2024-08-04T22:03:07.513Z"
   },
   {
    "duration": 354,
    "start_time": "2024-08-04T22:03:07.540Z"
   },
   {
    "duration": 385,
    "start_time": "2024-08-04T22:03:07.897Z"
   },
   {
    "duration": 59,
    "start_time": "2024-08-04T22:03:08.286Z"
   },
   {
    "duration": 99,
    "start_time": "2024-08-04T22:03:08.348Z"
   },
   {
    "duration": 98,
    "start_time": "2024-08-04T22:03:08.450Z"
   },
   {
    "duration": 36,
    "start_time": "2024-08-04T22:03:08.551Z"
   },
   {
    "duration": 13,
    "start_time": "2024-08-04T22:03:08.590Z"
   },
   {
    "duration": 39,
    "start_time": "2024-08-04T22:03:08.607Z"
   },
   {
    "duration": 9,
    "start_time": "2024-08-04T22:03:08.650Z"
   },
   {
    "duration": 14,
    "start_time": "2024-08-04T22:03:08.662Z"
   },
   {
    "duration": 7,
    "start_time": "2024-08-04T22:03:08.679Z"
   },
   {
    "duration": 24,
    "start_time": "2024-08-04T22:07:25.387Z"
   },
   {
    "duration": 24,
    "start_time": "2024-08-04T22:08:02.936Z"
   },
   {
    "duration": 38,
    "start_time": "2024-08-04T22:17:24.782Z"
   },
   {
    "duration": 23,
    "start_time": "2024-08-04T22:18:50.215Z"
   },
   {
    "duration": 21,
    "start_time": "2024-08-04T22:24:26.824Z"
   },
   {
    "duration": 195,
    "start_time": "2024-08-04T22:29:11.386Z"
   },
   {
    "duration": 23,
    "start_time": "2024-08-04T22:31:10.501Z"
   },
   {
    "duration": 17,
    "start_time": "2024-08-04T22:35:42.595Z"
   },
   {
    "duration": 17,
    "start_time": "2024-08-04T22:36:19.848Z"
   },
   {
    "duration": 19,
    "start_time": "2024-08-04T22:36:37.991Z"
   },
   {
    "duration": 17,
    "start_time": "2024-08-04T22:37:46.422Z"
   },
   {
    "duration": 331,
    "start_time": "2024-08-04T22:38:28.276Z"
   },
   {
    "duration": 22,
    "start_time": "2024-08-04T22:39:49.048Z"
   },
   {
    "duration": 23,
    "start_time": "2024-08-04T22:39:58.006Z"
   },
   {
    "duration": 27,
    "start_time": "2024-08-04T22:41:33.721Z"
   },
   {
    "duration": 314,
    "start_time": "2024-08-04T22:41:44.889Z"
   },
   {
    "duration": 15,
    "start_time": "2024-08-04T22:41:54.027Z"
   },
   {
    "duration": 16,
    "start_time": "2024-08-04T22:43:29.250Z"
   },
   {
    "duration": 16,
    "start_time": "2024-08-04T22:44:30.443Z"
   },
   {
    "duration": 289,
    "start_time": "2024-08-04T22:47:44.706Z"
   },
   {
    "duration": 17,
    "start_time": "2024-08-04T22:51:03.100Z"
   },
   {
    "duration": 15,
    "start_time": "2024-08-04T22:51:29.356Z"
   },
   {
    "duration": 17,
    "start_time": "2024-08-04T22:51:32.749Z"
   },
   {
    "duration": 18,
    "start_time": "2024-08-04T22:52:37.072Z"
   },
   {
    "duration": 18,
    "start_time": "2024-08-04T22:53:15.190Z"
   },
   {
    "duration": 6,
    "start_time": "2024-08-04T22:53:44.030Z"
   },
   {
    "duration": 17,
    "start_time": "2024-08-04T22:54:25.185Z"
   },
   {
    "duration": 6,
    "start_time": "2024-08-04T22:55:27.292Z"
   },
   {
    "duration": 12,
    "start_time": "2024-08-04T22:55:35.900Z"
   },
   {
    "duration": 16,
    "start_time": "2024-08-04T22:57:02.565Z"
   },
   {
    "duration": 18,
    "start_time": "2024-08-04T22:57:23.587Z"
   },
   {
    "duration": 1146,
    "start_time": "2024-08-04T22:58:08.073Z"
   },
   {
    "duration": 271,
    "start_time": "2024-08-04T22:58:09.224Z"
   },
   {
    "duration": 16,
    "start_time": "2024-08-04T22:58:09.497Z"
   },
   {
    "duration": 26,
    "start_time": "2024-08-04T22:58:09.519Z"
   },
   {
    "duration": 9,
    "start_time": "2024-08-04T22:58:09.547Z"
   },
   {
    "duration": 15,
    "start_time": "2024-08-04T22:58:09.559Z"
   },
   {
    "duration": 18,
    "start_time": "2024-08-04T22:58:09.577Z"
   },
   {
    "duration": 49,
    "start_time": "2024-08-04T22:58:09.599Z"
   },
   {
    "duration": 16,
    "start_time": "2024-08-04T22:58:09.651Z"
   },
   {
    "duration": 13,
    "start_time": "2024-08-04T22:58:09.673Z"
   },
   {
    "duration": 60,
    "start_time": "2024-08-04T22:58:09.689Z"
   },
   {
    "duration": 8,
    "start_time": "2024-08-04T22:58:09.751Z"
   },
   {
    "duration": 5,
    "start_time": "2024-08-04T22:58:09.761Z"
   },
   {
    "duration": 22,
    "start_time": "2024-08-04T22:58:09.769Z"
   },
   {
    "duration": 63,
    "start_time": "2024-08-04T22:58:09.794Z"
   },
   {
    "duration": 11,
    "start_time": "2024-08-04T22:58:09.861Z"
   },
   {
    "duration": 30,
    "start_time": "2024-08-04T22:58:09.874Z"
   },
   {
    "duration": 51,
    "start_time": "2024-08-04T22:58:09.934Z"
   },
   {
    "duration": 77,
    "start_time": "2024-08-04T22:58:09.988Z"
   },
   {
    "duration": 16,
    "start_time": "2024-08-04T22:58:10.068Z"
   },
   {
    "duration": 10,
    "start_time": "2024-08-04T22:58:10.088Z"
   },
   {
    "duration": 46,
    "start_time": "2024-08-04T22:58:10.101Z"
   },
   {
    "duration": 11,
    "start_time": "2024-08-04T22:58:10.151Z"
   },
   {
    "duration": 69,
    "start_time": "2024-08-04T22:58:10.165Z"
   },
   {
    "duration": 33,
    "start_time": "2024-08-04T22:58:10.237Z"
   },
   {
    "duration": 22,
    "start_time": "2024-08-04T22:58:10.272Z"
   },
   {
    "duration": 40,
    "start_time": "2024-08-04T22:58:10.297Z"
   },
   {
    "duration": 25,
    "start_time": "2024-08-04T22:58:10.347Z"
   },
   {
    "duration": 91,
    "start_time": "2024-08-04T22:58:10.375Z"
   },
   {
    "duration": 39,
    "start_time": "2024-08-04T22:58:10.469Z"
   },
   {
    "duration": 33,
    "start_time": "2024-08-04T22:58:10.511Z"
   },
   {
    "duration": 5,
    "start_time": "2024-08-04T22:58:10.546Z"
   },
   {
    "duration": 51,
    "start_time": "2024-08-04T22:58:10.554Z"
   },
   {
    "duration": 35,
    "start_time": "2024-08-04T22:58:10.635Z"
   },
   {
    "duration": 33,
    "start_time": "2024-08-04T22:58:10.673Z"
   },
   {
    "duration": 34,
    "start_time": "2024-08-04T22:58:10.734Z"
   },
   {
    "duration": 20,
    "start_time": "2024-08-04T22:58:10.772Z"
   },
   {
    "duration": 60,
    "start_time": "2024-08-04T22:58:10.795Z"
   },
   {
    "duration": 5,
    "start_time": "2024-08-04T22:58:10.858Z"
   },
   {
    "duration": 78,
    "start_time": "2024-08-04T22:58:10.866Z"
   },
   {
    "duration": 17,
    "start_time": "2024-08-04T22:58:10.947Z"
   },
   {
    "duration": 380,
    "start_time": "2024-08-04T22:58:10.967Z"
   },
   {
    "duration": 17,
    "start_time": "2024-08-04T22:58:11.350Z"
   },
   {
    "duration": 325,
    "start_time": "2024-08-04T22:58:11.371Z"
   },
   {
    "duration": 39,
    "start_time": "2024-08-04T22:58:11.700Z"
   },
   {
    "duration": 23,
    "start_time": "2024-08-04T22:58:11.742Z"
   },
   {
    "duration": 470,
    "start_time": "2024-08-04T22:58:11.768Z"
   },
   {
    "duration": 17,
    "start_time": "2024-08-04T22:58:12.241Z"
   },
   {
    "duration": 416,
    "start_time": "2024-08-04T22:58:12.263Z"
   },
   {
    "duration": 0,
    "start_time": "2024-08-04T22:58:12.682Z"
   },
   {
    "duration": 0,
    "start_time": "2024-08-04T22:58:12.684Z"
   },
   {
    "duration": 0,
    "start_time": "2024-08-04T22:58:12.686Z"
   },
   {
    "duration": 0,
    "start_time": "2024-08-04T22:58:12.687Z"
   },
   {
    "duration": 0,
    "start_time": "2024-08-04T22:58:12.689Z"
   },
   {
    "duration": 0,
    "start_time": "2024-08-04T22:58:12.692Z"
   },
   {
    "duration": 0,
    "start_time": "2024-08-04T22:58:12.693Z"
   },
   {
    "duration": 0,
    "start_time": "2024-08-04T22:58:12.695Z"
   },
   {
    "duration": 0,
    "start_time": "2024-08-04T22:58:12.697Z"
   },
   {
    "duration": 0,
    "start_time": "2024-08-04T22:58:12.698Z"
   },
   {
    "duration": 0,
    "start_time": "2024-08-04T22:58:12.700Z"
   },
   {
    "duration": 0,
    "start_time": "2024-08-04T22:58:12.701Z"
   },
   {
    "duration": 0,
    "start_time": "2024-08-04T22:58:12.736Z"
   },
   {
    "duration": 0,
    "start_time": "2024-08-04T22:58:12.738Z"
   },
   {
    "duration": 0,
    "start_time": "2024-08-04T22:58:12.742Z"
   },
   {
    "duration": 0,
    "start_time": "2024-08-04T22:58:12.744Z"
   },
   {
    "duration": 1170,
    "start_time": "2024-08-04T23:00:20.603Z"
   },
   {
    "duration": 261,
    "start_time": "2024-08-04T23:00:21.778Z"
   },
   {
    "duration": 16,
    "start_time": "2024-08-04T23:00:22.042Z"
   },
   {
    "duration": 15,
    "start_time": "2024-08-04T23:00:22.063Z"
   },
   {
    "duration": 8,
    "start_time": "2024-08-04T23:00:22.081Z"
   },
   {
    "duration": 43,
    "start_time": "2024-08-04T23:00:22.092Z"
   },
   {
    "duration": 14,
    "start_time": "2024-08-04T23:00:22.138Z"
   },
   {
    "duration": 16,
    "start_time": "2024-08-04T23:00:22.156Z"
   },
   {
    "duration": 15,
    "start_time": "2024-08-04T23:00:22.175Z"
   },
   {
    "duration": 13,
    "start_time": "2024-08-04T23:00:22.236Z"
   },
   {
    "duration": 18,
    "start_time": "2024-08-04T23:00:22.253Z"
   },
   {
    "duration": 7,
    "start_time": "2024-08-04T23:00:22.274Z"
   },
   {
    "duration": 5,
    "start_time": "2024-08-04T23:00:22.284Z"
   },
   {
    "duration": 59,
    "start_time": "2024-08-04T23:00:22.292Z"
   },
   {
    "duration": 25,
    "start_time": "2024-08-04T23:00:22.354Z"
   },
   {
    "duration": 10,
    "start_time": "2024-08-04T23:00:22.382Z"
   },
   {
    "duration": 65,
    "start_time": "2024-08-04T23:00:22.396Z"
   },
   {
    "duration": 75,
    "start_time": "2024-08-04T23:00:22.464Z"
   },
   {
    "duration": 62,
    "start_time": "2024-08-04T23:00:22.543Z"
   },
   {
    "duration": 37,
    "start_time": "2024-08-04T23:00:22.608Z"
   },
   {
    "duration": 12,
    "start_time": "2024-08-04T23:00:22.647Z"
   },
   {
    "duration": 21,
    "start_time": "2024-08-04T23:00:22.662Z"
   },
   {
    "duration": 10,
    "start_time": "2024-08-04T23:00:22.685Z"
   },
   {
    "duration": 35,
    "start_time": "2024-08-04T23:00:22.735Z"
   },
   {
    "duration": 32,
    "start_time": "2024-08-04T23:00:22.773Z"
   },
   {
    "duration": 46,
    "start_time": "2024-08-04T23:00:22.808Z"
   },
   {
    "duration": 11,
    "start_time": "2024-08-04T23:00:22.858Z"
   },
   {
    "duration": 57,
    "start_time": "2024-08-04T23:00:22.879Z"
   },
   {
    "duration": 58,
    "start_time": "2024-08-04T23:00:22.939Z"
   },
   {
    "duration": 61,
    "start_time": "2024-08-04T23:00:23.000Z"
   },
   {
    "duration": 12,
    "start_time": "2024-08-04T23:00:23.064Z"
   },
   {
    "duration": 5,
    "start_time": "2024-08-04T23:00:23.079Z"
   },
   {
    "duration": 87,
    "start_time": "2024-08-04T23:00:23.088Z"
   },
   {
    "duration": 33,
    "start_time": "2024-08-04T23:00:23.178Z"
   },
   {
    "duration": 50,
    "start_time": "2024-08-04T23:00:23.214Z"
   },
   {
    "duration": 67,
    "start_time": "2024-08-04T23:00:23.267Z"
   },
   {
    "duration": 22,
    "start_time": "2024-08-04T23:00:23.337Z"
   },
   {
    "duration": 32,
    "start_time": "2024-08-04T23:00:23.362Z"
   },
   {
    "duration": 6,
    "start_time": "2024-08-04T23:00:23.396Z"
   },
   {
    "duration": 88,
    "start_time": "2024-08-04T23:00:23.404Z"
   },
   {
    "duration": 41,
    "start_time": "2024-08-04T23:00:23.495Z"
   },
   {
    "duration": 368,
    "start_time": "2024-08-04T23:00:23.539Z"
   },
   {
    "duration": 30,
    "start_time": "2024-08-04T23:00:23.910Z"
   },
   {
    "duration": 332,
    "start_time": "2024-08-04T23:00:23.944Z"
   },
   {
    "duration": 488,
    "start_time": "2024-08-04T23:00:24.279Z"
   },
   {
    "duration": 0,
    "start_time": "2024-08-04T23:00:24.769Z"
   },
   {
    "duration": 0,
    "start_time": "2024-08-04T23:00:24.771Z"
   },
   {
    "duration": 1,
    "start_time": "2024-08-04T23:00:24.772Z"
   },
   {
    "duration": 0,
    "start_time": "2024-08-04T23:00:24.774Z"
   },
   {
    "duration": 0,
    "start_time": "2024-08-04T23:00:24.777Z"
   },
   {
    "duration": 1,
    "start_time": "2024-08-04T23:00:24.779Z"
   },
   {
    "duration": 0,
    "start_time": "2024-08-04T23:00:24.782Z"
   },
   {
    "duration": 0,
    "start_time": "2024-08-04T23:00:24.785Z"
   },
   {
    "duration": 0,
    "start_time": "2024-08-04T23:00:24.787Z"
   },
   {
    "duration": 0,
    "start_time": "2024-08-04T23:00:24.792Z"
   },
   {
    "duration": 1,
    "start_time": "2024-08-04T23:00:24.794Z"
   },
   {
    "duration": 0,
    "start_time": "2024-08-04T23:00:24.797Z"
   },
   {
    "duration": 0,
    "start_time": "2024-08-04T23:00:24.835Z"
   },
   {
    "duration": 0,
    "start_time": "2024-08-04T23:00:24.838Z"
   },
   {
    "duration": 0,
    "start_time": "2024-08-04T23:00:24.840Z"
   },
   {
    "duration": 0,
    "start_time": "2024-08-04T23:00:24.842Z"
   },
   {
    "duration": 0,
    "start_time": "2024-08-04T23:00:24.845Z"
   },
   {
    "duration": 0,
    "start_time": "2024-08-04T23:00:24.847Z"
   },
   {
    "duration": 0,
    "start_time": "2024-08-04T23:00:24.850Z"
   },
   {
    "duration": 0,
    "start_time": "2024-08-04T23:00:24.853Z"
   },
   {
    "duration": 32,
    "start_time": "2024-08-04T23:02:24.339Z"
   },
   {
    "duration": 174,
    "start_time": "2024-08-04T23:13:41.730Z"
   },
   {
    "duration": 7,
    "start_time": "2024-08-04T23:13:56.692Z"
   },
   {
    "duration": 16,
    "start_time": "2024-08-04T23:14:41.610Z"
   },
   {
    "duration": 17,
    "start_time": "2024-08-04T23:15:39.719Z"
   },
   {
    "duration": 845,
    "start_time": "2024-08-04T23:18:03.503Z"
   },
   {
    "duration": 230,
    "start_time": "2024-08-04T23:18:33.984Z"
   },
   {
    "duration": 290,
    "start_time": "2024-08-04T23:18:47.812Z"
   },
   {
    "duration": 18,
    "start_time": "2024-08-04T23:23:30.437Z"
   },
   {
    "duration": 7,
    "start_time": "2024-08-04T23:25:51.952Z"
   },
   {
    "duration": 25,
    "start_time": "2024-08-04T23:29:18.697Z"
   },
   {
    "duration": 33,
    "start_time": "2024-08-04T23:30:20.324Z"
   },
   {
    "duration": 14,
    "start_time": "2024-08-04T23:30:36.117Z"
   },
   {
    "duration": 26,
    "start_time": "2024-08-04T23:30:44.276Z"
   },
   {
    "duration": 300,
    "start_time": "2024-08-04T23:31:05.780Z"
   },
   {
    "duration": 295,
    "start_time": "2024-08-04T23:32:39.389Z"
   },
   {
    "duration": 26,
    "start_time": "2024-08-04T23:40:29.493Z"
   },
   {
    "duration": 17,
    "start_time": "2024-08-04T23:42:05.634Z"
   },
   {
    "duration": 31,
    "start_time": "2024-08-04T23:42:38.553Z"
   },
   {
    "duration": 25,
    "start_time": "2024-08-04T23:44:39.573Z"
   },
   {
    "duration": 22,
    "start_time": "2024-08-04T23:45:45.573Z"
   },
   {
    "duration": 1123,
    "start_time": "2024-08-04T23:46:03.772Z"
   },
   {
    "duration": 273,
    "start_time": "2024-08-04T23:46:04.900Z"
   },
   {
    "duration": 15,
    "start_time": "2024-08-04T23:46:05.176Z"
   },
   {
    "duration": 16,
    "start_time": "2024-08-04T23:46:05.194Z"
   },
   {
    "duration": 22,
    "start_time": "2024-08-04T23:46:05.215Z"
   },
   {
    "duration": 7,
    "start_time": "2024-08-04T23:46:05.240Z"
   },
   {
    "duration": 15,
    "start_time": "2024-08-04T23:46:05.250Z"
   },
   {
    "duration": 16,
    "start_time": "2024-08-04T23:46:05.268Z"
   },
   {
    "duration": 60,
    "start_time": "2024-08-04T23:46:05.286Z"
   },
   {
    "duration": 13,
    "start_time": "2024-08-04T23:46:05.349Z"
   },
   {
    "duration": 19,
    "start_time": "2024-08-04T23:46:05.366Z"
   },
   {
    "duration": 7,
    "start_time": "2024-08-04T23:46:05.388Z"
   },
   {
    "duration": 4,
    "start_time": "2024-08-04T23:46:05.436Z"
   },
   {
    "duration": 27,
    "start_time": "2024-08-04T23:46:05.447Z"
   },
   {
    "duration": 58,
    "start_time": "2024-08-04T23:46:05.477Z"
   },
   {
    "duration": 10,
    "start_time": "2024-08-04T23:46:05.539Z"
   },
   {
    "duration": 29,
    "start_time": "2024-08-04T23:46:05.552Z"
   },
   {
    "duration": 83,
    "start_time": "2024-08-04T23:46:05.583Z"
   },
   {
    "duration": 67,
    "start_time": "2024-08-04T23:46:05.668Z"
   },
   {
    "duration": 16,
    "start_time": "2024-08-04T23:46:05.738Z"
   },
   {
    "duration": 12,
    "start_time": "2024-08-04T23:46:05.756Z"
   },
   {
    "duration": 19,
    "start_time": "2024-08-04T23:46:05.771Z"
   },
   {
    "duration": 50,
    "start_time": "2024-08-04T23:46:05.792Z"
   },
   {
    "duration": 36,
    "start_time": "2024-08-04T23:46:05.846Z"
   },
   {
    "duration": 60,
    "start_time": "2024-08-04T23:46:05.885Z"
   },
   {
    "duration": 27,
    "start_time": "2024-08-04T23:46:05.948Z"
   },
   {
    "duration": 12,
    "start_time": "2024-08-04T23:46:05.978Z"
   },
   {
    "duration": 57,
    "start_time": "2024-08-04T23:46:05.993Z"
   },
   {
    "duration": 60,
    "start_time": "2024-08-04T23:46:06.056Z"
   },
   {
    "duration": 43,
    "start_time": "2024-08-04T23:46:06.135Z"
   },
   {
    "duration": 13,
    "start_time": "2024-08-04T23:46:06.181Z"
   },
   {
    "duration": 6,
    "start_time": "2024-08-04T23:46:06.197Z"
   },
   {
    "duration": 56,
    "start_time": "2024-08-04T23:46:06.237Z"
   },
   {
    "duration": 69,
    "start_time": "2024-08-04T23:46:06.296Z"
   },
   {
    "duration": 37,
    "start_time": "2024-08-04T23:46:06.368Z"
   },
   {
    "duration": 58,
    "start_time": "2024-08-04T23:46:06.408Z"
   },
   {
    "duration": 21,
    "start_time": "2024-08-04T23:46:06.469Z"
   },
   {
    "duration": 58,
    "start_time": "2024-08-04T23:46:06.494Z"
   },
   {
    "duration": 6,
    "start_time": "2024-08-04T23:46:06.555Z"
   },
   {
    "duration": 86,
    "start_time": "2024-08-04T23:46:06.563Z"
   },
   {
    "duration": 16,
    "start_time": "2024-08-04T23:46:06.659Z"
   },
   {
    "duration": 371,
    "start_time": "2024-08-04T23:46:06.678Z"
   },
   {
    "duration": 25,
    "start_time": "2024-08-04T23:46:07.052Z"
   },
   {
    "duration": 311,
    "start_time": "2024-08-04T23:46:07.080Z"
   },
   {
    "duration": 42,
    "start_time": "2024-08-04T23:46:07.394Z"
   },
   {
    "duration": 23,
    "start_time": "2024-08-04T23:46:07.440Z"
   },
   {
    "duration": 462,
    "start_time": "2024-08-04T23:46:07.466Z"
   },
   {
    "duration": 16,
    "start_time": "2024-08-04T23:46:07.934Z"
   },
   {
    "duration": 419,
    "start_time": "2024-08-04T23:46:07.953Z"
   },
   {
    "duration": 0,
    "start_time": "2024-08-04T23:46:08.375Z"
   },
   {
    "duration": 0,
    "start_time": "2024-08-04T23:46:08.377Z"
   },
   {
    "duration": 0,
    "start_time": "2024-08-04T23:46:08.380Z"
   },
   {
    "duration": 0,
    "start_time": "2024-08-04T23:46:08.382Z"
   },
   {
    "duration": 0,
    "start_time": "2024-08-04T23:46:08.385Z"
   },
   {
    "duration": 1,
    "start_time": "2024-08-04T23:46:08.386Z"
   },
   {
    "duration": 0,
    "start_time": "2024-08-04T23:46:08.389Z"
   },
   {
    "duration": 0,
    "start_time": "2024-08-04T23:46:08.391Z"
   },
   {
    "duration": 0,
    "start_time": "2024-08-04T23:46:08.392Z"
   },
   {
    "duration": 0,
    "start_time": "2024-08-04T23:46:08.395Z"
   },
   {
    "duration": 0,
    "start_time": "2024-08-04T23:46:08.397Z"
   },
   {
    "duration": 0,
    "start_time": "2024-08-04T23:46:08.398Z"
   },
   {
    "duration": 0,
    "start_time": "2024-08-04T23:46:08.399Z"
   },
   {
    "duration": 0,
    "start_time": "2024-08-04T23:46:08.400Z"
   },
   {
    "duration": 32,
    "start_time": "2024-08-04T23:46:08.401Z"
   },
   {
    "duration": 0,
    "start_time": "2024-08-04T23:46:08.436Z"
   },
   {
    "duration": 13,
    "start_time": "2024-08-04T23:47:03.564Z"
   },
   {
    "duration": 8,
    "start_time": "2024-08-04T23:47:38.879Z"
   },
   {
    "duration": 9,
    "start_time": "2024-08-04T23:48:22.355Z"
   },
   {
    "duration": 1160,
    "start_time": "2024-08-04T23:48:51.907Z"
   },
   {
    "duration": 286,
    "start_time": "2024-08-04T23:48:53.072Z"
   },
   {
    "duration": 22,
    "start_time": "2024-08-04T23:48:53.361Z"
   },
   {
    "duration": 16,
    "start_time": "2024-08-04T23:48:53.386Z"
   },
   {
    "duration": 27,
    "start_time": "2024-08-04T23:48:53.408Z"
   },
   {
    "duration": 6,
    "start_time": "2024-08-04T23:48:53.438Z"
   },
   {
    "duration": 17,
    "start_time": "2024-08-04T23:48:53.447Z"
   },
   {
    "duration": 17,
    "start_time": "2024-08-04T23:48:53.467Z"
   },
   {
    "duration": 54,
    "start_time": "2024-08-04T23:48:53.487Z"
   },
   {
    "duration": 14,
    "start_time": "2024-08-04T23:48:53.544Z"
   },
   {
    "duration": 19,
    "start_time": "2024-08-04T23:48:53.562Z"
   },
   {
    "duration": 6,
    "start_time": "2024-08-04T23:48:53.584Z"
   },
   {
    "duration": 43,
    "start_time": "2024-08-04T23:48:53.593Z"
   },
   {
    "duration": 25,
    "start_time": "2024-08-04T23:48:53.644Z"
   },
   {
    "duration": 25,
    "start_time": "2024-08-04T23:48:53.672Z"
   },
   {
    "duration": 12,
    "start_time": "2024-08-04T23:48:53.736Z"
   },
   {
    "duration": 29,
    "start_time": "2024-08-04T23:48:53.752Z"
   },
   {
    "duration": 84,
    "start_time": "2024-08-04T23:48:53.784Z"
   },
   {
    "duration": 69,
    "start_time": "2024-08-04T23:48:53.870Z"
   },
   {
    "duration": 16,
    "start_time": "2024-08-04T23:48:53.942Z"
   },
   {
    "duration": 12,
    "start_time": "2024-08-04T23:48:53.960Z"
   },
   {
    "duration": 10,
    "start_time": "2024-08-04T23:48:53.974Z"
   },
   {
    "duration": 57,
    "start_time": "2024-08-04T23:48:53.987Z"
   },
   {
    "duration": 11,
    "start_time": "2024-08-04T23:48:54.046Z"
   },
   {
    "duration": 50,
    "start_time": "2024-08-04T23:48:54.059Z"
   },
   {
    "duration": 31,
    "start_time": "2024-08-04T23:48:54.136Z"
   },
   {
    "duration": 22,
    "start_time": "2024-08-04T23:48:54.170Z"
   },
   {
    "duration": 40,
    "start_time": "2024-08-04T23:48:54.195Z"
   },
   {
    "duration": 25,
    "start_time": "2024-08-04T23:48:54.238Z"
   },
   {
    "duration": 86,
    "start_time": "2024-08-04T23:48:54.266Z"
   },
   {
    "duration": 40,
    "start_time": "2024-08-04T23:48:54.355Z"
   },
   {
    "duration": 37,
    "start_time": "2024-08-04T23:48:54.399Z"
   },
   {
    "duration": 6,
    "start_time": "2024-08-04T23:48:54.438Z"
   },
   {
    "duration": 54,
    "start_time": "2024-08-04T23:48:54.447Z"
   },
   {
    "duration": 53,
    "start_time": "2024-08-04T23:48:54.504Z"
   },
   {
    "duration": 34,
    "start_time": "2024-08-04T23:48:54.560Z"
   },
   {
    "duration": 62,
    "start_time": "2024-08-04T23:48:54.597Z"
   },
   {
    "duration": 21,
    "start_time": "2024-08-04T23:48:54.662Z"
   },
   {
    "duration": 61,
    "start_time": "2024-08-04T23:48:54.686Z"
   },
   {
    "duration": 6,
    "start_time": "2024-08-04T23:48:54.750Z"
   },
   {
    "duration": 79,
    "start_time": "2024-08-04T23:48:54.767Z"
   },
   {
    "duration": 18,
    "start_time": "2024-08-04T23:48:54.848Z"
   },
   {
    "duration": 368,
    "start_time": "2024-08-04T23:48:54.869Z"
   },
   {
    "duration": 26,
    "start_time": "2024-08-04T23:48:55.241Z"
   },
   {
    "duration": 320,
    "start_time": "2024-08-04T23:48:55.271Z"
   },
   {
    "duration": 22,
    "start_time": "2024-08-04T23:48:55.595Z"
   },
   {
    "duration": 23,
    "start_time": "2024-08-04T23:48:55.635Z"
   },
   {
    "duration": 479,
    "start_time": "2024-08-04T23:48:55.661Z"
   },
   {
    "duration": 16,
    "start_time": "2024-08-04T23:48:56.146Z"
   },
   {
    "duration": 436,
    "start_time": "2024-08-04T23:48:56.165Z"
   },
   {
    "duration": 0,
    "start_time": "2024-08-04T23:48:56.604Z"
   },
   {
    "duration": 0,
    "start_time": "2024-08-04T23:48:56.607Z"
   },
   {
    "duration": 0,
    "start_time": "2024-08-04T23:48:56.609Z"
   },
   {
    "duration": 0,
    "start_time": "2024-08-04T23:48:56.611Z"
   },
   {
    "duration": 0,
    "start_time": "2024-08-04T23:48:56.614Z"
   },
   {
    "duration": 0,
    "start_time": "2024-08-04T23:48:56.616Z"
   },
   {
    "duration": 0,
    "start_time": "2024-08-04T23:48:56.636Z"
   },
   {
    "duration": 0,
    "start_time": "2024-08-04T23:48:56.637Z"
   },
   {
    "duration": 0,
    "start_time": "2024-08-04T23:48:56.643Z"
   },
   {
    "duration": 0,
    "start_time": "2024-08-04T23:48:56.646Z"
   },
   {
    "duration": 0,
    "start_time": "2024-08-04T23:48:56.650Z"
   },
   {
    "duration": 0,
    "start_time": "2024-08-04T23:48:56.651Z"
   },
   {
    "duration": 0,
    "start_time": "2024-08-04T23:48:56.653Z"
   },
   {
    "duration": 0,
    "start_time": "2024-08-04T23:48:56.656Z"
   },
   {
    "duration": 0,
    "start_time": "2024-08-04T23:48:56.658Z"
   },
   {
    "duration": 0,
    "start_time": "2024-08-04T23:48:56.661Z"
   },
   {
    "duration": 22,
    "start_time": "2024-08-04T23:50:13.416Z"
   },
   {
    "duration": 21,
    "start_time": "2024-08-04T23:50:36.999Z"
   },
   {
    "duration": 250,
    "start_time": "2024-08-04T23:52:07.204Z"
   },
   {
    "duration": 358,
    "start_time": "2024-08-04T23:52:13.768Z"
   },
   {
    "duration": 323,
    "start_time": "2024-08-04T23:52:34.662Z"
   },
   {
    "duration": 15,
    "start_time": "2024-08-04T23:53:04.792Z"
   },
   {
    "duration": 17,
    "start_time": "2024-08-04T23:53:25.389Z"
   },
   {
    "duration": 272,
    "start_time": "2024-08-04T23:57:00.355Z"
   },
   {
    "duration": 273,
    "start_time": "2024-08-04T23:57:34.435Z"
   },
   {
    "duration": 454,
    "start_time": "2024-08-04T23:58:13.127Z"
   },
   {
    "duration": 7,
    "start_time": "2024-08-05T00:12:27.806Z"
   },
   {
    "duration": 6,
    "start_time": "2024-08-05T00:14:07.694Z"
   },
   {
    "duration": 1322,
    "start_time": "2024-08-05T00:15:46.372Z"
   },
   {
    "duration": 9,
    "start_time": "2024-08-05T00:17:19.539Z"
   },
   {
    "duration": 9,
    "start_time": "2024-08-05T00:17:24.848Z"
   },
   {
    "duration": 15,
    "start_time": "2024-08-05T00:17:34.628Z"
   },
   {
    "duration": 14,
    "start_time": "2024-08-05T00:18:35.474Z"
   },
   {
    "duration": 16,
    "start_time": "2024-08-05T00:18:45.783Z"
   },
   {
    "duration": 27,
    "start_time": "2024-08-05T00:22:44.031Z"
   },
   {
    "duration": 23,
    "start_time": "2024-08-05T00:25:10.028Z"
   },
   {
    "duration": 17,
    "start_time": "2024-08-05T00:25:52.243Z"
   },
   {
    "duration": 21,
    "start_time": "2024-08-05T00:26:41.796Z"
   },
   {
    "duration": 20,
    "start_time": "2024-08-05T00:30:45.955Z"
   },
   {
    "duration": 15,
    "start_time": "2024-08-05T00:34:14.828Z"
   },
   {
    "duration": 17,
    "start_time": "2024-08-05T00:37:26.292Z"
   },
   {
    "duration": 339,
    "start_time": "2024-08-05T00:37:47.789Z"
   },
   {
    "duration": 274,
    "start_time": "2024-08-05T00:44:44.076Z"
   },
   {
    "duration": 379,
    "start_time": "2024-08-05T00:46:05.113Z"
   },
   {
    "duration": 237,
    "start_time": "2024-08-05T00:47:09.287Z"
   },
   {
    "duration": 351,
    "start_time": "2024-08-05T00:47:24.578Z"
   },
   {
    "duration": 451,
    "start_time": "2024-08-05T00:47:42.711Z"
   },
   {
    "duration": 506,
    "start_time": "2024-08-05T00:48:19.165Z"
   },
   {
    "duration": 611,
    "start_time": "2024-08-05T00:48:40.453Z"
   },
   {
    "duration": 366,
    "start_time": "2024-08-05T00:49:00.400Z"
   },
   {
    "duration": 396,
    "start_time": "2024-08-05T00:50:09.258Z"
   },
   {
    "duration": 47,
    "start_time": "2024-08-05T00:50:46.128Z"
   },
   {
    "duration": 88,
    "start_time": "2024-08-05T00:50:50.100Z"
   },
   {
    "duration": 206,
    "start_time": "2024-08-05T00:50:56.033Z"
   },
   {
    "duration": 115,
    "start_time": "2024-08-05T00:51:00.149Z"
   },
   {
    "duration": 87,
    "start_time": "2024-08-05T00:51:45.747Z"
   },
   {
    "duration": 36,
    "start_time": "2024-08-05T00:51:48.890Z"
   },
   {
    "duration": 35,
    "start_time": "2024-08-05T00:51:56.565Z"
   },
   {
    "duration": 36,
    "start_time": "2024-08-05T00:53:06.710Z"
   },
   {
    "duration": 26,
    "start_time": "2024-08-05T00:54:39.724Z"
   },
   {
    "duration": 45,
    "start_time": "2024-08-05T00:56:14.943Z"
   },
   {
    "duration": 1138,
    "start_time": "2024-08-05T01:02:38.249Z"
   },
   {
    "duration": 283,
    "start_time": "2024-08-05T01:02:39.391Z"
   },
   {
    "duration": 16,
    "start_time": "2024-08-05T01:02:39.677Z"
   },
   {
    "duration": 16,
    "start_time": "2024-08-05T01:02:39.696Z"
   },
   {
    "duration": 23,
    "start_time": "2024-08-05T01:02:39.715Z"
   },
   {
    "duration": 7,
    "start_time": "2024-08-05T01:02:39.741Z"
   },
   {
    "duration": 14,
    "start_time": "2024-08-05T01:02:39.752Z"
   },
   {
    "duration": 16,
    "start_time": "2024-08-05T01:02:39.769Z"
   },
   {
    "duration": 55,
    "start_time": "2024-08-05T01:02:39.787Z"
   },
   {
    "duration": 13,
    "start_time": "2024-08-05T01:02:39.850Z"
   },
   {
    "duration": 19,
    "start_time": "2024-08-05T01:02:39.867Z"
   },
   {
    "duration": 48,
    "start_time": "2024-08-05T01:02:39.889Z"
   },
   {
    "duration": 4,
    "start_time": "2024-08-05T01:02:39.940Z"
   },
   {
    "duration": 20,
    "start_time": "2024-08-05T01:02:39.948Z"
   },
   {
    "duration": 63,
    "start_time": "2024-08-05T01:02:39.972Z"
   },
   {
    "duration": 12,
    "start_time": "2024-08-05T01:02:40.038Z"
   },
   {
    "duration": 31,
    "start_time": "2024-08-05T01:02:40.054Z"
   },
   {
    "duration": 83,
    "start_time": "2024-08-05T01:02:40.088Z"
   },
   {
    "duration": 72,
    "start_time": "2024-08-05T01:02:40.174Z"
   },
   {
    "duration": 18,
    "start_time": "2024-08-05T01:02:40.249Z"
   },
   {
    "duration": 11,
    "start_time": "2024-08-05T01:02:40.270Z"
   },
   {
    "duration": 10,
    "start_time": "2024-08-05T01:02:40.283Z"
   },
   {
    "duration": 56,
    "start_time": "2024-08-05T01:02:40.296Z"
   },
   {
    "duration": 10,
    "start_time": "2024-08-05T01:02:40.355Z"
   },
   {
    "duration": 35,
    "start_time": "2024-08-05T01:02:40.368Z"
   },
   {
    "duration": 31,
    "start_time": "2024-08-05T01:02:40.435Z"
   },
   {
    "duration": 22,
    "start_time": "2024-08-05T01:02:40.470Z"
   },
   {
    "duration": 39,
    "start_time": "2024-08-05T01:02:40.501Z"
   },
   {
    "duration": 25,
    "start_time": "2024-08-05T01:02:40.543Z"
   },
   {
    "duration": 85,
    "start_time": "2024-08-05T01:02:40.571Z"
   },
   {
    "duration": 40,
    "start_time": "2024-08-05T01:02:40.659Z"
   },
   {
    "duration": 37,
    "start_time": "2024-08-05T01:02:40.702Z"
   },
   {
    "duration": 6,
    "start_time": "2024-08-05T01:02:40.742Z"
   },
   {
    "duration": 51,
    "start_time": "2024-08-05T01:02:40.751Z"
   },
   {
    "duration": 59,
    "start_time": "2024-08-05T01:02:40.805Z"
   },
   {
    "duration": 34,
    "start_time": "2024-08-05T01:02:40.867Z"
   },
   {
    "duration": 61,
    "start_time": "2024-08-05T01:02:40.904Z"
   },
   {
    "duration": 21,
    "start_time": "2024-08-05T01:02:40.968Z"
   },
   {
    "duration": 49,
    "start_time": "2024-08-05T01:02:40.992Z"
   },
   {
    "duration": 6,
    "start_time": "2024-08-05T01:02:41.044Z"
   },
   {
    "duration": 45,
    "start_time": "2024-08-05T01:02:41.053Z"
   },
   {
    "duration": 71,
    "start_time": "2024-08-05T01:02:41.102Z"
   },
   {
    "duration": 103,
    "start_time": "2024-08-05T01:02:41.176Z"
   },
   {
    "duration": 92,
    "start_time": "2024-08-05T01:02:41.282Z"
   },
   {
    "duration": 37,
    "start_time": "2024-08-05T01:02:41.376Z"
   },
   {
    "duration": 34,
    "start_time": "2024-08-05T01:02:41.415Z"
   },
   {
    "duration": 371,
    "start_time": "2024-08-05T01:02:41.452Z"
   },
   {
    "duration": 30,
    "start_time": "2024-08-05T01:02:41.833Z"
   },
   {
    "duration": 299,
    "start_time": "2024-08-05T01:02:41.868Z"
   },
   {
    "duration": 23,
    "start_time": "2024-08-05T01:02:42.170Z"
   },
   {
    "duration": 46,
    "start_time": "2024-08-05T01:02:42.197Z"
   },
   {
    "duration": 469,
    "start_time": "2024-08-05T01:02:42.246Z"
   },
   {
    "duration": 26,
    "start_time": "2024-08-05T01:02:42.719Z"
   },
   {
    "duration": 17,
    "start_time": "2024-08-05T01:02:42.748Z"
   },
   {
    "duration": 17,
    "start_time": "2024-08-05T01:02:42.768Z"
   },
   {
    "duration": 362,
    "start_time": "2024-08-05T01:02:42.788Z"
   },
   {
    "duration": 286,
    "start_time": "2024-08-05T01:02:43.153Z"
   },
   {
    "duration": 379,
    "start_time": "2024-08-05T01:02:43.442Z"
   },
   {
    "duration": 23,
    "start_time": "2024-08-05T01:02:43.824Z"
   },
   {
    "duration": 18,
    "start_time": "2024-08-05T01:02:43.850Z"
   },
   {
    "duration": 16,
    "start_time": "2024-08-05T01:02:43.871Z"
   },
   {
    "duration": 381,
    "start_time": "2024-08-05T01:02:43.890Z"
   },
   {
    "duration": 636,
    "start_time": "2024-08-05T01:02:44.274Z"
   },
   {
    "duration": 383,
    "start_time": "2024-08-05T01:02:44.912Z"
   },
   {
    "duration": 57,
    "start_time": "2024-08-05T01:02:45.298Z"
   },
   {
    "duration": 98,
    "start_time": "2024-08-05T01:02:45.358Z"
   },
   {
    "duration": 95,
    "start_time": "2024-08-05T01:02:45.459Z"
   },
   {
    "duration": 38,
    "start_time": "2024-08-05T01:02:45.558Z"
   },
   {
    "duration": 12,
    "start_time": "2024-08-05T01:02:45.598Z"
   },
   {
    "duration": 14,
    "start_time": "2024-08-05T01:02:45.634Z"
   },
   {
    "duration": 7,
    "start_time": "2024-08-05T01:02:45.651Z"
   },
   {
    "duration": 130,
    "start_time": "2024-08-05T01:02:45.662Z"
   },
   {
    "duration": 5,
    "start_time": "2024-08-05T01:02:45.795Z"
   },
   {
    "duration": 796,
    "start_time": "2024-08-05T01:09:40.901Z"
   },
   {
    "duration": 14,
    "start_time": "2024-08-05T01:09:59.764Z"
   },
   {
    "duration": 24,
    "start_time": "2024-08-05T01:11:31.699Z"
   },
   {
    "duration": 26,
    "start_time": "2024-08-05T01:12:20.049Z"
   },
   {
    "duration": 25,
    "start_time": "2024-08-05T01:13:16.105Z"
   },
   {
    "duration": 21,
    "start_time": "2024-08-05T01:15:10.392Z"
   },
   {
    "duration": 636,
    "start_time": "2024-08-05T01:16:23.536Z"
   },
   {
    "duration": 15,
    "start_time": "2024-08-05T01:16:56.296Z"
   },
   {
    "duration": 437,
    "start_time": "2024-08-05T01:17:00.897Z"
   },
   {
    "duration": 14,
    "start_time": "2024-08-05T01:17:24.828Z"
   },
   {
    "duration": 516,
    "start_time": "2024-08-05T01:17:28.682Z"
   },
   {
    "duration": 23,
    "start_time": "2024-08-05T01:17:54.925Z"
   },
   {
    "duration": 23,
    "start_time": "2024-08-05T01:18:54.085Z"
   },
   {
    "duration": 342,
    "start_time": "2024-08-05T01:19:31.974Z"
   },
   {
    "duration": 633,
    "start_time": "2024-08-05T01:21:16.287Z"
   },
   {
    "duration": 266,
    "start_time": "2024-08-05T01:21:43.974Z"
   },
   {
    "duration": 339,
    "start_time": "2024-08-05T01:22:04.860Z"
   },
   {
    "duration": 371,
    "start_time": "2024-08-05T01:23:25.479Z"
   },
   {
    "duration": 19,
    "start_time": "2024-08-05T01:31:00.524Z"
   },
   {
    "duration": 7,
    "start_time": "2024-08-05T01:34:54.872Z"
   },
   {
    "duration": 6,
    "start_time": "2024-08-05T01:36:03.215Z"
   },
   {
    "duration": 196,
    "start_time": "2024-08-05T01:37:02.039Z"
   },
   {
    "duration": 371,
    "start_time": "2024-08-05T01:38:56.828Z"
   },
   {
    "duration": 38,
    "start_time": "2024-08-05T01:42:08.407Z"
   },
   {
    "duration": 33,
    "start_time": "2024-08-05T02:00:52.835Z"
   },
   {
    "duration": 653,
    "start_time": "2024-08-05T02:01:10.733Z"
   },
   {
    "duration": 540,
    "start_time": "2024-08-05T02:04:59.595Z"
   },
   {
    "duration": 11,
    "start_time": "2024-08-05T02:07:50.030Z"
   },
   {
    "duration": 10,
    "start_time": "2024-08-05T02:08:58.176Z"
   },
   {
    "duration": 260,
    "start_time": "2024-08-05T02:26:08.931Z"
   },
   {
    "duration": 433,
    "start_time": "2024-08-05T02:32:15.582Z"
   },
   {
    "duration": 275,
    "start_time": "2024-08-05T02:34:29.235Z"
   },
   {
    "duration": 262,
    "start_time": "2024-08-05T02:37:46.374Z"
   },
   {
    "duration": 358,
    "start_time": "2024-08-05T02:38:00.241Z"
   },
   {
    "duration": 276,
    "start_time": "2024-08-05T02:38:15.784Z"
   },
   {
    "duration": 283,
    "start_time": "2024-08-05T02:39:59.938Z"
   },
   {
    "duration": 19,
    "start_time": "2024-08-05T02:40:41.686Z"
   },
   {
    "duration": 319,
    "start_time": "2024-08-05T02:41:19.169Z"
   },
   {
    "duration": 272,
    "start_time": "2024-08-05T02:41:53.876Z"
   },
   {
    "duration": 1198,
    "start_time": "2024-08-05T02:43:18.329Z"
   },
   {
    "duration": 284,
    "start_time": "2024-08-05T02:43:19.532Z"
   },
   {
    "duration": 18,
    "start_time": "2024-08-05T02:43:19.818Z"
   },
   {
    "duration": 18,
    "start_time": "2024-08-05T02:43:19.841Z"
   },
   {
    "duration": 8,
    "start_time": "2024-08-05T02:43:19.862Z"
   },
   {
    "duration": 6,
    "start_time": "2024-08-05T02:43:19.873Z"
   },
   {
    "duration": 52,
    "start_time": "2024-08-05T02:43:19.882Z"
   },
   {
    "duration": 17,
    "start_time": "2024-08-05T02:43:19.938Z"
   },
   {
    "duration": 16,
    "start_time": "2024-08-05T02:43:19.958Z"
   },
   {
    "duration": 57,
    "start_time": "2024-08-05T02:43:19.979Z"
   },
   {
    "duration": 20,
    "start_time": "2024-08-05T02:43:20.041Z"
   },
   {
    "duration": 7,
    "start_time": "2024-08-05T02:43:20.064Z"
   },
   {
    "duration": 5,
    "start_time": "2024-08-05T02:43:20.073Z"
   },
   {
    "duration": 61,
    "start_time": "2024-08-05T02:43:20.082Z"
   },
   {
    "duration": 26,
    "start_time": "2024-08-05T02:43:20.146Z"
   },
   {
    "duration": 11,
    "start_time": "2024-08-05T02:43:20.175Z"
   },
   {
    "duration": 66,
    "start_time": "2024-08-05T02:43:20.188Z"
   },
   {
    "duration": 52,
    "start_time": "2024-08-05T02:43:20.257Z"
   },
   {
    "duration": 70,
    "start_time": "2024-08-05T02:43:20.312Z"
   },
   {
    "duration": 16,
    "start_time": "2024-08-05T02:43:20.385Z"
   },
   {
    "duration": 40,
    "start_time": "2024-08-05T02:43:20.404Z"
   },
   {
    "duration": 12,
    "start_time": "2024-08-05T02:43:20.446Z"
   },
   {
    "duration": 20,
    "start_time": "2024-08-05T02:43:20.460Z"
   },
   {
    "duration": 50,
    "start_time": "2024-08-05T02:43:20.484Z"
   },
   {
    "duration": 35,
    "start_time": "2024-08-05T02:43:20.537Z"
   },
   {
    "duration": 32,
    "start_time": "2024-08-05T02:43:20.575Z"
   },
   {
    "duration": 27,
    "start_time": "2024-08-05T02:43:20.634Z"
   },
   {
    "duration": 11,
    "start_time": "2024-08-05T02:43:20.670Z"
   },
   {
    "duration": 51,
    "start_time": "2024-08-05T02:43:20.684Z"
   },
   {
    "duration": 57,
    "start_time": "2024-08-05T02:43:20.739Z"
   },
   {
    "duration": 60,
    "start_time": "2024-08-05T02:43:20.799Z"
   },
   {
    "duration": 13,
    "start_time": "2024-08-05T02:43:20.861Z"
   },
   {
    "duration": 5,
    "start_time": "2024-08-05T02:43:20.877Z"
   },
   {
    "duration": 84,
    "start_time": "2024-08-05T02:43:20.885Z"
   },
   {
    "duration": 33,
    "start_time": "2024-08-05T02:43:20.972Z"
   },
   {
    "duration": 56,
    "start_time": "2024-08-05T02:43:21.008Z"
   },
   {
    "duration": 37,
    "start_time": "2024-08-05T02:43:21.067Z"
   },
   {
    "duration": 44,
    "start_time": "2024-08-05T02:43:21.108Z"
   },
   {
    "duration": 25,
    "start_time": "2024-08-05T02:43:21.155Z"
   },
   {
    "duration": 5,
    "start_time": "2024-08-05T02:43:21.183Z"
   },
   {
    "duration": 82,
    "start_time": "2024-08-05T02:43:21.191Z"
   },
   {
    "duration": 43,
    "start_time": "2024-08-05T02:43:21.276Z"
   },
   {
    "duration": 94,
    "start_time": "2024-08-05T02:43:21.322Z"
   },
   {
    "duration": 99,
    "start_time": "2024-08-05T02:43:21.418Z"
   },
   {
    "duration": 45,
    "start_time": "2024-08-05T02:43:21.520Z"
   },
   {
    "duration": 16,
    "start_time": "2024-08-05T02:43:21.568Z"
   },
   {
    "duration": 377,
    "start_time": "2024-08-05T02:43:21.587Z"
   },
   {
    "duration": 24,
    "start_time": "2024-08-05T02:43:21.967Z"
   },
   {
    "duration": 323,
    "start_time": "2024-08-05T02:43:21.994Z"
   },
   {
    "duration": 30,
    "start_time": "2024-08-05T02:43:22.320Z"
   },
   {
    "duration": 23,
    "start_time": "2024-08-05T02:43:22.352Z"
   },
   {
    "duration": 474,
    "start_time": "2024-08-05T02:43:22.378Z"
   },
   {
    "duration": 20,
    "start_time": "2024-08-05T02:43:22.856Z"
   },
   {
    "duration": 18,
    "start_time": "2024-08-05T02:43:22.879Z"
   },
   {
    "duration": 46,
    "start_time": "2024-08-05T02:43:22.900Z"
   },
   {
    "duration": 374,
    "start_time": "2024-08-05T02:43:22.949Z"
   },
   {
    "duration": 281,
    "start_time": "2024-08-05T02:43:23.326Z"
   },
   {
    "duration": 382,
    "start_time": "2024-08-05T02:43:23.610Z"
   },
   {
    "duration": 18,
    "start_time": "2024-08-05T02:43:23.996Z"
   },
   {
    "duration": 18,
    "start_time": "2024-08-05T02:43:24.033Z"
   },
   {
    "duration": 26,
    "start_time": "2024-08-05T02:43:24.054Z"
   },
   {
    "duration": 373,
    "start_time": "2024-08-05T02:43:24.084Z"
   },
   {
    "duration": 625,
    "start_time": "2024-08-05T02:43:24.460Z"
   },
   {
    "duration": 389,
    "start_time": "2024-08-05T02:43:25.089Z"
   },
   {
    "duration": 20,
    "start_time": "2024-08-05T02:43:25.481Z"
   },
   {
    "duration": 488,
    "start_time": "2024-08-05T02:43:25.504Z"
   },
   {
    "duration": 361,
    "start_time": "2024-08-05T02:43:25.995Z"
   },
   {
    "duration": 398,
    "start_time": "2024-08-05T02:43:26.359Z"
   },
   {
    "duration": 299,
    "start_time": "2024-08-05T02:43:26.760Z"
   },
   {
    "duration": 267,
    "start_time": "2024-08-05T02:43:27.062Z"
   },
   {
    "duration": 284,
    "start_time": "2024-08-05T02:43:27.335Z"
   },
   {
    "duration": 270,
    "start_time": "2024-08-05T02:43:27.622Z"
   },
   {
    "duration": 13,
    "start_time": "2024-08-05T02:43:27.895Z"
   },
   {
    "duration": 25,
    "start_time": "2024-08-05T02:43:27.911Z"
   },
   {
    "duration": 14,
    "start_time": "2024-08-05T02:43:27.939Z"
   },
   {
    "duration": 6,
    "start_time": "2024-08-05T02:43:27.956Z"
   },
   {
    "duration": 13,
    "start_time": "2024-08-05T03:01:06.706Z"
   },
   {
    "duration": 12,
    "start_time": "2024-08-05T03:03:52.501Z"
   },
   {
    "duration": 320,
    "start_time": "2024-08-05T03:06:25.233Z"
   },
   {
    "duration": 14,
    "start_time": "2024-08-05T03:48:24.715Z"
   },
   {
    "duration": 10,
    "start_time": "2024-08-05T04:11:27.839Z"
   },
   {
    "duration": 10,
    "start_time": "2024-08-05T04:13:51.407Z"
   },
   {
    "duration": 8,
    "start_time": "2024-08-05T04:14:26.545Z"
   },
   {
    "duration": 10,
    "start_time": "2024-08-05T04:23:57.805Z"
   }
  ],
  "colab": {
   "provenance": []
  },
  "kernelspec": {
   "display_name": "Python 3 (ipykernel)",
   "language": "python",
   "name": "python3"
  },
  "language_info": {
   "codemirror_mode": {
    "name": "ipython",
    "version": 3
   },
   "file_extension": ".py",
   "mimetype": "text/x-python",
   "name": "python",
   "nbconvert_exporter": "python",
   "pygments_lexer": "ipython3",
   "version": "3.9.19"
  },
  "toc": {
   "base_numbering": 1,
   "nav_menu": {},
   "number_sections": true,
   "sideBar": true,
   "skip_h1_title": false,
   "title_cell": "Table of Contents",
   "title_sidebar": "Contents",
   "toc_cell": false,
   "toc_position": {
    "height": "calc(100% - 180px)",
    "left": "10px",
    "top": "150px",
    "width": "338.223px"
   },
   "toc_section_display": true,
   "toc_window_display": true
  }
 },
 "nbformat": 4,
 "nbformat_minor": 1
}
